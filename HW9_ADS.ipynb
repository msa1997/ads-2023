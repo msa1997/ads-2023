{
  "nbformat": 4,
  "nbformat_minor": 0,
  "metadata": {
    "colab": {
      "provenance": [],
      "collapsed_sections": [
        "0qflugMpsmIO",
        "j4NwAcaj2-U6",
        "rYcHARBOmDvp",
        "E6-ti6joutVN",
        "RcNzDhYwr0K7"
      ],
      "include_colab_link": true
    },
    "kernelspec": {
      "name": "python3",
      "display_name": "Python 3"
    },
    "language_info": {
      "name": "python"
    }
  },
  "cells": [
    {
      "cell_type": "markdown",
      "metadata": {
        "id": "view-in-github",
        "colab_type": "text"
      },
      "source": [
        "<a href=\"https://colab.research.google.com/github/msa1997/ads-2023/blob/main/HW9_ADS.ipynb\" target=\"_parent\"><img src=\"https://colab.research.google.com/assets/colab-badge.svg\" alt=\"Open In Colab\"/></a>"
      ]
    },
    {
      "cell_type": "markdown",
      "source": [
        "# Loading data from Kaggle"
      ],
      "metadata": {
        "id": "Sn97GEWmChsc"
      }
    },
    {
      "cell_type": "markdown",
      "source": [
        "### We load the datasets directly from Kaggle."
      ],
      "metadata": {
        "id": "o3xxpTAiCnWX"
      }
    },
    {
      "cell_type": "code",
      "execution_count": null,
      "metadata": {
        "colab": {
          "base_uri": "https://localhost:8080/"
        },
        "id": "8i4N7kjsB5wa",
        "outputId": "069f9c7c-d913-450d-bff9-d88472a2ac76"
      },
      "outputs": [
        {
          "output_type": "stream",
          "name": "stdout",
          "text": [
            "Requirement already satisfied: kaggle in /usr/local/lib/python3.10/dist-packages (1.5.16)\n",
            "Requirement already satisfied: six>=1.10 in /usr/local/lib/python3.10/dist-packages (from kaggle) (1.16.0)\n",
            "Requirement already satisfied: certifi in /usr/local/lib/python3.10/dist-packages (from kaggle) (2023.11.17)\n",
            "Requirement already satisfied: python-dateutil in /usr/local/lib/python3.10/dist-packages (from kaggle) (2.8.2)\n",
            "Requirement already satisfied: requests in /usr/local/lib/python3.10/dist-packages (from kaggle) (2.31.0)\n",
            "Requirement already satisfied: tqdm in /usr/local/lib/python3.10/dist-packages (from kaggle) (4.66.1)\n",
            "Requirement already satisfied: python-slugify in /usr/local/lib/python3.10/dist-packages (from kaggle) (8.0.1)\n",
            "Requirement already satisfied: urllib3 in /usr/local/lib/python3.10/dist-packages (from kaggle) (2.0.7)\n",
            "Requirement already satisfied: bleach in /usr/local/lib/python3.10/dist-packages (from kaggle) (6.1.0)\n",
            "Requirement already satisfied: webencodings in /usr/local/lib/python3.10/dist-packages (from bleach->kaggle) (0.5.1)\n",
            "Requirement already satisfied: text-unidecode>=1.3 in /usr/local/lib/python3.10/dist-packages (from python-slugify->kaggle) (1.3)\n",
            "Requirement already satisfied: charset-normalizer<4,>=2 in /usr/local/lib/python3.10/dist-packages (from requests->kaggle) (3.3.2)\n",
            "Requirement already satisfied: idna<4,>=2.5 in /usr/local/lib/python3.10/dist-packages (from requests->kaggle) (3.6)\n"
          ]
        }
      ],
      "source": [
        "! pip install kaggle\n",
        "! mkdir ~/.kaggle\n",
        "! echo \"{\\\"username\\\":\\\"mohammadaliysz\\\",\\\"key\\\":\\\"e8f68a5df34c6dc24642db4faf2c79c5\\\"}\" > kaggle.json\n",
        "! cp kaggle.json ~/.kaggle/\n",
        "! chmod 600 ~/.kaggle/kaggle.json"
      ]
    },
    {
      "cell_type": "code",
      "source": [
        "!kaggle datasets download -d rashikrahmanpritom/heart-attack-analysis-prediction-dataset\n",
        "!kaggle datasets download -d mirichoi0218/insurance"
      ],
      "metadata": {
        "colab": {
          "base_uri": "https://localhost:8080/"
        },
        "id": "xaPvGGlNB_j1",
        "outputId": "1a58a058-4418-489d-b44c-e16223f8fb06"
      },
      "execution_count": null,
      "outputs": [
        {
          "output_type": "stream",
          "name": "stdout",
          "text": [
            "Downloading heart-attack-analysis-prediction-dataset.zip to /content\n",
            "\r  0% 0.00/4.11k [00:00<?, ?B/s]\n",
            "100% 4.11k/4.11k [00:00<00:00, 7.80MB/s]\n",
            "Downloading insurance.zip to /content\n",
            "  0% 0.00/16.0k [00:00<?, ?B/s]\n",
            "100% 16.0k/16.0k [00:00<00:00, 33.1MB/s]\n"
          ]
        }
      ]
    },
    {
      "cell_type": "code",
      "source": [
        "!unzip heart-attack-analysis-prediction-dataset\n",
        "!unzip insurance"
      ],
      "metadata": {
        "colab": {
          "base_uri": "https://localhost:8080/"
        },
        "id": "AuXFupw5CUzr",
        "outputId": "a6bdf10a-b404-458b-9f29-f03c9e6c2746"
      },
      "execution_count": null,
      "outputs": [
        {
          "output_type": "stream",
          "name": "stdout",
          "text": [
            "Archive:  heart-attack-analysis-prediction-dataset.zip\n",
            "  inflating: heart.csv               \n",
            "  inflating: o2Saturation.csv        \n",
            "Archive:  insurance.zip\n",
            "  inflating: insurance.csv           \n"
          ]
        }
      ]
    },
    {
      "cell_type": "markdown",
      "source": [
        "# Library"
      ],
      "metadata": {
        "id": "GhOEoXkgCrLa"
      }
    },
    {
      "cell_type": "code",
      "source": [
        "from IPython.display import clear_output\n",
        "\n",
        "import pandas as pd\n",
        "import io\n",
        "import numpy as np\n",
        "import seaborn as sns #visualisation\n",
        "import matplotlib.pyplot as plt\n",
        "import pylab as pl\n",
        "\n"
      ],
      "metadata": {
        "id": "wfe8K_aKCaeq"
      },
      "execution_count": null,
      "outputs": []
    },
    {
      "cell_type": "markdown",
      "source": [
        "# Datasets"
      ],
      "metadata": {
        "id": "wns2LsZiQ7uB"
      }
    },
    {
      "cell_type": "markdown",
      "source": [
        "For this assignment, we used two different datasets. The first dataset ,used previously in *Assignment 5*, is **heart attack analysis**. which we will use to do the Classification part of this assignment.\n",
        "The second dataset ,which we will use to do the Regression part is the **insurance** dataset.\n",
        "\n",
        "Since we are already familiar with these datasets, we will skip the dataset full description."
      ],
      "metadata": {
        "id": "0XINInKLRX2k"
      }
    },
    {
      "cell_type": "markdown",
      "source": [
        "### Classification Dataset (heart attack)"
      ],
      "metadata": {
        "id": "WrnOEDutVaNS"
      }
    },
    {
      "cell_type": "code",
      "source": [
        "clf_df = pd.read_csv('heart.csv')\n",
        "print(clf_df.shape)\n",
        "clf_df.head(6)"
      ],
      "metadata": {
        "colab": {
          "base_uri": "https://localhost:8080/",
          "height": 255
        },
        "id": "SYiHT2KBVZVW",
        "outputId": "cc36b154-db3a-451a-c668-8032701e8b23"
      },
      "execution_count": null,
      "outputs": [
        {
          "output_type": "stream",
          "name": "stdout",
          "text": [
            "(303, 14)\n"
          ]
        },
        {
          "output_type": "execute_result",
          "data": {
            "text/plain": [
              "   age  sex  cp  trtbps  chol  fbs  restecg  thalachh  exng  oldpeak  slp  \\\n",
              "0   63    1   3     145   233    1        0       150     0      2.3    0   \n",
              "1   37    1   2     130   250    0        1       187     0      3.5    0   \n",
              "2   41    0   1     130   204    0        0       172     0      1.4    2   \n",
              "3   56    1   1     120   236    0        1       178     0      0.8    2   \n",
              "4   57    0   0     120   354    0        1       163     1      0.6    2   \n",
              "5   57    1   0     140   192    0        1       148     0      0.4    1   \n",
              "\n",
              "   caa  thall  output  \n",
              "0    0      1       1  \n",
              "1    0      2       1  \n",
              "2    0      2       1  \n",
              "3    0      2       1  \n",
              "4    0      2       1  \n",
              "5    0      1       1  "
            ],
            "text/html": [
              "\n",
              "  <div id=\"df-a9acf32d-ed4b-4c58-856b-ce86900e9520\" class=\"colab-df-container\">\n",
              "    <div>\n",
              "<style scoped>\n",
              "    .dataframe tbody tr th:only-of-type {\n",
              "        vertical-align: middle;\n",
              "    }\n",
              "\n",
              "    .dataframe tbody tr th {\n",
              "        vertical-align: top;\n",
              "    }\n",
              "\n",
              "    .dataframe thead th {\n",
              "        text-align: right;\n",
              "    }\n",
              "</style>\n",
              "<table border=\"1\" class=\"dataframe\">\n",
              "  <thead>\n",
              "    <tr style=\"text-align: right;\">\n",
              "      <th></th>\n",
              "      <th>age</th>\n",
              "      <th>sex</th>\n",
              "      <th>cp</th>\n",
              "      <th>trtbps</th>\n",
              "      <th>chol</th>\n",
              "      <th>fbs</th>\n",
              "      <th>restecg</th>\n",
              "      <th>thalachh</th>\n",
              "      <th>exng</th>\n",
              "      <th>oldpeak</th>\n",
              "      <th>slp</th>\n",
              "      <th>caa</th>\n",
              "      <th>thall</th>\n",
              "      <th>output</th>\n",
              "    </tr>\n",
              "  </thead>\n",
              "  <tbody>\n",
              "    <tr>\n",
              "      <th>0</th>\n",
              "      <td>63</td>\n",
              "      <td>1</td>\n",
              "      <td>3</td>\n",
              "      <td>145</td>\n",
              "      <td>233</td>\n",
              "      <td>1</td>\n",
              "      <td>0</td>\n",
              "      <td>150</td>\n",
              "      <td>0</td>\n",
              "      <td>2.3</td>\n",
              "      <td>0</td>\n",
              "      <td>0</td>\n",
              "      <td>1</td>\n",
              "      <td>1</td>\n",
              "    </tr>\n",
              "    <tr>\n",
              "      <th>1</th>\n",
              "      <td>37</td>\n",
              "      <td>1</td>\n",
              "      <td>2</td>\n",
              "      <td>130</td>\n",
              "      <td>250</td>\n",
              "      <td>0</td>\n",
              "      <td>1</td>\n",
              "      <td>187</td>\n",
              "      <td>0</td>\n",
              "      <td>3.5</td>\n",
              "      <td>0</td>\n",
              "      <td>0</td>\n",
              "      <td>2</td>\n",
              "      <td>1</td>\n",
              "    </tr>\n",
              "    <tr>\n",
              "      <th>2</th>\n",
              "      <td>41</td>\n",
              "      <td>0</td>\n",
              "      <td>1</td>\n",
              "      <td>130</td>\n",
              "      <td>204</td>\n",
              "      <td>0</td>\n",
              "      <td>0</td>\n",
              "      <td>172</td>\n",
              "      <td>0</td>\n",
              "      <td>1.4</td>\n",
              "      <td>2</td>\n",
              "      <td>0</td>\n",
              "      <td>2</td>\n",
              "      <td>1</td>\n",
              "    </tr>\n",
              "    <tr>\n",
              "      <th>3</th>\n",
              "      <td>56</td>\n",
              "      <td>1</td>\n",
              "      <td>1</td>\n",
              "      <td>120</td>\n",
              "      <td>236</td>\n",
              "      <td>0</td>\n",
              "      <td>1</td>\n",
              "      <td>178</td>\n",
              "      <td>0</td>\n",
              "      <td>0.8</td>\n",
              "      <td>2</td>\n",
              "      <td>0</td>\n",
              "      <td>2</td>\n",
              "      <td>1</td>\n",
              "    </tr>\n",
              "    <tr>\n",
              "      <th>4</th>\n",
              "      <td>57</td>\n",
              "      <td>0</td>\n",
              "      <td>0</td>\n",
              "      <td>120</td>\n",
              "      <td>354</td>\n",
              "      <td>0</td>\n",
              "      <td>1</td>\n",
              "      <td>163</td>\n",
              "      <td>1</td>\n",
              "      <td>0.6</td>\n",
              "      <td>2</td>\n",
              "      <td>0</td>\n",
              "      <td>2</td>\n",
              "      <td>1</td>\n",
              "    </tr>\n",
              "    <tr>\n",
              "      <th>5</th>\n",
              "      <td>57</td>\n",
              "      <td>1</td>\n",
              "      <td>0</td>\n",
              "      <td>140</td>\n",
              "      <td>192</td>\n",
              "      <td>0</td>\n",
              "      <td>1</td>\n",
              "      <td>148</td>\n",
              "      <td>0</td>\n",
              "      <td>0.4</td>\n",
              "      <td>1</td>\n",
              "      <td>0</td>\n",
              "      <td>1</td>\n",
              "      <td>1</td>\n",
              "    </tr>\n",
              "  </tbody>\n",
              "</table>\n",
              "</div>\n",
              "    <div class=\"colab-df-buttons\">\n",
              "\n",
              "  <div class=\"colab-df-container\">\n",
              "    <button class=\"colab-df-convert\" onclick=\"convertToInteractive('df-a9acf32d-ed4b-4c58-856b-ce86900e9520')\"\n",
              "            title=\"Convert this dataframe to an interactive table.\"\n",
              "            style=\"display:none;\">\n",
              "\n",
              "  <svg xmlns=\"http://www.w3.org/2000/svg\" height=\"24px\" viewBox=\"0 -960 960 960\">\n",
              "    <path d=\"M120-120v-720h720v720H120Zm60-500h600v-160H180v160Zm220 220h160v-160H400v160Zm0 220h160v-160H400v160ZM180-400h160v-160H180v160Zm440 0h160v-160H620v160ZM180-180h160v-160H180v160Zm440 0h160v-160H620v160Z\"/>\n",
              "  </svg>\n",
              "    </button>\n",
              "\n",
              "  <style>\n",
              "    .colab-df-container {\n",
              "      display:flex;\n",
              "      gap: 12px;\n",
              "    }\n",
              "\n",
              "    .colab-df-convert {\n",
              "      background-color: #E8F0FE;\n",
              "      border: none;\n",
              "      border-radius: 50%;\n",
              "      cursor: pointer;\n",
              "      display: none;\n",
              "      fill: #1967D2;\n",
              "      height: 32px;\n",
              "      padding: 0 0 0 0;\n",
              "      width: 32px;\n",
              "    }\n",
              "\n",
              "    .colab-df-convert:hover {\n",
              "      background-color: #E2EBFA;\n",
              "      box-shadow: 0px 1px 2px rgba(60, 64, 67, 0.3), 0px 1px 3px 1px rgba(60, 64, 67, 0.15);\n",
              "      fill: #174EA6;\n",
              "    }\n",
              "\n",
              "    .colab-df-buttons div {\n",
              "      margin-bottom: 4px;\n",
              "    }\n",
              "\n",
              "    [theme=dark] .colab-df-convert {\n",
              "      background-color: #3B4455;\n",
              "      fill: #D2E3FC;\n",
              "    }\n",
              "\n",
              "    [theme=dark] .colab-df-convert:hover {\n",
              "      background-color: #434B5C;\n",
              "      box-shadow: 0px 1px 3px 1px rgba(0, 0, 0, 0.15);\n",
              "      filter: drop-shadow(0px 1px 2px rgba(0, 0, 0, 0.3));\n",
              "      fill: #FFFFFF;\n",
              "    }\n",
              "  </style>\n",
              "\n",
              "    <script>\n",
              "      const buttonEl =\n",
              "        document.querySelector('#df-a9acf32d-ed4b-4c58-856b-ce86900e9520 button.colab-df-convert');\n",
              "      buttonEl.style.display =\n",
              "        google.colab.kernel.accessAllowed ? 'block' : 'none';\n",
              "\n",
              "      async function convertToInteractive(key) {\n",
              "        const element = document.querySelector('#df-a9acf32d-ed4b-4c58-856b-ce86900e9520');\n",
              "        const dataTable =\n",
              "          await google.colab.kernel.invokeFunction('convertToInteractive',\n",
              "                                                    [key], {});\n",
              "        if (!dataTable) return;\n",
              "\n",
              "        const docLinkHtml = 'Like what you see? Visit the ' +\n",
              "          '<a target=\"_blank\" href=https://colab.research.google.com/notebooks/data_table.ipynb>data table notebook</a>'\n",
              "          + ' to learn more about interactive tables.';\n",
              "        element.innerHTML = '';\n",
              "        dataTable['output_type'] = 'display_data';\n",
              "        await google.colab.output.renderOutput(dataTable, element);\n",
              "        const docLink = document.createElement('div');\n",
              "        docLink.innerHTML = docLinkHtml;\n",
              "        element.appendChild(docLink);\n",
              "      }\n",
              "    </script>\n",
              "  </div>\n",
              "\n",
              "\n",
              "<div id=\"df-ba95b65d-3ac5-4e86-ab6f-dd247541c1a2\">\n",
              "  <button class=\"colab-df-quickchart\" onclick=\"quickchart('df-ba95b65d-3ac5-4e86-ab6f-dd247541c1a2')\"\n",
              "            title=\"Suggest charts\"\n",
              "            style=\"display:none;\">\n",
              "\n",
              "<svg xmlns=\"http://www.w3.org/2000/svg\" height=\"24px\"viewBox=\"0 0 24 24\"\n",
              "     width=\"24px\">\n",
              "    <g>\n",
              "        <path d=\"M19 3H5c-1.1 0-2 .9-2 2v14c0 1.1.9 2 2 2h14c1.1 0 2-.9 2-2V5c0-1.1-.9-2-2-2zM9 17H7v-7h2v7zm4 0h-2V7h2v10zm4 0h-2v-4h2v4z\"/>\n",
              "    </g>\n",
              "</svg>\n",
              "  </button>\n",
              "\n",
              "<style>\n",
              "  .colab-df-quickchart {\n",
              "      --bg-color: #E8F0FE;\n",
              "      --fill-color: #1967D2;\n",
              "      --hover-bg-color: #E2EBFA;\n",
              "      --hover-fill-color: #174EA6;\n",
              "      --disabled-fill-color: #AAA;\n",
              "      --disabled-bg-color: #DDD;\n",
              "  }\n",
              "\n",
              "  [theme=dark] .colab-df-quickchart {\n",
              "      --bg-color: #3B4455;\n",
              "      --fill-color: #D2E3FC;\n",
              "      --hover-bg-color: #434B5C;\n",
              "      --hover-fill-color: #FFFFFF;\n",
              "      --disabled-bg-color: #3B4455;\n",
              "      --disabled-fill-color: #666;\n",
              "  }\n",
              "\n",
              "  .colab-df-quickchart {\n",
              "    background-color: var(--bg-color);\n",
              "    border: none;\n",
              "    border-radius: 50%;\n",
              "    cursor: pointer;\n",
              "    display: none;\n",
              "    fill: var(--fill-color);\n",
              "    height: 32px;\n",
              "    padding: 0;\n",
              "    width: 32px;\n",
              "  }\n",
              "\n",
              "  .colab-df-quickchart:hover {\n",
              "    background-color: var(--hover-bg-color);\n",
              "    box-shadow: 0 1px 2px rgba(60, 64, 67, 0.3), 0 1px 3px 1px rgba(60, 64, 67, 0.15);\n",
              "    fill: var(--button-hover-fill-color);\n",
              "  }\n",
              "\n",
              "  .colab-df-quickchart-complete:disabled,\n",
              "  .colab-df-quickchart-complete:disabled:hover {\n",
              "    background-color: var(--disabled-bg-color);\n",
              "    fill: var(--disabled-fill-color);\n",
              "    box-shadow: none;\n",
              "  }\n",
              "\n",
              "  .colab-df-spinner {\n",
              "    border: 2px solid var(--fill-color);\n",
              "    border-color: transparent;\n",
              "    border-bottom-color: var(--fill-color);\n",
              "    animation:\n",
              "      spin 1s steps(1) infinite;\n",
              "  }\n",
              "\n",
              "  @keyframes spin {\n",
              "    0% {\n",
              "      border-color: transparent;\n",
              "      border-bottom-color: var(--fill-color);\n",
              "      border-left-color: var(--fill-color);\n",
              "    }\n",
              "    20% {\n",
              "      border-color: transparent;\n",
              "      border-left-color: var(--fill-color);\n",
              "      border-top-color: var(--fill-color);\n",
              "    }\n",
              "    30% {\n",
              "      border-color: transparent;\n",
              "      border-left-color: var(--fill-color);\n",
              "      border-top-color: var(--fill-color);\n",
              "      border-right-color: var(--fill-color);\n",
              "    }\n",
              "    40% {\n",
              "      border-color: transparent;\n",
              "      border-right-color: var(--fill-color);\n",
              "      border-top-color: var(--fill-color);\n",
              "    }\n",
              "    60% {\n",
              "      border-color: transparent;\n",
              "      border-right-color: var(--fill-color);\n",
              "    }\n",
              "    80% {\n",
              "      border-color: transparent;\n",
              "      border-right-color: var(--fill-color);\n",
              "      border-bottom-color: var(--fill-color);\n",
              "    }\n",
              "    90% {\n",
              "      border-color: transparent;\n",
              "      border-bottom-color: var(--fill-color);\n",
              "    }\n",
              "  }\n",
              "</style>\n",
              "\n",
              "  <script>\n",
              "    async function quickchart(key) {\n",
              "      const quickchartButtonEl =\n",
              "        document.querySelector('#' + key + ' button');\n",
              "      quickchartButtonEl.disabled = true;  // To prevent multiple clicks.\n",
              "      quickchartButtonEl.classList.add('colab-df-spinner');\n",
              "      try {\n",
              "        const charts = await google.colab.kernel.invokeFunction(\n",
              "            'suggestCharts', [key], {});\n",
              "      } catch (error) {\n",
              "        console.error('Error during call to suggestCharts:', error);\n",
              "      }\n",
              "      quickchartButtonEl.classList.remove('colab-df-spinner');\n",
              "      quickchartButtonEl.classList.add('colab-df-quickchart-complete');\n",
              "    }\n",
              "    (() => {\n",
              "      let quickchartButtonEl =\n",
              "        document.querySelector('#df-ba95b65d-3ac5-4e86-ab6f-dd247541c1a2 button');\n",
              "      quickchartButtonEl.style.display =\n",
              "        google.colab.kernel.accessAllowed ? 'block' : 'none';\n",
              "    })();\n",
              "  </script>\n",
              "</div>\n",
              "    </div>\n",
              "  </div>\n"
            ]
          },
          "metadata": {},
          "execution_count": 28
        }
      ]
    },
    {
      "cell_type": "code",
      "source": [
        "clf_df['output'].value_counts()\n"
      ],
      "metadata": {
        "colab": {
          "base_uri": "https://localhost:8080/"
        },
        "id": "VLXgCnbDMSTs",
        "outputId": "b1adec36-3adf-4c59-b9d4-a7e4ed28e3ef"
      },
      "execution_count": null,
      "outputs": [
        {
          "output_type": "execute_result",
          "data": {
            "text/plain": [
              "1    165\n",
              "0    138\n",
              "Name: output, dtype: int64"
            ]
          },
          "metadata": {},
          "execution_count": 29
        }
      ]
    },
    {
      "cell_type": "code",
      "source": [
        "clf_df.isnull().sum()"
      ],
      "metadata": {
        "colab": {
          "base_uri": "https://localhost:8080/"
        },
        "id": "MAAgeM-1_IrY",
        "outputId": "3cdcb0da-444f-403b-e15c-685ba301da74"
      },
      "execution_count": null,
      "outputs": [
        {
          "output_type": "execute_result",
          "data": {
            "text/plain": [
              "age         0\n",
              "sex         0\n",
              "cp          0\n",
              "trtbps      0\n",
              "chol        0\n",
              "fbs         0\n",
              "restecg     0\n",
              "thalachh    0\n",
              "exng        0\n",
              "oldpeak     0\n",
              "slp         0\n",
              "caa         0\n",
              "thall       0\n",
              "output      0\n",
              "dtype: int64"
            ]
          },
          "metadata": {},
          "execution_count": 30
        }
      ]
    },
    {
      "cell_type": "code",
      "source": [
        "clf_categorical_features = ['sex', 'cp', 'fbs', 'restecg', 'exng', 'slp', 'caa', 'thall']\n",
        "clf_continuous_features = ['age', 'oldpeak', 'trtbps', 'chol', 'thalachh']\n",
        "clf_output = clf_df['output']"
      ],
      "metadata": {
        "id": "LQVw8TCxU7__"
      },
      "execution_count": null,
      "outputs": []
    },
    {
      "cell_type": "markdown",
      "source": [
        "### Regression Dataset (insurance)"
      ],
      "metadata": {
        "id": "zvFf4JtiVS2k"
      }
    },
    {
      "cell_type": "code",
      "source": [
        "reg_df = pd.read_csv('insurance.csv')\n",
        "print(reg_df.shape)\n",
        "reg_df.head(6)"
      ],
      "metadata": {
        "colab": {
          "base_uri": "https://localhost:8080/",
          "height": 255
        },
        "id": "2koEN0GYWnmr",
        "outputId": "bce0a4ad-f829-4e20-af07-aee61d378f38"
      },
      "execution_count": null,
      "outputs": [
        {
          "output_type": "stream",
          "name": "stdout",
          "text": [
            "(1338, 7)\n"
          ]
        },
        {
          "output_type": "execute_result",
          "data": {
            "text/plain": [
              "   age     sex     bmi  children smoker     region      charges\n",
              "0   19  female  27.900         0    yes  southwest  16884.92400\n",
              "1   18    male  33.770         1     no  southeast   1725.55230\n",
              "2   28    male  33.000         3     no  southeast   4449.46200\n",
              "3   33    male  22.705         0     no  northwest  21984.47061\n",
              "4   32    male  28.880         0     no  northwest   3866.85520\n",
              "5   31  female  25.740         0     no  southeast   3756.62160"
            ],
            "text/html": [
              "\n",
              "  <div id=\"df-89ad35b1-c67b-430c-8924-197869197468\" class=\"colab-df-container\">\n",
              "    <div>\n",
              "<style scoped>\n",
              "    .dataframe tbody tr th:only-of-type {\n",
              "        vertical-align: middle;\n",
              "    }\n",
              "\n",
              "    .dataframe tbody tr th {\n",
              "        vertical-align: top;\n",
              "    }\n",
              "\n",
              "    .dataframe thead th {\n",
              "        text-align: right;\n",
              "    }\n",
              "</style>\n",
              "<table border=\"1\" class=\"dataframe\">\n",
              "  <thead>\n",
              "    <tr style=\"text-align: right;\">\n",
              "      <th></th>\n",
              "      <th>age</th>\n",
              "      <th>sex</th>\n",
              "      <th>bmi</th>\n",
              "      <th>children</th>\n",
              "      <th>smoker</th>\n",
              "      <th>region</th>\n",
              "      <th>charges</th>\n",
              "    </tr>\n",
              "  </thead>\n",
              "  <tbody>\n",
              "    <tr>\n",
              "      <th>0</th>\n",
              "      <td>19</td>\n",
              "      <td>female</td>\n",
              "      <td>27.900</td>\n",
              "      <td>0</td>\n",
              "      <td>yes</td>\n",
              "      <td>southwest</td>\n",
              "      <td>16884.92400</td>\n",
              "    </tr>\n",
              "    <tr>\n",
              "      <th>1</th>\n",
              "      <td>18</td>\n",
              "      <td>male</td>\n",
              "      <td>33.770</td>\n",
              "      <td>1</td>\n",
              "      <td>no</td>\n",
              "      <td>southeast</td>\n",
              "      <td>1725.55230</td>\n",
              "    </tr>\n",
              "    <tr>\n",
              "      <th>2</th>\n",
              "      <td>28</td>\n",
              "      <td>male</td>\n",
              "      <td>33.000</td>\n",
              "      <td>3</td>\n",
              "      <td>no</td>\n",
              "      <td>southeast</td>\n",
              "      <td>4449.46200</td>\n",
              "    </tr>\n",
              "    <tr>\n",
              "      <th>3</th>\n",
              "      <td>33</td>\n",
              "      <td>male</td>\n",
              "      <td>22.705</td>\n",
              "      <td>0</td>\n",
              "      <td>no</td>\n",
              "      <td>northwest</td>\n",
              "      <td>21984.47061</td>\n",
              "    </tr>\n",
              "    <tr>\n",
              "      <th>4</th>\n",
              "      <td>32</td>\n",
              "      <td>male</td>\n",
              "      <td>28.880</td>\n",
              "      <td>0</td>\n",
              "      <td>no</td>\n",
              "      <td>northwest</td>\n",
              "      <td>3866.85520</td>\n",
              "    </tr>\n",
              "    <tr>\n",
              "      <th>5</th>\n",
              "      <td>31</td>\n",
              "      <td>female</td>\n",
              "      <td>25.740</td>\n",
              "      <td>0</td>\n",
              "      <td>no</td>\n",
              "      <td>southeast</td>\n",
              "      <td>3756.62160</td>\n",
              "    </tr>\n",
              "  </tbody>\n",
              "</table>\n",
              "</div>\n",
              "    <div class=\"colab-df-buttons\">\n",
              "\n",
              "  <div class=\"colab-df-container\">\n",
              "    <button class=\"colab-df-convert\" onclick=\"convertToInteractive('df-89ad35b1-c67b-430c-8924-197869197468')\"\n",
              "            title=\"Convert this dataframe to an interactive table.\"\n",
              "            style=\"display:none;\">\n",
              "\n",
              "  <svg xmlns=\"http://www.w3.org/2000/svg\" height=\"24px\" viewBox=\"0 -960 960 960\">\n",
              "    <path d=\"M120-120v-720h720v720H120Zm60-500h600v-160H180v160Zm220 220h160v-160H400v160Zm0 220h160v-160H400v160ZM180-400h160v-160H180v160Zm440 0h160v-160H620v160ZM180-180h160v-160H180v160Zm440 0h160v-160H620v160Z\"/>\n",
              "  </svg>\n",
              "    </button>\n",
              "\n",
              "  <style>\n",
              "    .colab-df-container {\n",
              "      display:flex;\n",
              "      gap: 12px;\n",
              "    }\n",
              "\n",
              "    .colab-df-convert {\n",
              "      background-color: #E8F0FE;\n",
              "      border: none;\n",
              "      border-radius: 50%;\n",
              "      cursor: pointer;\n",
              "      display: none;\n",
              "      fill: #1967D2;\n",
              "      height: 32px;\n",
              "      padding: 0 0 0 0;\n",
              "      width: 32px;\n",
              "    }\n",
              "\n",
              "    .colab-df-convert:hover {\n",
              "      background-color: #E2EBFA;\n",
              "      box-shadow: 0px 1px 2px rgba(60, 64, 67, 0.3), 0px 1px 3px 1px rgba(60, 64, 67, 0.15);\n",
              "      fill: #174EA6;\n",
              "    }\n",
              "\n",
              "    .colab-df-buttons div {\n",
              "      margin-bottom: 4px;\n",
              "    }\n",
              "\n",
              "    [theme=dark] .colab-df-convert {\n",
              "      background-color: #3B4455;\n",
              "      fill: #D2E3FC;\n",
              "    }\n",
              "\n",
              "    [theme=dark] .colab-df-convert:hover {\n",
              "      background-color: #434B5C;\n",
              "      box-shadow: 0px 1px 3px 1px rgba(0, 0, 0, 0.15);\n",
              "      filter: drop-shadow(0px 1px 2px rgba(0, 0, 0, 0.3));\n",
              "      fill: #FFFFFF;\n",
              "    }\n",
              "  </style>\n",
              "\n",
              "    <script>\n",
              "      const buttonEl =\n",
              "        document.querySelector('#df-89ad35b1-c67b-430c-8924-197869197468 button.colab-df-convert');\n",
              "      buttonEl.style.display =\n",
              "        google.colab.kernel.accessAllowed ? 'block' : 'none';\n",
              "\n",
              "      async function convertToInteractive(key) {\n",
              "        const element = document.querySelector('#df-89ad35b1-c67b-430c-8924-197869197468');\n",
              "        const dataTable =\n",
              "          await google.colab.kernel.invokeFunction('convertToInteractive',\n",
              "                                                    [key], {});\n",
              "        if (!dataTable) return;\n",
              "\n",
              "        const docLinkHtml = 'Like what you see? Visit the ' +\n",
              "          '<a target=\"_blank\" href=https://colab.research.google.com/notebooks/data_table.ipynb>data table notebook</a>'\n",
              "          + ' to learn more about interactive tables.';\n",
              "        element.innerHTML = '';\n",
              "        dataTable['output_type'] = 'display_data';\n",
              "        await google.colab.output.renderOutput(dataTable, element);\n",
              "        const docLink = document.createElement('div');\n",
              "        docLink.innerHTML = docLinkHtml;\n",
              "        element.appendChild(docLink);\n",
              "      }\n",
              "    </script>\n",
              "  </div>\n",
              "\n",
              "\n",
              "<div id=\"df-be80e729-940f-4e4b-88bb-a06e06837d07\">\n",
              "  <button class=\"colab-df-quickchart\" onclick=\"quickchart('df-be80e729-940f-4e4b-88bb-a06e06837d07')\"\n",
              "            title=\"Suggest charts\"\n",
              "            style=\"display:none;\">\n",
              "\n",
              "<svg xmlns=\"http://www.w3.org/2000/svg\" height=\"24px\"viewBox=\"0 0 24 24\"\n",
              "     width=\"24px\">\n",
              "    <g>\n",
              "        <path d=\"M19 3H5c-1.1 0-2 .9-2 2v14c0 1.1.9 2 2 2h14c1.1 0 2-.9 2-2V5c0-1.1-.9-2-2-2zM9 17H7v-7h2v7zm4 0h-2V7h2v10zm4 0h-2v-4h2v4z\"/>\n",
              "    </g>\n",
              "</svg>\n",
              "  </button>\n",
              "\n",
              "<style>\n",
              "  .colab-df-quickchart {\n",
              "      --bg-color: #E8F0FE;\n",
              "      --fill-color: #1967D2;\n",
              "      --hover-bg-color: #E2EBFA;\n",
              "      --hover-fill-color: #174EA6;\n",
              "      --disabled-fill-color: #AAA;\n",
              "      --disabled-bg-color: #DDD;\n",
              "  }\n",
              "\n",
              "  [theme=dark] .colab-df-quickchart {\n",
              "      --bg-color: #3B4455;\n",
              "      --fill-color: #D2E3FC;\n",
              "      --hover-bg-color: #434B5C;\n",
              "      --hover-fill-color: #FFFFFF;\n",
              "      --disabled-bg-color: #3B4455;\n",
              "      --disabled-fill-color: #666;\n",
              "  }\n",
              "\n",
              "  .colab-df-quickchart {\n",
              "    background-color: var(--bg-color);\n",
              "    border: none;\n",
              "    border-radius: 50%;\n",
              "    cursor: pointer;\n",
              "    display: none;\n",
              "    fill: var(--fill-color);\n",
              "    height: 32px;\n",
              "    padding: 0;\n",
              "    width: 32px;\n",
              "  }\n",
              "\n",
              "  .colab-df-quickchart:hover {\n",
              "    background-color: var(--hover-bg-color);\n",
              "    box-shadow: 0 1px 2px rgba(60, 64, 67, 0.3), 0 1px 3px 1px rgba(60, 64, 67, 0.15);\n",
              "    fill: var(--button-hover-fill-color);\n",
              "  }\n",
              "\n",
              "  .colab-df-quickchart-complete:disabled,\n",
              "  .colab-df-quickchart-complete:disabled:hover {\n",
              "    background-color: var(--disabled-bg-color);\n",
              "    fill: var(--disabled-fill-color);\n",
              "    box-shadow: none;\n",
              "  }\n",
              "\n",
              "  .colab-df-spinner {\n",
              "    border: 2px solid var(--fill-color);\n",
              "    border-color: transparent;\n",
              "    border-bottom-color: var(--fill-color);\n",
              "    animation:\n",
              "      spin 1s steps(1) infinite;\n",
              "  }\n",
              "\n",
              "  @keyframes spin {\n",
              "    0% {\n",
              "      border-color: transparent;\n",
              "      border-bottom-color: var(--fill-color);\n",
              "      border-left-color: var(--fill-color);\n",
              "    }\n",
              "    20% {\n",
              "      border-color: transparent;\n",
              "      border-left-color: var(--fill-color);\n",
              "      border-top-color: var(--fill-color);\n",
              "    }\n",
              "    30% {\n",
              "      border-color: transparent;\n",
              "      border-left-color: var(--fill-color);\n",
              "      border-top-color: var(--fill-color);\n",
              "      border-right-color: var(--fill-color);\n",
              "    }\n",
              "    40% {\n",
              "      border-color: transparent;\n",
              "      border-right-color: var(--fill-color);\n",
              "      border-top-color: var(--fill-color);\n",
              "    }\n",
              "    60% {\n",
              "      border-color: transparent;\n",
              "      border-right-color: var(--fill-color);\n",
              "    }\n",
              "    80% {\n",
              "      border-color: transparent;\n",
              "      border-right-color: var(--fill-color);\n",
              "      border-bottom-color: var(--fill-color);\n",
              "    }\n",
              "    90% {\n",
              "      border-color: transparent;\n",
              "      border-bottom-color: var(--fill-color);\n",
              "    }\n",
              "  }\n",
              "</style>\n",
              "\n",
              "  <script>\n",
              "    async function quickchart(key) {\n",
              "      const quickchartButtonEl =\n",
              "        document.querySelector('#' + key + ' button');\n",
              "      quickchartButtonEl.disabled = true;  // To prevent multiple clicks.\n",
              "      quickchartButtonEl.classList.add('colab-df-spinner');\n",
              "      try {\n",
              "        const charts = await google.colab.kernel.invokeFunction(\n",
              "            'suggestCharts', [key], {});\n",
              "      } catch (error) {\n",
              "        console.error('Error during call to suggestCharts:', error);\n",
              "      }\n",
              "      quickchartButtonEl.classList.remove('colab-df-spinner');\n",
              "      quickchartButtonEl.classList.add('colab-df-quickchart-complete');\n",
              "    }\n",
              "    (() => {\n",
              "      let quickchartButtonEl =\n",
              "        document.querySelector('#df-be80e729-940f-4e4b-88bb-a06e06837d07 button');\n",
              "      quickchartButtonEl.style.display =\n",
              "        google.colab.kernel.accessAllowed ? 'block' : 'none';\n",
              "    })();\n",
              "  </script>\n",
              "</div>\n",
              "    </div>\n",
              "  </div>\n"
            ]
          },
          "metadata": {},
          "execution_count": 32
        }
      ]
    },
    {
      "cell_type": "code",
      "source": [
        "reg_df.isnull().sum()"
      ],
      "metadata": {
        "colab": {
          "base_uri": "https://localhost:8080/"
        },
        "id": "SUGWW2KC_PEg",
        "outputId": "c89ad371-3b90-4b70-9b03-26316751a2f3"
      },
      "execution_count": null,
      "outputs": [
        {
          "output_type": "execute_result",
          "data": {
            "text/plain": [
              "age         0\n",
              "sex         0\n",
              "bmi         0\n",
              "children    0\n",
              "smoker      0\n",
              "region      0\n",
              "charges     0\n",
              "dtype: int64"
            ]
          },
          "metadata": {},
          "execution_count": 33
        }
      ]
    },
    {
      "cell_type": "code",
      "source": [
        "reg_categorical_features = ['sex', 'children', 'smoker', 'region']\n",
        "reg_continuous_features = ['age', 'bmi']\n",
        "reg_output = reg_df['charges']"
      ],
      "metadata": {
        "id": "4Wms9dt8Wtv4"
      },
      "execution_count": null,
      "outputs": []
    },
    {
      "cell_type": "code",
      "source": [
        "reg_df['region'].value_counts()"
      ],
      "metadata": {
        "colab": {
          "base_uri": "https://localhost:8080/"
        },
        "id": "h7KllQJjZMqq",
        "outputId": "5038c968-9711-4039-92b5-45cfe6dd7065"
      },
      "execution_count": null,
      "outputs": [
        {
          "output_type": "execute_result",
          "data": {
            "text/plain": [
              "southeast    364\n",
              "southwest    325\n",
              "northwest    325\n",
              "northeast    324\n",
              "Name: region, dtype: int64"
            ]
          },
          "metadata": {},
          "execution_count": 35
        }
      ]
    },
    {
      "cell_type": "code",
      "source": [
        "reg_df.columns"
      ],
      "metadata": {
        "colab": {
          "base_uri": "https://localhost:8080/"
        },
        "id": "QW9oZfDUkjyC",
        "outputId": "4941c8f2-cd15-4007-fe97-daf03d38ade7"
      },
      "execution_count": null,
      "outputs": [
        {
          "output_type": "execute_result",
          "data": {
            "text/plain": [
              "Index(['age', 'sex', 'bmi', 'children', 'smoker', 'region', 'charges'], dtype='object')"
            ]
          },
          "metadata": {},
          "execution_count": 36
        }
      ]
    },
    {
      "cell_type": "code",
      "source": [
        "reg_df.groupby(['smoker']).mean()[\"charges\"]"
      ],
      "metadata": {
        "colab": {
          "base_uri": "https://localhost:8080/"
        },
        "id": "XhIjsxiNbNFN",
        "outputId": "15a6f72e-d146-41ea-9909-655db15309bf"
      },
      "execution_count": null,
      "outputs": [
        {
          "output_type": "stream",
          "name": "stderr",
          "text": [
            "<ipython-input-37-bfdf91e391a7>:1: FutureWarning: The default value of numeric_only in DataFrameGroupBy.mean is deprecated. In a future version, numeric_only will default to False. Either specify numeric_only or select only columns which should be valid for the function.\n",
            "  reg_df.groupby(['smoker']).mean()[\"charges\"]\n"
          ]
        },
        {
          "output_type": "execute_result",
          "data": {
            "text/plain": [
              "smoker\n",
              "no      8434.268298\n",
              "yes    32050.231832\n",
              "Name: charges, dtype: float64"
            ]
          },
          "metadata": {},
          "execution_count": 37
        }
      ]
    },
    {
      "cell_type": "code",
      "source": [
        "reg_df.groupby(['region']).mean()[\"charges\"]"
      ],
      "metadata": {
        "colab": {
          "base_uri": "https://localhost:8080/"
        },
        "id": "QoUjxZkTu_6j",
        "outputId": "d08f88ae-affd-4769-f5d8-4b9aebfa122f"
      },
      "execution_count": null,
      "outputs": [
        {
          "output_type": "stream",
          "name": "stderr",
          "text": [
            "<ipython-input-38-f4be4fb16e34>:1: FutureWarning: The default value of numeric_only in DataFrameGroupBy.mean is deprecated. In a future version, numeric_only will default to False. Either specify numeric_only or select only columns which should be valid for the function.\n",
            "  reg_df.groupby(['region']).mean()[\"charges\"]\n"
          ]
        },
        {
          "output_type": "execute_result",
          "data": {
            "text/plain": [
              "region\n",
              "northeast    13406.384516\n",
              "northwest    12417.575374\n",
              "southeast    14735.411438\n",
              "southwest    12346.937377\n",
              "Name: charges, dtype: float64"
            ]
          },
          "metadata": {},
          "execution_count": 38
        }
      ]
    },
    {
      "cell_type": "code",
      "source": [
        "# Define your custom mapping as a dictionary\n",
        "\n",
        "label_mapping = {\n",
        "    'southeast': 4,\n",
        "    'northeast': 3,\n",
        "    'northwest': 2,\n",
        "    'southwest': 1\n",
        "}\n",
        "\n",
        "# Assume you have a list of labels\n",
        "labels = ['southeast', 'northeast', 'northwest', 'southwest']\n",
        "\n",
        "# Use the map function of a pandas Series to apply the mapping\n",
        "labels_series = pd.Series(labels)\n",
        "encoded_labels = labels_series.map(label_mapping)\n",
        "\n",
        "# Use the replace method to encode the 'labels' column\n",
        "reg_df['region_labels'] = reg_df['region'].replace(label_mapping)\n",
        "reg_df=reg_df.drop(['region'],axis=1)\n",
        "\n",
        "\n",
        "print(encoded_labels.tolist())\n"
      ],
      "metadata": {
        "colab": {
          "base_uri": "https://localhost:8080/"
        },
        "id": "R-1JxNAFeVB0",
        "outputId": "7443af6d-6c65-49e3-c6a2-98ec4a2ad72b"
      },
      "execution_count": null,
      "outputs": [
        {
          "output_type": "stream",
          "name": "stdout",
          "text": [
            "[4, 3, 2, 1]\n"
          ]
        }
      ]
    },
    {
      "cell_type": "code",
      "source": [
        "from sklearn.preprocessing import LabelEncoder, LabelBinarizer\n",
        "encoder = LabelEncoder()\n",
        "binarizer = LabelBinarizer()\n",
        "\n",
        "reg_df[['sex']] = binarizer.fit_transform(reg_df[['sex']])\n",
        "reg_df[['smoker']] = binarizer.fit_transform(reg_df[['smoker']])\n",
        "reg_df=reg_df.drop(['charges'],axis=1)\n",
        "reg_df"
      ],
      "metadata": {
        "colab": {
          "base_uri": "https://localhost:8080/",
          "height": 424
        },
        "id": "hC6esuwXXW76",
        "outputId": "67e0c60e-c965-4285-d603-85dcc391906a"
      },
      "execution_count": null,
      "outputs": [
        {
          "output_type": "execute_result",
          "data": {
            "text/plain": [
              "      age  sex     bmi  children  smoker  region_labels\n",
              "0      19    0  27.900         0       1              1\n",
              "1      18    1  33.770         1       0              4\n",
              "2      28    1  33.000         3       0              4\n",
              "3      33    1  22.705         0       0              2\n",
              "4      32    1  28.880         0       0              2\n",
              "...   ...  ...     ...       ...     ...            ...\n",
              "1333   50    1  30.970         3       0              2\n",
              "1334   18    0  31.920         0       0              3\n",
              "1335   18    0  36.850         0       0              4\n",
              "1336   21    0  25.800         0       0              1\n",
              "1337   61    0  29.070         0       1              2\n",
              "\n",
              "[1338 rows x 6 columns]"
            ],
            "text/html": [
              "\n",
              "  <div id=\"df-f19ce883-eccf-40af-acde-0d077d86bb95\" class=\"colab-df-container\">\n",
              "    <div>\n",
              "<style scoped>\n",
              "    .dataframe tbody tr th:only-of-type {\n",
              "        vertical-align: middle;\n",
              "    }\n",
              "\n",
              "    .dataframe tbody tr th {\n",
              "        vertical-align: top;\n",
              "    }\n",
              "\n",
              "    .dataframe thead th {\n",
              "        text-align: right;\n",
              "    }\n",
              "</style>\n",
              "<table border=\"1\" class=\"dataframe\">\n",
              "  <thead>\n",
              "    <tr style=\"text-align: right;\">\n",
              "      <th></th>\n",
              "      <th>age</th>\n",
              "      <th>sex</th>\n",
              "      <th>bmi</th>\n",
              "      <th>children</th>\n",
              "      <th>smoker</th>\n",
              "      <th>region_labels</th>\n",
              "    </tr>\n",
              "  </thead>\n",
              "  <tbody>\n",
              "    <tr>\n",
              "      <th>0</th>\n",
              "      <td>19</td>\n",
              "      <td>0</td>\n",
              "      <td>27.900</td>\n",
              "      <td>0</td>\n",
              "      <td>1</td>\n",
              "      <td>1</td>\n",
              "    </tr>\n",
              "    <tr>\n",
              "      <th>1</th>\n",
              "      <td>18</td>\n",
              "      <td>1</td>\n",
              "      <td>33.770</td>\n",
              "      <td>1</td>\n",
              "      <td>0</td>\n",
              "      <td>4</td>\n",
              "    </tr>\n",
              "    <tr>\n",
              "      <th>2</th>\n",
              "      <td>28</td>\n",
              "      <td>1</td>\n",
              "      <td>33.000</td>\n",
              "      <td>3</td>\n",
              "      <td>0</td>\n",
              "      <td>4</td>\n",
              "    </tr>\n",
              "    <tr>\n",
              "      <th>3</th>\n",
              "      <td>33</td>\n",
              "      <td>1</td>\n",
              "      <td>22.705</td>\n",
              "      <td>0</td>\n",
              "      <td>0</td>\n",
              "      <td>2</td>\n",
              "    </tr>\n",
              "    <tr>\n",
              "      <th>4</th>\n",
              "      <td>32</td>\n",
              "      <td>1</td>\n",
              "      <td>28.880</td>\n",
              "      <td>0</td>\n",
              "      <td>0</td>\n",
              "      <td>2</td>\n",
              "    </tr>\n",
              "    <tr>\n",
              "      <th>...</th>\n",
              "      <td>...</td>\n",
              "      <td>...</td>\n",
              "      <td>...</td>\n",
              "      <td>...</td>\n",
              "      <td>...</td>\n",
              "      <td>...</td>\n",
              "    </tr>\n",
              "    <tr>\n",
              "      <th>1333</th>\n",
              "      <td>50</td>\n",
              "      <td>1</td>\n",
              "      <td>30.970</td>\n",
              "      <td>3</td>\n",
              "      <td>0</td>\n",
              "      <td>2</td>\n",
              "    </tr>\n",
              "    <tr>\n",
              "      <th>1334</th>\n",
              "      <td>18</td>\n",
              "      <td>0</td>\n",
              "      <td>31.920</td>\n",
              "      <td>0</td>\n",
              "      <td>0</td>\n",
              "      <td>3</td>\n",
              "    </tr>\n",
              "    <tr>\n",
              "      <th>1335</th>\n",
              "      <td>18</td>\n",
              "      <td>0</td>\n",
              "      <td>36.850</td>\n",
              "      <td>0</td>\n",
              "      <td>0</td>\n",
              "      <td>4</td>\n",
              "    </tr>\n",
              "    <tr>\n",
              "      <th>1336</th>\n",
              "      <td>21</td>\n",
              "      <td>0</td>\n",
              "      <td>25.800</td>\n",
              "      <td>0</td>\n",
              "      <td>0</td>\n",
              "      <td>1</td>\n",
              "    </tr>\n",
              "    <tr>\n",
              "      <th>1337</th>\n",
              "      <td>61</td>\n",
              "      <td>0</td>\n",
              "      <td>29.070</td>\n",
              "      <td>0</td>\n",
              "      <td>1</td>\n",
              "      <td>2</td>\n",
              "    </tr>\n",
              "  </tbody>\n",
              "</table>\n",
              "<p>1338 rows × 6 columns</p>\n",
              "</div>\n",
              "    <div class=\"colab-df-buttons\">\n",
              "\n",
              "  <div class=\"colab-df-container\">\n",
              "    <button class=\"colab-df-convert\" onclick=\"convertToInteractive('df-f19ce883-eccf-40af-acde-0d077d86bb95')\"\n",
              "            title=\"Convert this dataframe to an interactive table.\"\n",
              "            style=\"display:none;\">\n",
              "\n",
              "  <svg xmlns=\"http://www.w3.org/2000/svg\" height=\"24px\" viewBox=\"0 -960 960 960\">\n",
              "    <path d=\"M120-120v-720h720v720H120Zm60-500h600v-160H180v160Zm220 220h160v-160H400v160Zm0 220h160v-160H400v160ZM180-400h160v-160H180v160Zm440 0h160v-160H620v160ZM180-180h160v-160H180v160Zm440 0h160v-160H620v160Z\"/>\n",
              "  </svg>\n",
              "    </button>\n",
              "\n",
              "  <style>\n",
              "    .colab-df-container {\n",
              "      display:flex;\n",
              "      gap: 12px;\n",
              "    }\n",
              "\n",
              "    .colab-df-convert {\n",
              "      background-color: #E8F0FE;\n",
              "      border: none;\n",
              "      border-radius: 50%;\n",
              "      cursor: pointer;\n",
              "      display: none;\n",
              "      fill: #1967D2;\n",
              "      height: 32px;\n",
              "      padding: 0 0 0 0;\n",
              "      width: 32px;\n",
              "    }\n",
              "\n",
              "    .colab-df-convert:hover {\n",
              "      background-color: #E2EBFA;\n",
              "      box-shadow: 0px 1px 2px rgba(60, 64, 67, 0.3), 0px 1px 3px 1px rgba(60, 64, 67, 0.15);\n",
              "      fill: #174EA6;\n",
              "    }\n",
              "\n",
              "    .colab-df-buttons div {\n",
              "      margin-bottom: 4px;\n",
              "    }\n",
              "\n",
              "    [theme=dark] .colab-df-convert {\n",
              "      background-color: #3B4455;\n",
              "      fill: #D2E3FC;\n",
              "    }\n",
              "\n",
              "    [theme=dark] .colab-df-convert:hover {\n",
              "      background-color: #434B5C;\n",
              "      box-shadow: 0px 1px 3px 1px rgba(0, 0, 0, 0.15);\n",
              "      filter: drop-shadow(0px 1px 2px rgba(0, 0, 0, 0.3));\n",
              "      fill: #FFFFFF;\n",
              "    }\n",
              "  </style>\n",
              "\n",
              "    <script>\n",
              "      const buttonEl =\n",
              "        document.querySelector('#df-f19ce883-eccf-40af-acde-0d077d86bb95 button.colab-df-convert');\n",
              "      buttonEl.style.display =\n",
              "        google.colab.kernel.accessAllowed ? 'block' : 'none';\n",
              "\n",
              "      async function convertToInteractive(key) {\n",
              "        const element = document.querySelector('#df-f19ce883-eccf-40af-acde-0d077d86bb95');\n",
              "        const dataTable =\n",
              "          await google.colab.kernel.invokeFunction('convertToInteractive',\n",
              "                                                    [key], {});\n",
              "        if (!dataTable) return;\n",
              "\n",
              "        const docLinkHtml = 'Like what you see? Visit the ' +\n",
              "          '<a target=\"_blank\" href=https://colab.research.google.com/notebooks/data_table.ipynb>data table notebook</a>'\n",
              "          + ' to learn more about interactive tables.';\n",
              "        element.innerHTML = '';\n",
              "        dataTable['output_type'] = 'display_data';\n",
              "        await google.colab.output.renderOutput(dataTable, element);\n",
              "        const docLink = document.createElement('div');\n",
              "        docLink.innerHTML = docLinkHtml;\n",
              "        element.appendChild(docLink);\n",
              "      }\n",
              "    </script>\n",
              "  </div>\n",
              "\n",
              "\n",
              "<div id=\"df-a8b676e0-f9aa-4ec0-9eed-c0edcd6ebbf2\">\n",
              "  <button class=\"colab-df-quickchart\" onclick=\"quickchart('df-a8b676e0-f9aa-4ec0-9eed-c0edcd6ebbf2')\"\n",
              "            title=\"Suggest charts\"\n",
              "            style=\"display:none;\">\n",
              "\n",
              "<svg xmlns=\"http://www.w3.org/2000/svg\" height=\"24px\"viewBox=\"0 0 24 24\"\n",
              "     width=\"24px\">\n",
              "    <g>\n",
              "        <path d=\"M19 3H5c-1.1 0-2 .9-2 2v14c0 1.1.9 2 2 2h14c1.1 0 2-.9 2-2V5c0-1.1-.9-2-2-2zM9 17H7v-7h2v7zm4 0h-2V7h2v10zm4 0h-2v-4h2v4z\"/>\n",
              "    </g>\n",
              "</svg>\n",
              "  </button>\n",
              "\n",
              "<style>\n",
              "  .colab-df-quickchart {\n",
              "      --bg-color: #E8F0FE;\n",
              "      --fill-color: #1967D2;\n",
              "      --hover-bg-color: #E2EBFA;\n",
              "      --hover-fill-color: #174EA6;\n",
              "      --disabled-fill-color: #AAA;\n",
              "      --disabled-bg-color: #DDD;\n",
              "  }\n",
              "\n",
              "  [theme=dark] .colab-df-quickchart {\n",
              "      --bg-color: #3B4455;\n",
              "      --fill-color: #D2E3FC;\n",
              "      --hover-bg-color: #434B5C;\n",
              "      --hover-fill-color: #FFFFFF;\n",
              "      --disabled-bg-color: #3B4455;\n",
              "      --disabled-fill-color: #666;\n",
              "  }\n",
              "\n",
              "  .colab-df-quickchart {\n",
              "    background-color: var(--bg-color);\n",
              "    border: none;\n",
              "    border-radius: 50%;\n",
              "    cursor: pointer;\n",
              "    display: none;\n",
              "    fill: var(--fill-color);\n",
              "    height: 32px;\n",
              "    padding: 0;\n",
              "    width: 32px;\n",
              "  }\n",
              "\n",
              "  .colab-df-quickchart:hover {\n",
              "    background-color: var(--hover-bg-color);\n",
              "    box-shadow: 0 1px 2px rgba(60, 64, 67, 0.3), 0 1px 3px 1px rgba(60, 64, 67, 0.15);\n",
              "    fill: var(--button-hover-fill-color);\n",
              "  }\n",
              "\n",
              "  .colab-df-quickchart-complete:disabled,\n",
              "  .colab-df-quickchart-complete:disabled:hover {\n",
              "    background-color: var(--disabled-bg-color);\n",
              "    fill: var(--disabled-fill-color);\n",
              "    box-shadow: none;\n",
              "  }\n",
              "\n",
              "  .colab-df-spinner {\n",
              "    border: 2px solid var(--fill-color);\n",
              "    border-color: transparent;\n",
              "    border-bottom-color: var(--fill-color);\n",
              "    animation:\n",
              "      spin 1s steps(1) infinite;\n",
              "  }\n",
              "\n",
              "  @keyframes spin {\n",
              "    0% {\n",
              "      border-color: transparent;\n",
              "      border-bottom-color: var(--fill-color);\n",
              "      border-left-color: var(--fill-color);\n",
              "    }\n",
              "    20% {\n",
              "      border-color: transparent;\n",
              "      border-left-color: var(--fill-color);\n",
              "      border-top-color: var(--fill-color);\n",
              "    }\n",
              "    30% {\n",
              "      border-color: transparent;\n",
              "      border-left-color: var(--fill-color);\n",
              "      border-top-color: var(--fill-color);\n",
              "      border-right-color: var(--fill-color);\n",
              "    }\n",
              "    40% {\n",
              "      border-color: transparent;\n",
              "      border-right-color: var(--fill-color);\n",
              "      border-top-color: var(--fill-color);\n",
              "    }\n",
              "    60% {\n",
              "      border-color: transparent;\n",
              "      border-right-color: var(--fill-color);\n",
              "    }\n",
              "    80% {\n",
              "      border-color: transparent;\n",
              "      border-right-color: var(--fill-color);\n",
              "      border-bottom-color: var(--fill-color);\n",
              "    }\n",
              "    90% {\n",
              "      border-color: transparent;\n",
              "      border-bottom-color: var(--fill-color);\n",
              "    }\n",
              "  }\n",
              "</style>\n",
              "\n",
              "  <script>\n",
              "    async function quickchart(key) {\n",
              "      const quickchartButtonEl =\n",
              "        document.querySelector('#' + key + ' button');\n",
              "      quickchartButtonEl.disabled = true;  // To prevent multiple clicks.\n",
              "      quickchartButtonEl.classList.add('colab-df-spinner');\n",
              "      try {\n",
              "        const charts = await google.colab.kernel.invokeFunction(\n",
              "            'suggestCharts', [key], {});\n",
              "      } catch (error) {\n",
              "        console.error('Error during call to suggestCharts:', error);\n",
              "      }\n",
              "      quickchartButtonEl.classList.remove('colab-df-spinner');\n",
              "      quickchartButtonEl.classList.add('colab-df-quickchart-complete');\n",
              "    }\n",
              "    (() => {\n",
              "      let quickchartButtonEl =\n",
              "        document.querySelector('#df-a8b676e0-f9aa-4ec0-9eed-c0edcd6ebbf2 button');\n",
              "      quickchartButtonEl.style.display =\n",
              "        google.colab.kernel.accessAllowed ? 'block' : 'none';\n",
              "    })();\n",
              "  </script>\n",
              "</div>\n",
              "    </div>\n",
              "  </div>\n"
            ]
          },
          "metadata": {},
          "execution_count": 40
        }
      ]
    },
    {
      "cell_type": "markdown",
      "source": [
        "## Spiliting Dataset"
      ],
      "metadata": {
        "id": "fvExMj-6mU-n"
      }
    },
    {
      "cell_type": "code",
      "source": [
        "#@title Split Dataset\n",
        "test_frac = 0.2 #@param {type:\"number\"}\n",
        "from sklearn.model_selection import train_test_split\n",
        "\n",
        "clf_X_train, clf_X_test, clf_y_train, clf_y_test = train_test_split(clf_df.drop('output',axis=1),\n",
        "                                                                    clf_output,\n",
        "                                                                    test_size=test_frac, random_state=0)"
      ],
      "metadata": {
        "id": "9y6O0h7oXnRb"
      },
      "execution_count": null,
      "outputs": []
    },
    {
      "cell_type": "code",
      "source": [
        "test_frac = 0.2\n",
        "reg_X_train, reg_X_test, reg_y_train, reg_y_test = train_test_split(reg_df,\n",
        "                                                                    reg_output,\n",
        "                                                                    test_size=test_frac, random_state=0)"
      ],
      "metadata": {
        "id": "6tyj9RqpV4OL"
      },
      "execution_count": null,
      "outputs": []
    },
    {
      "cell_type": "markdown",
      "source": [
        "#### Normalization/Standardization of Data"
      ],
      "metadata": {
        "id": "gLCMZJYI8gGW"
      }
    },
    {
      "cell_type": "code",
      "source": [
        "from sklearn.preprocessing import StandardScaler\n",
        "\n",
        "# Save the column names and index\n",
        "column_names = clf_df.drop('output',axis=1).columns\n",
        "index = clf_X_train.index\n",
        "\n",
        "clf_scaler = StandardScaler()\n",
        "# Don't cheat! - fit only on training data\n",
        "\n",
        "clf_scaler.fit(clf_X_train)\n",
        "clf_X_train = clf_scaler.transform(clf_X_train)\n",
        "\n",
        "# Convert the scaled data back to a DataFrame\n",
        "clf_X_train = pd.DataFrame(clf_X_train, columns=column_names, index=index)"
      ],
      "metadata": {
        "id": "QCdaRB_cmldB"
      },
      "execution_count": null,
      "outputs": []
    },
    {
      "cell_type": "code",
      "source": [
        "reg_scaler = StandardScaler()\n",
        "# Don't cheat - fit only on training data\n",
        "reg_scaler.fit(reg_X_train)\n",
        "reg_X_train = reg_scaler.transform(reg_X_train)\n"
      ],
      "metadata": {
        "id": "xzQtySYW8wJb"
      },
      "execution_count": null,
      "outputs": []
    },
    {
      "cell_type": "markdown",
      "source": [
        "### First, we do the Binary Classification problem using the 3 requested libraries (`Scikit-Learn`, `Keras` and `PyTorch`), then we go to the Regression problem and do the same procedure."
      ],
      "metadata": {
        "id": "fsdfWm_jWa-V"
      }
    },
    {
      "cell_type": "markdown",
      "source": [
        "# Classification"
      ],
      "metadata": {
        "id": "GJyPTu8T9eqi"
      }
    },
    {
      "cell_type": "markdown",
      "source": [
        "### Scikit-Learn"
      ],
      "metadata": {
        "id": "oDw6p5ad9jso"
      }
    },
    {
      "cell_type": "markdown",
      "source": [
        "The code of multi-layer perceptron is straightforward. We first initialize a class of type `MLPClassifier`, which has many parameters, including solver, the algorithm to use to solve the optimization problem. The `sgd` solver is a robust and flexible method that can work well in many binary classification scenarios, provided the data and the problem characteristics align well with the strengths of the SGD approach.. `hidden_layer_size` parameter refers to the shape of our network. After that, we will fit the classifier on our data and evaluate it on the test set."
      ],
      "metadata": {
        "id": "9wFtAXnV9yhE"
      }
    },
    {
      "cell_type": "code",
      "source": [
        "from sklearn.neural_network import MLPClassifier\n",
        "\n",
        "clf = MLPClassifier(hidden_layer_sizes=(100, 10, 25), activation='tanh', solver='sgd',\n",
        "                    alpha=1e-7, batch_size='auto', learning_rate='adaptive',\n",
        "                    learning_rate_init=0.001, max_iter=250, early_stopping=True,\n",
        "                    validation_fraction=0.1, n_iter_no_change=10, random_state=42)\n",
        "# Fit the model\n",
        "clf.fit(clf_X_train, clf_y_train)"
      ],
      "metadata": {
        "colab": {
          "base_uri": "https://localhost:8080/",
          "height": 109
        },
        "id": "JDhHMDzE9hx9",
        "outputId": "9b6b9287-2da1-4b2d-f6a4-d33daaf139df"
      },
      "execution_count": null,
      "outputs": [
        {
          "output_type": "execute_result",
          "data": {
            "text/plain": [
              "MLPClassifier(activation='tanh', alpha=1e-07, early_stopping=True,\n",
              "              hidden_layer_sizes=(100, 10, 25), learning_rate='adaptive',\n",
              "              max_iter=250, random_state=42, solver='sgd')"
            ],
            "text/html": [
              "<style>#sk-container-id-7 {color: black;background-color: white;}#sk-container-id-7 pre{padding: 0;}#sk-container-id-7 div.sk-toggleable {background-color: white;}#sk-container-id-7 label.sk-toggleable__label {cursor: pointer;display: block;width: 100%;margin-bottom: 0;padding: 0.3em;box-sizing: border-box;text-align: center;}#sk-container-id-7 label.sk-toggleable__label-arrow:before {content: \"▸\";float: left;margin-right: 0.25em;color: #696969;}#sk-container-id-7 label.sk-toggleable__label-arrow:hover:before {color: black;}#sk-container-id-7 div.sk-estimator:hover label.sk-toggleable__label-arrow:before {color: black;}#sk-container-id-7 div.sk-toggleable__content {max-height: 0;max-width: 0;overflow: hidden;text-align: left;background-color: #f0f8ff;}#sk-container-id-7 div.sk-toggleable__content pre {margin: 0.2em;color: black;border-radius: 0.25em;background-color: #f0f8ff;}#sk-container-id-7 input.sk-toggleable__control:checked~div.sk-toggleable__content {max-height: 200px;max-width: 100%;overflow: auto;}#sk-container-id-7 input.sk-toggleable__control:checked~label.sk-toggleable__label-arrow:before {content: \"▾\";}#sk-container-id-7 div.sk-estimator input.sk-toggleable__control:checked~label.sk-toggleable__label {background-color: #d4ebff;}#sk-container-id-7 div.sk-label input.sk-toggleable__control:checked~label.sk-toggleable__label {background-color: #d4ebff;}#sk-container-id-7 input.sk-hidden--visually {border: 0;clip: rect(1px 1px 1px 1px);clip: rect(1px, 1px, 1px, 1px);height: 1px;margin: -1px;overflow: hidden;padding: 0;position: absolute;width: 1px;}#sk-container-id-7 div.sk-estimator {font-family: monospace;background-color: #f0f8ff;border: 1px dotted black;border-radius: 0.25em;box-sizing: border-box;margin-bottom: 0.5em;}#sk-container-id-7 div.sk-estimator:hover {background-color: #d4ebff;}#sk-container-id-7 div.sk-parallel-item::after {content: \"\";width: 100%;border-bottom: 1px solid gray;flex-grow: 1;}#sk-container-id-7 div.sk-label:hover label.sk-toggleable__label {background-color: #d4ebff;}#sk-container-id-7 div.sk-serial::before {content: \"\";position: absolute;border-left: 1px solid gray;box-sizing: border-box;top: 0;bottom: 0;left: 50%;z-index: 0;}#sk-container-id-7 div.sk-serial {display: flex;flex-direction: column;align-items: center;background-color: white;padding-right: 0.2em;padding-left: 0.2em;position: relative;}#sk-container-id-7 div.sk-item {position: relative;z-index: 1;}#sk-container-id-7 div.sk-parallel {display: flex;align-items: stretch;justify-content: center;background-color: white;position: relative;}#sk-container-id-7 div.sk-item::before, #sk-container-id-7 div.sk-parallel-item::before {content: \"\";position: absolute;border-left: 1px solid gray;box-sizing: border-box;top: 0;bottom: 0;left: 50%;z-index: -1;}#sk-container-id-7 div.sk-parallel-item {display: flex;flex-direction: column;z-index: 1;position: relative;background-color: white;}#sk-container-id-7 div.sk-parallel-item:first-child::after {align-self: flex-end;width: 50%;}#sk-container-id-7 div.sk-parallel-item:last-child::after {align-self: flex-start;width: 50%;}#sk-container-id-7 div.sk-parallel-item:only-child::after {width: 0;}#sk-container-id-7 div.sk-dashed-wrapped {border: 1px dashed gray;margin: 0 0.4em 0.5em 0.4em;box-sizing: border-box;padding-bottom: 0.4em;background-color: white;}#sk-container-id-7 div.sk-label label {font-family: monospace;font-weight: bold;display: inline-block;line-height: 1.2em;}#sk-container-id-7 div.sk-label-container {text-align: center;}#sk-container-id-7 div.sk-container {/* jupyter's `normalize.less` sets `[hidden] { display: none; }` but bootstrap.min.css set `[hidden] { display: none !important; }` so we also need the `!important` here to be able to override the default hidden behavior on the sphinx rendered scikit-learn.org. See: https://github.com/scikit-learn/scikit-learn/issues/21755 */display: inline-block !important;position: relative;}#sk-container-id-7 div.sk-text-repr-fallback {display: none;}</style><div id=\"sk-container-id-7\" class=\"sk-top-container\"><div class=\"sk-text-repr-fallback\"><pre>MLPClassifier(activation=&#x27;tanh&#x27;, alpha=1e-07, early_stopping=True,\n",
              "              hidden_layer_sizes=(100, 10, 25), learning_rate=&#x27;adaptive&#x27;,\n",
              "              max_iter=250, random_state=42, solver=&#x27;sgd&#x27;)</pre><b>In a Jupyter environment, please rerun this cell to show the HTML representation or trust the notebook. <br />On GitHub, the HTML representation is unable to render, please try loading this page with nbviewer.org.</b></div><div class=\"sk-container\" hidden><div class=\"sk-item\"><div class=\"sk-estimator sk-toggleable\"><input class=\"sk-toggleable__control sk-hidden--visually\" id=\"sk-estimator-id-7\" type=\"checkbox\" checked><label for=\"sk-estimator-id-7\" class=\"sk-toggleable__label sk-toggleable__label-arrow\">MLPClassifier</label><div class=\"sk-toggleable__content\"><pre>MLPClassifier(activation=&#x27;tanh&#x27;, alpha=1e-07, early_stopping=True,\n",
              "              hidden_layer_sizes=(100, 10, 25), learning_rate=&#x27;adaptive&#x27;,\n",
              "              max_iter=250, random_state=42, solver=&#x27;sgd&#x27;)</pre></div></div></div></div></div>"
            ]
          },
          "metadata": {},
          "execution_count": 39
        }
      ]
    },
    {
      "cell_type": "code",
      "source": [
        "# Make predictions\n",
        "predictions = clf.predict(clf_X_test)\n",
        "\n",
        "# Calculate F1 score\n",
        "from sklearn.metrics import f1_score\n",
        "f1 = f1_score(clf_y_test, predictions)\n",
        "\n",
        "print(f1)\n"
      ],
      "metadata": {
        "colab": {
          "base_uri": "https://localhost:8080/"
        },
        "id": "xHaHediOKfpi",
        "outputId": "1ef9b608-b1ec-4312-b9c4-c8c3a8b9f9cf"
      },
      "execution_count": null,
      "outputs": [
        {
          "output_type": "stream",
          "name": "stdout",
          "text": [
            "0.7567567567567567\n"
          ]
        }
      ]
    },
    {
      "cell_type": "markdown",
      "source": [
        "We get F1-Score above %75 by using Multilayer Perceptron with Scikit-Learn"
      ],
      "metadata": {
        "id": "GNt_-9OaXeoB"
      }
    },
    {
      "cell_type": "markdown",
      "source": [
        "### Keras"
      ],
      "metadata": {
        "id": "onzPwgO5X4xb"
      }
    },
    {
      "cell_type": "markdown",
      "source": [
        "Using Tensorflow sequential API makes it easy to create different types of networks. We first create the model using instantiating the class of tf.models.Sequential, and after that, we will add the layers and corresponding activation function to it.  \n",
        "Note that we use the `ReLU` activation function for internal layers, while we use the `sigmoid` function for the last layer as this is a classification task.   \n",
        "Finally, we will fit the model on our training data and evaluate it on the test set using our custom f1-score function."
      ],
      "metadata": {
        "id": "6llnJdCxYITr"
      }
    },
    {
      "cell_type": "code",
      "source": [
        "%pip install tensorflow_addons\n",
        "import tensorflow as tf\n",
        "import tensorflow_addons as tfa\n",
        "\n",
        "from keras.models import Sequential\n",
        "from keras.layers import Dense\n",
        "from keras import callbacks"
      ],
      "metadata": {
        "colab": {
          "base_uri": "https://localhost:8080/"
        },
        "id": "7pmdplt5QIKm",
        "outputId": "d918b1f7-b33a-4d93-e517-ad7919d90850"
      },
      "execution_count": null,
      "outputs": [
        {
          "output_type": "stream",
          "name": "stdout",
          "text": [
            "Collecting tensorflow_addons\n",
            "  Downloading tensorflow_addons-0.23.0-cp310-cp310-manylinux_2_17_x86_64.manylinux2014_x86_64.whl (611 kB)\n",
            "\u001b[2K     \u001b[90m━━━━━━━━━━━━━━━━━━━━━━━━━━━━━━━━━━━━━━━━\u001b[0m \u001b[32m611.8/611.8 kB\u001b[0m \u001b[31m8.4 MB/s\u001b[0m eta \u001b[36m0:00:00\u001b[0m\n",
            "\u001b[?25hRequirement already satisfied: packaging in /usr/local/lib/python3.10/dist-packages (from tensorflow_addons) (23.2)\n",
            "Collecting typeguard<3.0.0,>=2.7 (from tensorflow_addons)\n",
            "  Downloading typeguard-2.13.3-py3-none-any.whl (17 kB)\n",
            "Installing collected packages: typeguard, tensorflow_addons\n",
            "Successfully installed tensorflow_addons-0.23.0 typeguard-2.13.3\n"
          ]
        },
        {
          "output_type": "stream",
          "name": "stderr",
          "text": [
            "/usr/local/lib/python3.10/dist-packages/tensorflow_addons/utils/tfa_eol_msg.py:23: UserWarning: \n",
            "\n",
            "TensorFlow Addons (TFA) has ended development and introduction of new features.\n",
            "TFA has entered a minimal maintenance and release mode until a planned end of life in May 2024.\n",
            "Please modify downstream libraries to take dependencies from other repositories in our TensorFlow community (e.g. Keras, Keras-CV, and Keras-NLP). \n",
            "\n",
            "For more information see: https://github.com/tensorflow/addons/issues/2807 \n",
            "\n",
            "  warnings.warn(\n"
          ]
        }
      ]
    },
    {
      "cell_type": "code",
      "source": [
        "model = Sequential()\n",
        "\n",
        "# Add a layer with 100 hidden neurons\n",
        "model.add(Dense(150, input_dim=clf_X_train.shape[1], activation='tanh'))\n",
        "\n",
        "model.add(Dense(50, activation='relu'))\n",
        "\n",
        "model.add(Dense(15, activation='tanh'))\n",
        "\n",
        "# Add the output layer, with sigmoid activation fuction (for binary classification)\n",
        "model.add(Dense(1, activation='sigmoid'))\n"
      ],
      "metadata": {
        "id": "jDmAEP_SZcX2"
      },
      "execution_count": null,
      "outputs": []
    },
    {
      "cell_type": "code",
      "source": [
        "#Early stopping\n",
        "early_stopping = callbacks.EarlyStopping(\n",
        "    min_delta=0.001,          # minimium amount of change to be considered an improvement\n",
        "    patience=20,              # number of epochs to wait before deciding there is no significant improvement in training\n",
        "    restore_best_weights=True,\n",
        ")"
      ],
      "metadata": {
        "id": "__9JqSnnZq0z"
      },
      "execution_count": null,
      "outputs": []
    },
    {
      "cell_type": "code",
      "source": [
        "model.compile(\n",
        "    loss='binary_crossentropy',\n",
        "    optimizer=tf.keras.optimizers.Adam(learning_rate=0.005),\n",
        "    metrics=[tf.keras.metrics.Precision(),tf.keras.metrics.Recall()],\n",
        "    )"
      ],
      "metadata": {
        "id": "O50x5VqDce4r"
      },
      "execution_count": null,
      "outputs": []
    },
    {
      "cell_type": "code",
      "source": [
        "history = model.fit(clf_X_train, clf_y_train,\n",
        "                    batch_size = 16,\n",
        "                    epochs = 200,\n",
        "                    validation_split=0.2,\n",
        "                    callbacks=[early_stopping]\n",
        "                    )"
      ],
      "metadata": {
        "colab": {
          "base_uri": "https://localhost:8080/"
        },
        "id": "Dmxj4F1RcroA",
        "outputId": "425c6da8-2a0c-4aed-a83b-d152736c3306"
      },
      "execution_count": null,
      "outputs": [
        {
          "output_type": "stream",
          "name": "stdout",
          "text": [
            "Epoch 1/200\n",
            "13/13 [==============================] - 1s 29ms/step - loss: 0.6893 - precision_10: 0.6429 - recall_10: 0.6667 - val_loss: 0.6340 - val_precision_10: 0.6129 - val_recall_10: 0.8261\n",
            "Epoch 2/200\n",
            "13/13 [==============================] - 0s 7ms/step - loss: 0.6735 - precision_10: 0.6048 - recall_10: 0.6944 - val_loss: 0.6855 - val_precision_10: 0.5000 - val_recall_10: 1.0000\n",
            "Epoch 3/200\n",
            "13/13 [==============================] - 0s 6ms/step - loss: 0.6562 - precision_10: 0.6555 - recall_10: 0.7222 - val_loss: 0.6017 - val_precision_10: 0.7222 - val_recall_10: 0.5652\n",
            "Epoch 4/200\n",
            "13/13 [==============================] - 0s 7ms/step - loss: 0.6416 - precision_10: 0.6579 - recall_10: 0.6944 - val_loss: 0.6008 - val_precision_10: 0.7727 - val_recall_10: 0.7391\n",
            "Epoch 5/200\n",
            "13/13 [==============================] - 0s 6ms/step - loss: 0.6371 - precision_10: 0.6807 - recall_10: 0.7500 - val_loss: 0.6422 - val_precision_10: 0.8000 - val_recall_10: 0.3478\n",
            "Epoch 6/200\n",
            "13/13 [==============================] - 0s 7ms/step - loss: 0.6868 - precision_10: 0.6620 - recall_10: 0.4352 - val_loss: 0.9173 - val_precision_10: 0.4694 - val_recall_10: 1.0000\n",
            "Epoch 7/200\n",
            "13/13 [==============================] - 0s 6ms/step - loss: 0.7152 - precision_10: 0.5897 - recall_10: 0.8519 - val_loss: 0.6540 - val_precision_10: 0.0000e+00 - val_recall_10: 0.0000e+00\n",
            "Epoch 8/200\n",
            "13/13 [==============================] - 0s 8ms/step - loss: 0.6618 - precision_10: 0.6356 - recall_10: 0.6944 - val_loss: 0.6019 - val_precision_10: 0.8462 - val_recall_10: 0.4783\n",
            "Epoch 9/200\n",
            "13/13 [==============================] - 0s 6ms/step - loss: 0.6359 - precision_10: 0.7284 - recall_10: 0.5463 - val_loss: 1.0031 - val_precision_10: 0.4694 - val_recall_10: 1.0000\n",
            "Epoch 10/200\n",
            "13/13 [==============================] - 0s 6ms/step - loss: 0.7598 - precision_10: 0.6014 - recall_10: 0.8241 - val_loss: 0.6865 - val_precision_10: 0.5000 - val_recall_10: 0.9565\n",
            "Epoch 11/200\n",
            "13/13 [==============================] - 0s 7ms/step - loss: 0.6728 - precision_10: 0.6075 - recall_10: 0.6019 - val_loss: 0.7250 - val_precision_10: 0.4894 - val_recall_10: 1.0000\n",
            "Epoch 12/200\n",
            "13/13 [==============================] - 0s 8ms/step - loss: 0.7279 - precision_10: 0.5596 - recall_10: 1.0000 - val_loss: 0.7780 - val_precision_10: 0.4694 - val_recall_10: 1.0000\n",
            "Epoch 13/200\n",
            "13/13 [==============================] - 0s 6ms/step - loss: 0.6968 - precision_10: 0.5596 - recall_10: 1.0000 - val_loss: 0.7027 - val_precision_10: 0.4694 - val_recall_10: 1.0000\n",
            "Epoch 14/200\n",
            "13/13 [==============================] - 0s 7ms/step - loss: 0.6858 - precision_10: 0.5596 - recall_10: 1.0000 - val_loss: 0.6993 - val_precision_10: 0.4694 - val_recall_10: 1.0000\n",
            "Epoch 15/200\n",
            "13/13 [==============================] - 0s 7ms/step - loss: 0.6847 - precision_10: 0.5792 - recall_10: 0.9815 - val_loss: 0.6848 - val_precision_10: 0.5366 - val_recall_10: 0.9565\n",
            "Epoch 16/200\n",
            "13/13 [==============================] - 0s 6ms/step - loss: 0.6726 - precision_10: 0.6242 - recall_10: 0.8611 - val_loss: 0.6883 - val_precision_10: 0.5116 - val_recall_10: 0.9565\n",
            "Epoch 17/200\n",
            "13/13 [==============================] - 0s 7ms/step - loss: 0.6911 - precision_10: 0.5654 - recall_10: 1.0000 - val_loss: 0.7552 - val_precision_10: 0.4694 - val_recall_10: 1.0000\n",
            "Epoch 18/200\n",
            "13/13 [==============================] - 0s 7ms/step - loss: 0.6989 - precision_10: 0.5596 - recall_10: 1.0000 - val_loss: 0.7256 - val_precision_10: 0.4694 - val_recall_10: 1.0000\n",
            "Epoch 19/200\n",
            "13/13 [==============================] - 0s 6ms/step - loss: 0.6895 - precision_10: 0.5596 - recall_10: 1.0000 - val_loss: 0.7131 - val_precision_10: 0.4694 - val_recall_10: 1.0000\n",
            "Epoch 20/200\n",
            "13/13 [==============================] - 0s 6ms/step - loss: 0.6862 - precision_10: 0.5596 - recall_10: 1.0000 - val_loss: 0.6975 - val_precision_10: 0.4694 - val_recall_10: 1.0000\n",
            "Epoch 21/200\n",
            "13/13 [==============================] - 0s 8ms/step - loss: 0.6830 - precision_10: 0.5596 - recall_10: 1.0000 - val_loss: 0.7034 - val_precision_10: 0.4694 - val_recall_10: 1.0000\n",
            "Epoch 22/200\n",
            "13/13 [==============================] - 0s 6ms/step - loss: 0.6805 - precision_10: 0.5596 - recall_10: 1.0000 - val_loss: 0.6899 - val_precision_10: 0.4694 - val_recall_10: 1.0000\n",
            "Epoch 23/200\n",
            "13/13 [==============================] - 0s 6ms/step - loss: 0.6863 - precision_10: 0.6139 - recall_10: 0.5741 - val_loss: 0.6767 - val_precision_10: 0.5556 - val_recall_10: 0.8696\n"
          ]
        }
      ]
    },
    {
      "cell_type": "code",
      "source": [
        "predictions = model.predict(clf_X_test)\n",
        "print('F1-score is %.2f' %f1_score(clf_y_test, predictions>0.4))"
      ],
      "metadata": {
        "colab": {
          "base_uri": "https://localhost:8080/"
        },
        "id": "ECYtE4JZcvA8",
        "outputId": "ae58209c-d086-4395-ecf1-cfb780df8ffd"
      },
      "execution_count": null,
      "outputs": [
        {
          "output_type": "stream",
          "name": "stdout",
          "text": [
            "2/2 [==============================] - 0s 8ms/step\n",
            "F1-score is 0.81\n"
          ]
        }
      ]
    },
    {
      "cell_type": "markdown",
      "source": [
        "We get F1-Score above %75 by using 4-layer feedforward network with Keras"
      ],
      "metadata": {
        "id": "Nyl8WvJeqAlQ"
      }
    },
    {
      "cell_type": "markdown",
      "source": [
        "### PyTorch"
      ],
      "metadata": {
        "id": "yD1pvx9GqUK8"
      }
    },
    {
      "cell_type": "markdown",
      "source": [
        "Using the **PyTorch** library is quite similar to Tensorflow. The PyTorch library has a similar API to Tensorflow's Sequential API, but in this part, we will use the standard PyTorch API. First, we will transform the training and test data arrays to PyTorch tensors. After that, we create a model using PyTorch API. In the __init__ method of this class, we will initialize different linear layers of the model.  \n",
        "The difference between PyTorch and Tensorflow is that in PyTorch, we need to know the shape of our input layer, while in Tensorflow, the library can find that itself. In the forward method, we will specify how the model's components interact with each other. The other difference between PyTorch and Tensorflow is that we should write the training loop ourselves in PyTorch, while in Tensorflow, the framework will take this part over. Finally, like other parts, we will evaluate the model on the test set."
      ],
      "metadata": {
        "id": "0MzHCzYAqhJH"
      }
    },
    {
      "cell_type": "code",
      "source": [
        "import torch\n",
        "import torch.nn as nn\n",
        "import torch.nn.functional as F\n",
        "from torch.utils.data import TensorDataset, DataLoader\n",
        "from torch import Tensor"
      ],
      "metadata": {
        "id": "9qda4VgCilXV"
      },
      "execution_count": null,
      "outputs": []
    },
    {
      "cell_type": "code",
      "source": [
        "# transform to torch tensor\n",
        "tensor_X_train = Tensor(clf_X_train.values.astype(np.float32))\n",
        "tensor_y_train = Tensor(clf_y_train.values.astype(np.float32))\n",
        "tensor_X_test = Tensor(clf_X_test.values.astype(np.float32))\n",
        "tensor_y_test = Tensor(clf_y_test.values.astype(np.float32))\n",
        "\n",
        "# create the datset\n",
        "train_set = TensorDataset(tensor_X_train,tensor_y_train)\n",
        "test_set = TensorDataset(tensor_X_test,tensor_y_test)\n",
        "\n",
        "\n",
        "# create your dataloader\n",
        "train_dl = DataLoader(train_set,batch_size=32, shuffle=True)\n",
        "test_dl = DataLoader(test_set,batch_size=32, shuffle=True)"
      ],
      "metadata": {
        "id": "57wtWHD2sPgH"
      },
      "execution_count": null,
      "outputs": []
    },
    {
      "cell_type": "code",
      "source": [
        "layers = []\n",
        "layers.append(nn.Linear(clf_X_train.shape[1], 100))\n",
        "layers.append(nn.Tanh())\n",
        "\n",
        "layers.append(nn.Linear(100, 50))\n",
        "layers.append(nn.ReLU())\n",
        "\n",
        "layers.append(nn.Linear(50, 15))\n",
        "layers.append(nn.Tanh())\n",
        "\n",
        "# Add the output layer, with sigmoid activation fuction (for binary classification)\n",
        "layers.append(nn.Linear(15, 1))\n",
        "layers.append(nn.Sigmoid())\n",
        "\n",
        "model = nn.Sequential(*layers)"
      ],
      "metadata": {
        "id": "XpuEcWcZsqEb"
      },
      "execution_count": null,
      "outputs": []
    },
    {
      "cell_type": "code",
      "source": [
        "# define the optimization\n",
        "from torch.nn import BCELoss\n",
        "from torch.optim import Adam\n",
        "\n",
        "criterion = BCELoss()\n",
        "optimizer = Adam(model.parameters(), lr=0.0005)\n"
      ],
      "metadata": {
        "id": "T-BBIFq2swyn"
      },
      "execution_count": null,
      "outputs": []
    },
    {
      "cell_type": "code",
      "source": [
        "for epoch in range(100):\n",
        "    running_loss = 0.0\n",
        "    all_predictions = []\n",
        "    all_targets = []\n",
        "\n",
        "    for i, (inputs, targets) in enumerate(train_dl):\n",
        "        # Zero the parameter gradients\n",
        "        optimizer.zero_grad()\n",
        "\n",
        "        # Forward pass\n",
        "        outputs = model(inputs).squeeze()\n",
        "        loss = criterion(outputs, targets)\n",
        "\n",
        "        # Backward pass and optimize\n",
        "        loss.backward()\n",
        "        optimizer.step()\n",
        "\n",
        "        running_loss += loss.item()\n",
        "\n",
        "        # Convert outputs and targets to the same shape for F1 score calculation\n",
        "        predictions = outputs.argmax(dim=1) if outputs.dim() > 1 else outputs.round()\n",
        "        all_predictions.append(predictions.detach().cpu().numpy())\n",
        "        all_targets.append(targets.cpu().numpy())\n",
        "\n",
        "    # Calculate F1 score at the end of the epoch\n",
        "    all_predictions = np.concatenate(all_predictions)\n",
        "    all_targets = np.concatenate(all_targets)\n",
        "    f1 = f1_score(all_targets, all_predictions, average='binary')  # or 'binary' for binary classification\n",
        "\n",
        "    # Evaluation part\n",
        "    model.eval()  # Set the model to evaluation mode\n",
        "    val_predictions = []\n",
        "    val_targets = []\n",
        "\n",
        "    with torch.no_grad():  # No need to track gradients during evaluation\n",
        "        for inputs, targets in test_dl:\n",
        "            outputs = model(inputs).squeeze()\n",
        "\n",
        "            # Convert outputs to predictions\n",
        "            predictions = outputs.argmax(dim=1) if outputs.dim() > 1 else outputs.round()\n",
        "            val_predictions.append(predictions.cpu().numpy())\n",
        "            val_targets.append(targets.cpu().numpy())\n",
        "\n",
        "    # Calculate F1 score on the validation set\n",
        "    val_predictions = np.concatenate(val_predictions)\n",
        "    val_targets = np.concatenate(val_targets)\n",
        "    val_f1 = f1_score(val_targets, val_predictions, average='macro')  # or 'binary' for binary classification\n",
        "\n",
        "    # Print F1 score along with training loss\n",
        "    print('After %d epoch : [%d] Training loss: %.3f, Validation F1 Score: %.3f' % (epoch, epoch + 1, running_loss / len(train_dl), val_f1))\n",
        "\n",
        "    if val_f1 >= 0.75:\n",
        "      break;\n",
        "\n",
        "    running_loss = 0.0\n",
        "    model.train()"
      ],
      "metadata": {
        "colab": {
          "base_uri": "https://localhost:8080/"
        },
        "id": "5pur0l1Kt9j5",
        "outputId": "7b17c467-820b-44f4-a0c6-41e41895ab4f"
      },
      "execution_count": null,
      "outputs": [
        {
          "output_type": "stream",
          "name": "stdout",
          "text": [
            "After 0 epoch : [1] Training loss: 0.044, Validation F1 Score: 0.579\n",
            "After 1 epoch : [2] Training loss: 0.041, Validation F1 Score: 0.689\n",
            "After 2 epoch : [3] Training loss: 0.051, Validation F1 Score: 0.579\n",
            "After 3 epoch : [4] Training loss: 0.058, Validation F1 Score: 0.638\n",
            "After 4 epoch : [5] Training loss: 0.044, Validation F1 Score: 0.619\n",
            "After 5 epoch : [6] Training loss: 0.052, Validation F1 Score: 0.579\n",
            "After 6 epoch : [7] Training loss: 0.039, Validation F1 Score: 0.671\n",
            "After 7 epoch : [8] Training loss: 0.045, Validation F1 Score: 0.654\n",
            "After 8 epoch : [9] Training loss: 0.041, Validation F1 Score: 0.671\n",
            "After 9 epoch : [10] Training loss: 0.042, Validation F1 Score: 0.619\n",
            "After 10 epoch : [11] Training loss: 0.035, Validation F1 Score: 0.616\n",
            "After 11 epoch : [12] Training loss: 0.034, Validation F1 Score: 0.671\n",
            "After 12 epoch : [13] Training loss: 0.037, Validation F1 Score: 0.616\n",
            "After 13 epoch : [14] Training loss: 0.033, Validation F1 Score: 0.654\n",
            "After 14 epoch : [15] Training loss: 0.039, Validation F1 Score: 0.574\n",
            "After 15 epoch : [16] Training loss: 0.063, Validation F1 Score: 0.670\n",
            "After 16 epoch : [17] Training loss: 0.053, Validation F1 Score: 0.639\n",
            "After 17 epoch : [18] Training loss: 0.053, Validation F1 Score: 0.635\n",
            "After 18 epoch : [19] Training loss: 0.029, Validation F1 Score: 0.635\n",
            "After 19 epoch : [20] Training loss: 0.037, Validation F1 Score: 0.616\n",
            "After 20 epoch : [21] Training loss: 0.047, Validation F1 Score: 0.671\n",
            "After 21 epoch : [22] Training loss: 0.047, Validation F1 Score: 0.654\n",
            "After 22 epoch : [23] Training loss: 0.042, Validation F1 Score: 0.598\n",
            "After 23 epoch : [24] Training loss: 0.104, Validation F1 Score: 0.616\n",
            "After 24 epoch : [25] Training loss: 0.128, Validation F1 Score: 0.737\n",
            "After 25 epoch : [26] Training loss: 0.145, Validation F1 Score: 0.705\n",
            "After 26 epoch : [27] Training loss: 0.115, Validation F1 Score: 0.736\n",
            "After 27 epoch : [28] Training loss: 0.113, Validation F1 Score: 0.685\n",
            "After 28 epoch : [29] Training loss: 0.225, Validation F1 Score: 0.665\n",
            "After 29 epoch : [30] Training loss: 0.216, Validation F1 Score: 0.720\n",
            "After 30 epoch : [31] Training loss: 0.090, Validation F1 Score: 0.604\n",
            "After 31 epoch : [32] Training loss: 0.095, Validation F1 Score: 0.619\n",
            "After 32 epoch : [33] Training loss: 0.092, Validation F1 Score: 0.738\n",
            "After 33 epoch : [34] Training loss: 0.116, Validation F1 Score: 0.698\n",
            "After 34 epoch : [35] Training loss: 0.087, Validation F1 Score: 0.564\n",
            "After 35 epoch : [36] Training loss: 0.120, Validation F1 Score: 0.670\n",
            "After 36 epoch : [37] Training loss: 0.054, Validation F1 Score: 0.721\n",
            "After 37 epoch : [38] Training loss: 0.046, Validation F1 Score: 0.583\n",
            "After 38 epoch : [39] Training loss: 0.049, Validation F1 Score: 0.672\n",
            "After 39 epoch : [40] Training loss: 0.040, Validation F1 Score: 0.601\n",
            "After 40 epoch : [41] Training loss: 0.050, Validation F1 Score: 0.604\n",
            "After 41 epoch : [42] Training loss: 0.037, Validation F1 Score: 0.583\n",
            "After 42 epoch : [43] Training loss: 0.034, Validation F1 Score: 0.638\n",
            "After 43 epoch : [44] Training loss: 0.037, Validation F1 Score: 0.583\n",
            "After 44 epoch : [45] Training loss: 0.042, Validation F1 Score: 0.672\n",
            "After 45 epoch : [46] Training loss: 0.047, Validation F1 Score: 0.616\n",
            "After 46 epoch : [47] Training loss: 0.050, Validation F1 Score: 0.704\n",
            "After 47 epoch : [48] Training loss: 0.056, Validation F1 Score: 0.559\n",
            "After 48 epoch : [49] Training loss: 0.042, Validation F1 Score: 0.704\n",
            "After 49 epoch : [50] Training loss: 0.058, Validation F1 Score: 0.583\n",
            "After 50 epoch : [51] Training loss: 0.058, Validation F1 Score: 0.559\n",
            "After 51 epoch : [52] Training loss: 0.065, Validation F1 Score: 0.703\n",
            "After 52 epoch : [53] Training loss: 0.057, Validation F1 Score: 0.574\n",
            "After 53 epoch : [54] Training loss: 0.142, Validation F1 Score: 0.671\n",
            "After 54 epoch : [55] Training loss: 0.096, Validation F1 Score: 0.734\n",
            "After 55 epoch : [56] Training loss: 0.142, Validation F1 Score: 0.637\n",
            "After 56 epoch : [57] Training loss: 0.064, Validation F1 Score: 0.616\n",
            "After 57 epoch : [58] Training loss: 0.050, Validation F1 Score: 0.705\n",
            "After 58 epoch : [59] Training loss: 0.069, Validation F1 Score: 0.579\n",
            "After 59 epoch : [60] Training loss: 0.051, Validation F1 Score: 0.672\n",
            "After 60 epoch : [61] Training loss: 0.061, Validation F1 Score: 0.583\n",
            "After 61 epoch : [62] Training loss: 0.053, Validation F1 Score: 0.579\n",
            "After 62 epoch : [63] Training loss: 0.064, Validation F1 Score: 0.672\n",
            "After 63 epoch : [64] Training loss: 0.075, Validation F1 Score: 0.767\n"
          ]
        }
      ]
    },
    {
      "cell_type": "markdown",
      "source": [
        "We get Validation F1-Score above %75 by using PyTorch"
      ],
      "metadata": {
        "id": "4rLbQvSpqDek"
      }
    },
    {
      "cell_type": "markdown",
      "source": [
        "### Non-Sequential Keras"
      ],
      "metadata": {
        "id": "ZPa46OVRlyTQ"
      }
    },
    {
      "cell_type": "markdown",
      "source": [
        "A non-sequential feedforward network in Keras refers to a neural network architecture where the data flow is not strictly linear or sequential. In a typical sequential model, each layer has one input (coming from the previous layer) and one output (going to the next layer). However, non-sequential (or non-linear) architectures allow for more complex connections, such as:\n",
        "\n",
        "  \n",
        "\n",
        "1.   **Skip Connections:** Layers can skip one or more layers and connect to further layers down the network. This is a key feature in architectures like Residual Networks (ResNets).\n",
        "\n",
        "2.   **Branching:** The network can split into branches, where different branches might process the input differently and then the results are merged back. This is seen in architectures like Inception networks.\n",
        "\n",
        "\n",
        "3.   **Multiple Inputs or Outputs:** The network can have multiple input or output layers, useful for multi-modal data or multi-task learning.\n",
        "\n",
        "\n",
        "In Keras, such non-sequential models are typically built using the Functional API, which provides more flexibility than the Sequential API. With the Functional API, you explicitly define the input and output for each layer, which allows you to create complex network architectures."
      ],
      "metadata": {
        "id": "tBLurkPVmgt0"
      }
    },
    {
      "cell_type": "code",
      "source": [
        "from keras.layers import Add, Concatenate, Dense, Input\n",
        "from keras.models import Model\n",
        "import tensorflow as tf"
      ],
      "metadata": {
        "id": "UIsUgD23uC5v"
      },
      "execution_count": null,
      "outputs": []
    },
    {
      "cell_type": "code",
      "source": [
        "input_layer = Input(shape=(clf_X_train.shape[1],))\n",
        "\n",
        "hidden_layer_1 = Dense(200, activation='relu')(input_layer)\n",
        "hidden_layer_2 = Dense(100, activation='relu')(hidden_layer_1)\n",
        "hidden_layer_3 = Dense(10, activation='relu')(hidden_layer_2)\n",
        "output_layer = Dense(1, activation='sigmoid')(hidden_layer_3)\n",
        "\n",
        "model = Model(inputs=input_layer, outputs=output_layer)"
      ],
      "metadata": {
        "id": "RkC7TidPnvx3"
      },
      "execution_count": null,
      "outputs": []
    },
    {
      "cell_type": "code",
      "source": [
        "model.compile(\n",
        "    loss='binary_crossentropy',\n",
        "    optimizer=tf.keras.optimizers.Adam(learning_rate=0.001),\n",
        "    metrics=[tf.keras.metrics.Precision(),tf.keras.metrics.Recall()],\n",
        "    )\n",
        "model.summary()"
      ],
      "metadata": {
        "colab": {
          "base_uri": "https://localhost:8080/"
        },
        "id": "ictLlyUGn0RI",
        "outputId": "08f891b9-b0eb-4661-ca76-a3ae846bf86f"
      },
      "execution_count": null,
      "outputs": [
        {
          "output_type": "stream",
          "name": "stdout",
          "text": [
            "Model: \"model\"\n",
            "_________________________________________________________________\n",
            " Layer (type)                Output Shape              Param #   \n",
            "=================================================================\n",
            " input_1 (InputLayer)        [(None, 13)]              0         \n",
            "                                                                 \n",
            " dense_30 (Dense)            (None, 200)               2800      \n",
            "                                                                 \n",
            " dense_31 (Dense)            (None, 100)               20100     \n",
            "                                                                 \n",
            " dense_32 (Dense)            (None, 10)                1010      \n",
            "                                                                 \n",
            " dense_33 (Dense)            (None, 1)                 11        \n",
            "                                                                 \n",
            "=================================================================\n",
            "Total params: 23921 (93.44 KB)\n",
            "Trainable params: 23921 (93.44 KB)\n",
            "Non-trainable params: 0 (0.00 Byte)\n",
            "_________________________________________________________________\n"
          ]
        }
      ]
    },
    {
      "cell_type": "markdown",
      "source": [
        "##### visualizing the network\n",
        "In addition to viewing the summary of the model, we can visualize the structure as well!"
      ],
      "metadata": {
        "id": "w0uiYXqKpaFa"
      }
    },
    {
      "cell_type": "code",
      "source": [
        "from tensorflow.keras.utils import plot_model\n",
        "plot_model(model,show_shapes=True)"
      ],
      "metadata": {
        "colab": {
          "base_uri": "https://localhost:8080/",
          "height": 533
        },
        "id": "r-LmZjD1oTrG",
        "outputId": "da0baafe-da30-4947-93c6-b42ccb770db4"
      },
      "execution_count": null,
      "outputs": [
        {
          "output_type": "execute_result",
          "data": {
            "image/png": "[encoded data removed]",
            "text/plain": [
              "<IPython.core.display.Image object>"
            ]
          },
          "metadata": {},
          "execution_count": 136
        }
      ]
    },
    {
      "cell_type": "code",
      "source": [
        "history = model.fit(clf_X_train, clf_y_train,\n",
        "                    batch_size = 16,\n",
        "                    epochs = 150,\n",
        "                    validation_split=0.2,\n",
        "                    )"
      ],
      "metadata": {
        "colab": {
          "base_uri": "https://localhost:8080/"
        },
        "id": "B93U0ibNn3P_",
        "outputId": "d2ab07da-2937-4b51-b621-6692ea8f21f7"
      },
      "execution_count": null,
      "outputs": [
        {
          "output_type": "stream",
          "name": "stdout",
          "text": [
            "Epoch 1/150\n",
            "13/13 [==============================] - 2s 41ms/step - loss: 2.2539 - precision_12: 0.5752 - recall_12: 0.6019 - val_loss: 0.9492 - val_precision_12: 0.5385 - val_recall_12: 0.9130\n",
            "Epoch 2/150\n",
            "13/13 [==============================] - 0s 10ms/step - loss: 1.0894 - precision_12: 0.6174 - recall_12: 0.6574 - val_loss: 1.8981 - val_precision_12: 0.0000e+00 - val_recall_12: 0.0000e+00\n",
            "Epoch 3/150\n",
            "13/13 [==============================] - 0s 11ms/step - loss: 1.7198 - precision_12: 0.5778 - recall_12: 0.4815 - val_loss: 0.6844 - val_precision_12: 0.6429 - val_recall_12: 0.7826\n",
            "Epoch 4/150\n",
            "13/13 [==============================] - 0s 11ms/step - loss: 0.9360 - precision_12: 0.6939 - recall_12: 0.6296 - val_loss: 1.2534 - val_precision_12: 0.5000 - val_recall_12: 1.0000\n",
            "Epoch 5/150\n",
            "13/13 [==============================] - 0s 9ms/step - loss: 0.6644 - precision_12: 0.7064 - recall_12: 0.7130 - val_loss: 1.3015 - val_precision_12: 0.4894 - val_recall_12: 1.0000\n",
            "Epoch 6/150\n",
            "13/13 [==============================] - 0s 9ms/step - loss: 1.0981 - precision_12: 0.6290 - recall_12: 0.7222 - val_loss: 1.1851 - val_precision_12: 1.0000 - val_recall_12: 0.0870\n",
            "Epoch 7/150\n",
            "13/13 [==============================] - 0s 8ms/step - loss: 0.7980 - precision_12: 0.6944 - recall_12: 0.6944 - val_loss: 1.5463 - val_precision_12: 0.4694 - val_recall_12: 1.0000\n",
            "Epoch 8/150\n",
            "13/13 [==============================] - 0s 10ms/step - loss: 1.7892 - precision_12: 0.5878 - recall_12: 0.7130 - val_loss: 2.3021 - val_precision_12: 0.0000e+00 - val_recall_12: 0.0000e+00\n",
            "Epoch 9/150\n",
            "13/13 [==============================] - 0s 9ms/step - loss: 3.2107 - precision_12: 0.5784 - recall_12: 0.5463 - val_loss: 3.9595 - val_precision_12: 0.0000e+00 - val_recall_12: 0.0000e+00\n",
            "Epoch 10/150\n",
            "13/13 [==============================] - 0s 10ms/step - loss: 4.2121 - precision_12: 0.5667 - recall_12: 0.4722 - val_loss: 0.9976 - val_precision_12: 0.8750 - val_recall_12: 0.6087\n",
            "Epoch 11/150\n",
            "13/13 [==============================] - 0s 10ms/step - loss: 2.9169 - precision_12: 0.6250 - recall_12: 0.5556 - val_loss: 0.6836 - val_precision_12: 0.7826 - val_recall_12: 0.7826\n",
            "Epoch 12/150\n",
            "13/13 [==============================] - 0s 11ms/step - loss: 0.8946 - precision_12: 0.7255 - recall_12: 0.6852 - val_loss: 0.5851 - val_precision_12: 0.7368 - val_recall_12: 0.6087\n",
            "Epoch 13/150\n",
            "13/13 [==============================] - 0s 10ms/step - loss: 0.5715 - precision_12: 0.7477 - recall_12: 0.7407 - val_loss: 0.4908 - val_precision_12: 0.6957 - val_recall_12: 0.6957\n",
            "Epoch 14/150\n",
            "13/13 [==============================] - 0s 9ms/step - loss: 0.4745 - precision_12: 0.7541 - recall_12: 0.8519 - val_loss: 0.5942 - val_precision_12: 0.6667 - val_recall_12: 0.9565\n",
            "Epoch 15/150\n",
            "13/13 [==============================] - 0s 11ms/step - loss: 0.5510 - precision_12: 0.7414 - recall_12: 0.7963 - val_loss: 0.4214 - val_precision_12: 0.7308 - val_recall_12: 0.8261\n",
            "Epoch 16/150\n",
            "13/13 [==============================] - 0s 11ms/step - loss: 0.4699 - precision_12: 0.8000 - recall_12: 0.8148 - val_loss: 0.7682 - val_precision_12: 0.5349 - val_recall_12: 1.0000\n",
            "Epoch 17/150\n",
            "13/13 [==============================] - 0s 10ms/step - loss: 0.6090 - precision_12: 0.6984 - recall_12: 0.8148 - val_loss: 1.2549 - val_precision_12: 1.0000 - val_recall_12: 0.0435\n",
            "Epoch 18/150\n",
            "13/13 [==============================] - 0s 6ms/step - loss: 1.0256 - precision_12: 0.6703 - recall_12: 0.5648 - val_loss: 0.8680 - val_precision_12: 0.5897 - val_recall_12: 1.0000\n",
            "Epoch 19/150\n",
            "13/13 [==============================] - 0s 7ms/step - loss: 0.8946 - precision_12: 0.6609 - recall_12: 0.7037 - val_loss: 1.0972 - val_precision_12: 0.5111 - val_recall_12: 1.0000\n",
            "Epoch 20/150\n",
            "13/13 [==============================] - 0s 8ms/step - loss: 0.9095 - precision_12: 0.6612 - recall_12: 0.7407 - val_loss: 0.8922 - val_precision_12: 1.0000 - val_recall_12: 0.2609\n",
            "Epoch 21/150\n",
            "13/13 [==============================] - 0s 7ms/step - loss: 0.9977 - precision_12: 0.6860 - recall_12: 0.5463 - val_loss: 0.4631 - val_precision_12: 0.7000 - val_recall_12: 0.9130\n",
            "Epoch 22/150\n",
            "13/13 [==============================] - 0s 6ms/step - loss: 0.7681 - precision_12: 0.7232 - recall_12: 0.7500 - val_loss: 1.4613 - val_precision_12: 0.4894 - val_recall_12: 1.0000\n",
            "Epoch 23/150\n",
            "13/13 [==============================] - 0s 7ms/step - loss: 0.8884 - precision_12: 0.7080 - recall_12: 0.7407 - val_loss: 0.8830 - val_precision_12: 0.5897 - val_recall_12: 1.0000\n",
            "Epoch 24/150\n",
            "13/13 [==============================] - 0s 6ms/step - loss: 0.7626 - precision_12: 0.7130 - recall_12: 0.7593 - val_loss: 0.4706 - val_precision_12: 0.6957 - val_recall_12: 0.6957\n",
            "Epoch 25/150\n",
            "13/13 [==============================] - 0s 7ms/step - loss: 0.6023 - precision_12: 0.7624 - recall_12: 0.7130 - val_loss: 0.4944 - val_precision_12: 0.6875 - val_recall_12: 0.9565\n",
            "Epoch 26/150\n",
            "13/13 [==============================] - 0s 7ms/step - loss: 0.7055 - precision_12: 0.7522 - recall_12: 0.7870 - val_loss: 1.1789 - val_precision_12: 0.5000 - val_recall_12: 1.0000\n",
            "Epoch 27/150\n",
            "13/13 [==============================] - 0s 7ms/step - loss: 0.8053 - precision_12: 0.7155 - recall_12: 0.7685 - val_loss: 0.8904 - val_precision_12: 0.5610 - val_recall_12: 1.0000\n",
            "Epoch 28/150\n",
            "13/13 [==============================] - 0s 6ms/step - loss: 0.6182 - precision_12: 0.7368 - recall_12: 0.7778 - val_loss: 0.5159 - val_precision_12: 0.8889 - val_recall_12: 0.3478\n",
            "Epoch 29/150\n",
            "13/13 [==============================] - 0s 6ms/step - loss: 0.4735 - precision_12: 0.8155 - recall_12: 0.7778 - val_loss: 0.3917 - val_precision_12: 0.7600 - val_recall_12: 0.8261\n",
            "Epoch 30/150\n",
            "13/13 [==============================] - 0s 7ms/step - loss: 0.5427 - precision_12: 0.7748 - recall_12: 0.7963 - val_loss: 0.4908 - val_precision_12: 0.6875 - val_recall_12: 0.9565\n",
            "Epoch 31/150\n",
            "13/13 [==============================] - 0s 7ms/step - loss: 0.6554 - precision_12: 0.7333 - recall_12: 0.7130 - val_loss: 0.8702 - val_precision_12: 1.0000 - val_recall_12: 0.1304\n",
            "Epoch 32/150\n",
            "13/13 [==============================] - 0s 7ms/step - loss: 0.6351 - precision_12: 0.7340 - recall_12: 0.6389 - val_loss: 1.2372 - val_precision_12: 0.4894 - val_recall_12: 1.0000\n",
            "Epoch 33/150\n",
            "13/13 [==============================] - 0s 7ms/step - loss: 0.6891 - precision_12: 0.7203 - recall_12: 0.7870 - val_loss: 0.9699 - val_precision_12: 0.5349 - val_recall_12: 1.0000\n",
            "Epoch 34/150\n",
            "13/13 [==============================] - 0s 7ms/step - loss: 0.9578 - precision_12: 0.6371 - recall_12: 0.7315 - val_loss: 1.0998 - val_precision_12: 0.5227 - val_recall_12: 1.0000\n",
            "Epoch 35/150\n",
            "13/13 [==============================] - 0s 6ms/step - loss: 0.7200 - precision_12: 0.6780 - recall_12: 0.7407 - val_loss: 1.0960 - val_precision_12: 1.0000 - val_recall_12: 0.0870\n",
            "Epoch 36/150\n",
            "13/13 [==============================] - 0s 6ms/step - loss: 1.1728 - precision_12: 0.6526 - recall_12: 0.5741 - val_loss: 0.5136 - val_precision_12: 0.8462 - val_recall_12: 0.4783\n",
            "Epoch 37/150\n",
            "13/13 [==============================] - 0s 8ms/step - loss: 0.6664 - precision_12: 0.7217 - recall_12: 0.7685 - val_loss: 0.6270 - val_precision_12: 0.6970 - val_recall_12: 1.0000\n",
            "Epoch 38/150\n",
            "13/13 [==============================] - 0s 7ms/step - loss: 0.8408 - precision_12: 0.7523 - recall_12: 0.7593 - val_loss: 0.4033 - val_precision_12: 0.7500 - val_recall_12: 0.7826\n",
            "Epoch 39/150\n",
            "13/13 [==============================] - 0s 6ms/step - loss: 0.6831 - precision_12: 0.7890 - recall_12: 0.7963 - val_loss: 0.4330 - val_precision_12: 0.6875 - val_recall_12: 0.9565\n",
            "Epoch 40/150\n",
            "13/13 [==============================] - 0s 6ms/step - loss: 0.7193 - precision_12: 0.6942 - recall_12: 0.7778 - val_loss: 0.6977 - val_precision_12: 0.6471 - val_recall_12: 0.9565\n",
            "Epoch 41/150\n",
            "13/13 [==============================] - 0s 7ms/step - loss: 0.5224 - precision_12: 0.7565 - recall_12: 0.8056 - val_loss: 0.4540 - val_precision_12: 0.9167 - val_recall_12: 0.4783\n",
            "Epoch 42/150\n",
            "13/13 [==============================] - 0s 7ms/step - loss: 0.4365 - precision_12: 0.8073 - recall_12: 0.8148 - val_loss: 0.3284 - val_precision_12: 0.7500 - val_recall_12: 0.9130\n",
            "Epoch 43/150\n",
            "13/13 [==============================] - 0s 7ms/step - loss: 0.3996 - precision_12: 0.8142 - recall_12: 0.8519 - val_loss: 0.3883 - val_precision_12: 0.9286 - val_recall_12: 0.5652\n",
            "Epoch 44/150\n",
            "13/13 [==============================] - 0s 6ms/step - loss: 0.4015 - precision_12: 0.8174 - recall_12: 0.8704 - val_loss: 0.5375 - val_precision_12: 0.6970 - val_recall_12: 1.0000\n",
            "Epoch 45/150\n",
            "13/13 [==============================] - 0s 6ms/step - loss: 0.4812 - precision_12: 0.7642 - recall_12: 0.8704 - val_loss: 0.3225 - val_precision_12: 0.8333 - val_recall_12: 0.8696\n",
            "Epoch 46/150\n",
            "13/13 [==============================] - 0s 6ms/step - loss: 0.4160 - precision_12: 0.7966 - recall_12: 0.8704 - val_loss: 0.6419 - val_precision_12: 1.0000 - val_recall_12: 0.3043\n",
            "Epoch 47/150\n",
            "13/13 [==============================] - 0s 7ms/step - loss: 0.7788 - precision_12: 0.7191 - recall_12: 0.5926 - val_loss: 0.5670 - val_precision_12: 0.8889 - val_recall_12: 0.3478\n",
            "Epoch 48/150\n",
            "13/13 [==============================] - 0s 6ms/step - loss: 0.4873 - precision_12: 0.7568 - recall_12: 0.7778 - val_loss: 0.3611 - val_precision_12: 0.6970 - val_recall_12: 1.0000\n",
            "Epoch 49/150\n",
            "13/13 [==============================] - 0s 6ms/step - loss: 0.4124 - precision_12: 0.8230 - recall_12: 0.8611 - val_loss: 0.4335 - val_precision_12: 0.7097 - val_recall_12: 0.9565\n",
            "Epoch 50/150\n",
            "13/13 [==============================] - 0s 6ms/step - loss: 0.4298 - precision_12: 0.8505 - recall_12: 0.8426 - val_loss: 0.7395 - val_precision_12: 0.6216 - val_recall_12: 1.0000\n",
            "Epoch 51/150\n",
            "13/13 [==============================] - 0s 7ms/step - loss: 0.4789 - precision_12: 0.7750 - recall_12: 0.8611 - val_loss: 0.3178 - val_precision_12: 0.8333 - val_recall_12: 0.8696\n",
            "Epoch 52/150\n",
            "13/13 [==============================] - 0s 6ms/step - loss: 0.4401 - precision_12: 0.8273 - recall_12: 0.8426 - val_loss: 0.5841 - val_precision_12: 0.6970 - val_recall_12: 1.0000\n",
            "Epoch 53/150\n",
            "13/13 [==============================] - 0s 7ms/step - loss: 0.4787 - precision_12: 0.7712 - recall_12: 0.8426 - val_loss: 0.8150 - val_precision_12: 1.0000 - val_recall_12: 0.1304\n",
            "Epoch 54/150\n",
            "13/13 [==============================] - 0s 7ms/step - loss: 0.7207 - precision_12: 0.7473 - recall_12: 0.6296 - val_loss: 0.5659 - val_precision_12: 0.6970 - val_recall_12: 1.0000\n",
            "Epoch 55/150\n",
            "13/13 [==============================] - 0s 6ms/step - loss: 0.5013 - precision_12: 0.7805 - recall_12: 0.8889 - val_loss: 0.5330 - val_precision_12: 0.6970 - val_recall_12: 1.0000\n",
            "Epoch 56/150\n",
            "13/13 [==============================] - 0s 6ms/step - loss: 0.5242 - precision_12: 0.7724 - recall_12: 0.8796 - val_loss: 1.1356 - val_precision_12: 1.0000 - val_recall_12: 0.0435\n",
            "Epoch 57/150\n",
            "13/13 [==============================] - 0s 7ms/step - loss: 1.3843 - precision_12: 0.6383 - recall_12: 0.5556 - val_loss: 0.3826 - val_precision_12: 0.9286 - val_recall_12: 0.5652\n",
            "Epoch 58/150\n",
            "13/13 [==============================] - 0s 8ms/step - loss: 0.5267 - precision_12: 0.7913 - recall_12: 0.8426 - val_loss: 0.6438 - val_precision_12: 0.6970 - val_recall_12: 1.0000\n",
            "Epoch 59/150\n",
            "13/13 [==============================] - 0s 7ms/step - loss: 0.5930 - precision_12: 0.7395 - recall_12: 0.8148 - val_loss: 0.3778 - val_precision_12: 0.7308 - val_recall_12: 0.8261\n",
            "Epoch 60/150\n",
            "13/13 [==============================] - 0s 6ms/step - loss: 0.8843 - precision_12: 0.7576 - recall_12: 0.6944 - val_loss: 0.4969 - val_precision_12: 0.9286 - val_recall_12: 0.5652\n",
            "Epoch 61/150\n",
            "13/13 [==============================] - 0s 6ms/step - loss: 0.5237 - precision_12: 0.7778 - recall_12: 0.7778 - val_loss: 0.4329 - val_precision_12: 0.9286 - val_recall_12: 0.5652\n",
            "Epoch 62/150\n",
            "13/13 [==============================] - 0s 8ms/step - loss: 0.4961 - precision_12: 0.7807 - recall_12: 0.8241 - val_loss: 0.3569 - val_precision_12: 0.7308 - val_recall_12: 0.8261\n",
            "Epoch 63/150\n",
            "13/13 [==============================] - 0s 7ms/step - loss: 0.4503 - precision_12: 0.7869 - recall_12: 0.8889 - val_loss: 0.6556 - val_precision_12: 0.6571 - val_recall_12: 1.0000\n",
            "Epoch 64/150\n",
            "13/13 [==============================] - 0s 7ms/step - loss: 0.4869 - precision_12: 0.7603 - recall_12: 0.8519 - val_loss: 0.6158 - val_precision_12: 0.6765 - val_recall_12: 1.0000\n",
            "Epoch 65/150\n",
            "13/13 [==============================] - 0s 6ms/step - loss: 0.4572 - precision_12: 0.7778 - recall_12: 0.9074 - val_loss: 0.3358 - val_precision_12: 0.7500 - val_recall_12: 0.9130\n",
            "Epoch 66/150\n",
            "13/13 [==============================] - 0s 7ms/step - loss: 0.4087 - precision_12: 0.8276 - recall_12: 0.8889 - val_loss: 0.5686 - val_precision_12: 0.6970 - val_recall_12: 1.0000\n",
            "Epoch 67/150\n",
            "13/13 [==============================] - 0s 8ms/step - loss: 0.5110 - precision_12: 0.8131 - recall_12: 0.8056 - val_loss: 0.8988 - val_precision_12: 0.5610 - val_recall_12: 1.0000\n",
            "Epoch 68/150\n",
            "13/13 [==============================] - 0s 7ms/step - loss: 0.6239 - precision_12: 0.7321 - recall_12: 0.7593 - val_loss: 0.7480 - val_precision_12: 0.6216 - val_recall_12: 1.0000\n",
            "Epoch 69/150\n",
            "13/13 [==============================] - 0s 8ms/step - loss: 0.4932 - precision_12: 0.7949 - recall_12: 0.8611 - val_loss: 0.3937 - val_precision_12: 0.7333 - val_recall_12: 0.9565\n",
            "Epoch 70/150\n",
            "13/13 [==============================] - 0s 7ms/step - loss: 0.4340 - precision_12: 0.8091 - recall_12: 0.8241 - val_loss: 0.3321 - val_precision_12: 0.7500 - val_recall_12: 0.9130\n",
            "Epoch 71/150\n",
            "13/13 [==============================] - 0s 6ms/step - loss: 0.3930 - precision_12: 0.8220 - recall_12: 0.8981 - val_loss: 0.3472 - val_precision_12: 0.7826 - val_recall_12: 0.7826\n",
            "Epoch 72/150\n",
            "13/13 [==============================] - 0s 8ms/step - loss: 0.3937 - precision_12: 0.8000 - recall_12: 0.8889 - val_loss: 0.3217 - val_precision_12: 0.8636 - val_recall_12: 0.8261\n",
            "Epoch 73/150\n",
            "13/13 [==============================] - 0s 7ms/step - loss: 0.3874 - precision_12: 0.8049 - recall_12: 0.9167 - val_loss: 0.3515 - val_precision_12: 0.7917 - val_recall_12: 0.8261\n",
            "Epoch 74/150\n",
            "13/13 [==============================] - 0s 7ms/step - loss: 0.3726 - precision_12: 0.8376 - recall_12: 0.9074 - val_loss: 0.5331 - val_precision_12: 0.6970 - val_recall_12: 1.0000\n",
            "Epoch 75/150\n",
            "13/13 [==============================] - 0s 6ms/step - loss: 0.4297 - precision_12: 0.7903 - recall_12: 0.9074 - val_loss: 0.3275 - val_precision_12: 0.7667 - val_recall_12: 1.0000\n",
            "Epoch 76/150\n",
            "13/13 [==============================] - 0s 7ms/step - loss: 0.3875 - precision_12: 0.8250 - recall_12: 0.9167 - val_loss: 0.4426 - val_precision_12: 0.6970 - val_recall_12: 1.0000\n",
            "Epoch 77/150\n",
            "13/13 [==============================] - 0s 8ms/step - loss: 0.3987 - precision_12: 0.8246 - recall_12: 0.8704 - val_loss: 0.3288 - val_precision_12: 0.9444 - val_recall_12: 0.7391\n",
            "Epoch 78/150\n",
            "13/13 [==============================] - 0s 7ms/step - loss: 0.4960 - precision_12: 0.7885 - recall_12: 0.7593 - val_loss: 0.2955 - val_precision_12: 0.9091 - val_recall_12: 0.8696\n",
            "Epoch 79/150\n",
            "13/13 [==============================] - 0s 8ms/step - loss: 0.4483 - precision_12: 0.7840 - recall_12: 0.9074 - val_loss: 0.3306 - val_precision_12: 0.7586 - val_recall_12: 0.9565\n",
            "Epoch 80/150\n",
            "13/13 [==============================] - 0s 6ms/step - loss: 0.3888 - precision_12: 0.8000 - recall_12: 0.8889 - val_loss: 0.5202 - val_precision_12: 0.6970 - val_recall_12: 1.0000\n",
            "Epoch 81/150\n",
            "13/13 [==============================] - 0s 8ms/step - loss: 0.4645 - precision_12: 0.7642 - recall_12: 0.8704 - val_loss: 0.3674 - val_precision_12: 0.7419 - val_recall_12: 1.0000\n",
            "Epoch 82/150\n",
            "13/13 [==============================] - 0s 7ms/step - loss: 0.4370 - precision_12: 0.7750 - recall_12: 0.8611 - val_loss: 0.3104 - val_precision_12: 0.8333 - val_recall_12: 0.8696\n",
            "Epoch 83/150\n",
            "13/13 [==============================] - 0s 6ms/step - loss: 0.3803 - precision_12: 0.8276 - recall_12: 0.8889 - val_loss: 0.3487 - val_precision_12: 0.9333 - val_recall_12: 0.6087\n",
            "Epoch 84/150\n",
            "13/13 [==============================] - 0s 7ms/step - loss: 0.4040 - precision_12: 0.8491 - recall_12: 0.8333 - val_loss: 0.3943 - val_precision_12: 0.9286 - val_recall_12: 0.5652\n",
            "Epoch 85/150\n",
            "13/13 [==============================] - 0s 7ms/step - loss: 0.4536 - precision_12: 0.7946 - recall_12: 0.8241 - val_loss: 0.3846 - val_precision_12: 0.7333 - val_recall_12: 0.9565\n",
            "Epoch 86/150\n",
            "13/13 [==============================] - 0s 8ms/step - loss: 0.3774 - precision_12: 0.8115 - recall_12: 0.9167 - val_loss: 0.3428 - val_precision_12: 0.7692 - val_recall_12: 0.8696\n",
            "Epoch 87/150\n",
            "13/13 [==============================] - 0s 6ms/step - loss: 0.3604 - precision_12: 0.8182 - recall_12: 0.9167 - val_loss: 0.4138 - val_precision_12: 0.9286 - val_recall_12: 0.5652\n",
            "Epoch 88/150\n",
            "13/13 [==============================] - 0s 8ms/step - loss: 0.5061 - precision_12: 0.7961 - recall_12: 0.7593 - val_loss: 0.3775 - val_precision_12: 0.7500 - val_recall_12: 0.9130\n",
            "Epoch 89/150\n",
            "13/13 [==============================] - 0s 8ms/step - loss: 0.3982 - precision_12: 0.7857 - recall_12: 0.9167 - val_loss: 0.4099 - val_precision_12: 0.7407 - val_recall_12: 0.8696\n",
            "Epoch 90/150\n",
            "13/13 [==============================] - 0s 6ms/step - loss: 0.3653 - precision_12: 0.8115 - recall_12: 0.9167 - val_loss: 0.5048 - val_precision_12: 1.0000 - val_recall_12: 0.4348\n",
            "Epoch 91/150\n",
            "13/13 [==============================] - 0s 8ms/step - loss: 0.5204 - precision_12: 0.7921 - recall_12: 0.7407 - val_loss: 0.3289 - val_precision_12: 0.9412 - val_recall_12: 0.6957\n",
            "Epoch 92/150\n",
            "13/13 [==============================] - 0s 7ms/step - loss: 0.3834 - precision_12: 0.8288 - recall_12: 0.8519 - val_loss: 0.3172 - val_precision_12: 0.8571 - val_recall_12: 0.7826\n",
            "Epoch 93/150\n",
            "13/13 [==============================] - 0s 8ms/step - loss: 0.6003 - precision_12: 0.7451 - recall_12: 0.7037 - val_loss: 0.4863 - val_precision_12: 1.0000 - val_recall_12: 0.4348\n",
            "Epoch 94/150\n",
            "13/13 [==============================] - 0s 6ms/step - loss: 0.5902 - precision_12: 0.7670 - recall_12: 0.7315 - val_loss: 0.4650 - val_precision_12: 0.6970 - val_recall_12: 1.0000\n",
            "Epoch 95/150\n",
            "13/13 [==============================] - 0s 6ms/step - loss: 0.7023 - precision_12: 0.7315 - recall_12: 0.7315 - val_loss: 0.8633 - val_precision_12: 0.6053 - val_recall_12: 1.0000\n",
            "Epoch 96/150\n",
            "13/13 [==============================] - 0s 6ms/step - loss: 0.9591 - precision_12: 0.6638 - recall_12: 0.7130 - val_loss: 0.5857 - val_precision_12: 0.6765 - val_recall_12: 1.0000\n",
            "Epoch 97/150\n",
            "13/13 [==============================] - 0s 6ms/step - loss: 0.4986 - precision_12: 0.8000 - recall_12: 0.8148 - val_loss: 0.4792 - val_precision_12: 0.6471 - val_recall_12: 0.9565\n",
            "Epoch 98/150\n",
            "13/13 [==============================] - 0s 7ms/step - loss: 0.4849 - precision_12: 0.7623 - recall_12: 0.8611 - val_loss: 0.4011 - val_precision_12: 0.6875 - val_recall_12: 0.9565\n",
            "Epoch 99/150\n",
            "13/13 [==============================] - 0s 6ms/step - loss: 0.3794 - precision_12: 0.8033 - recall_12: 0.9074 - val_loss: 0.3412 - val_precision_12: 0.7917 - val_recall_12: 0.8261\n",
            "Epoch 100/150\n",
            "13/13 [==============================] - 0s 8ms/step - loss: 0.3703 - precision_12: 0.8305 - recall_12: 0.9074 - val_loss: 0.4541 - val_precision_12: 0.6970 - val_recall_12: 1.0000\n",
            "Epoch 101/150\n",
            "13/13 [==============================] - 0s 7ms/step - loss: 0.3593 - precision_12: 0.8319 - recall_12: 0.9167 - val_loss: 0.3301 - val_precision_12: 0.8947 - val_recall_12: 0.7391\n",
            "Epoch 102/150\n",
            "13/13 [==============================] - 0s 6ms/step - loss: 0.4055 - precision_12: 0.8051 - recall_12: 0.8796 - val_loss: 0.3450 - val_precision_12: 0.8947 - val_recall_12: 0.7391\n",
            "Epoch 103/150\n",
            "13/13 [==============================] - 0s 6ms/step - loss: 0.3777 - precision_12: 0.8407 - recall_12: 0.8796 - val_loss: 0.3576 - val_precision_12: 0.7692 - val_recall_12: 0.8696\n",
            "Epoch 104/150\n",
            "13/13 [==============================] - 0s 7ms/step - loss: 0.3777 - precision_12: 0.7951 - recall_12: 0.8981 - val_loss: 0.3703 - val_precision_12: 0.9333 - val_recall_12: 0.6087\n",
            "Epoch 105/150\n",
            "13/13 [==============================] - 0s 6ms/step - loss: 0.4964 - precision_12: 0.8020 - recall_12: 0.7500 - val_loss: 0.4132 - val_precision_12: 0.6970 - val_recall_12: 1.0000\n",
            "Epoch 106/150\n",
            "13/13 [==============================] - 0s 6ms/step - loss: 0.3919 - precision_12: 0.8067 - recall_12: 0.8889 - val_loss: 0.3794 - val_precision_12: 0.7333 - val_recall_12: 0.9565\n",
            "Epoch 107/150\n",
            "13/13 [==============================] - 0s 6ms/step - loss: 0.4074 - precision_12: 0.8083 - recall_12: 0.8981 - val_loss: 0.3724 - val_precision_12: 0.7586 - val_recall_12: 0.9565\n",
            "Epoch 108/150\n",
            "13/13 [==============================] - 0s 7ms/step - loss: 0.3995 - precision_12: 0.8151 - recall_12: 0.8981 - val_loss: 0.3057 - val_precision_12: 0.9000 - val_recall_12: 0.7826\n",
            "Epoch 109/150\n",
            "13/13 [==============================] - 0s 6ms/step - loss: 0.3880 - precision_12: 0.8230 - recall_12: 0.8611 - val_loss: 0.3870 - val_precision_12: 0.7586 - val_recall_12: 0.9565\n",
            "Epoch 110/150\n",
            "13/13 [==============================] - 0s 6ms/step - loss: 0.3749 - precision_12: 0.8205 - recall_12: 0.8889 - val_loss: 0.3717 - val_precision_12: 0.7097 - val_recall_12: 0.9565\n",
            "Epoch 111/150\n",
            "13/13 [==============================] - 0s 9ms/step - loss: 0.3829 - precision_12: 0.8182 - recall_12: 0.9167 - val_loss: 0.6359 - val_precision_12: 1.0000 - val_recall_12: 0.3043\n",
            "Epoch 112/150\n",
            "13/13 [==============================] - 0s 7ms/step - loss: 0.5264 - precision_12: 0.8182 - recall_12: 0.7500 - val_loss: 0.3268 - val_precision_12: 0.7500 - val_recall_12: 0.9130\n",
            "Epoch 113/150\n",
            "13/13 [==============================] - 0s 7ms/step - loss: 0.3930 - precision_12: 0.8051 - recall_12: 0.8796 - val_loss: 0.3491 - val_precision_12: 0.7586 - val_recall_12: 0.9565\n",
            "Epoch 114/150\n",
            "13/13 [==============================] - 0s 6ms/step - loss: 0.4146 - precision_12: 0.7984 - recall_12: 0.9167 - val_loss: 0.4797 - val_precision_12: 0.6970 - val_recall_12: 1.0000\n",
            "Epoch 115/150\n",
            "13/13 [==============================] - 0s 7ms/step - loss: 0.4385 - precision_12: 0.8230 - recall_12: 0.8611 - val_loss: 0.3358 - val_precision_12: 0.7333 - val_recall_12: 0.9565\n",
            "Epoch 116/150\n",
            "13/13 [==============================] - 0s 7ms/step - loss: 0.5444 - precision_12: 0.8283 - recall_12: 0.7593 - val_loss: 0.2840 - val_precision_12: 0.9444 - val_recall_12: 0.7391\n",
            "Epoch 117/150\n",
            "13/13 [==============================] - 0s 8ms/step - loss: 0.4781 - precision_12: 0.8131 - recall_12: 0.8056 - val_loss: 0.2956 - val_precision_12: 0.9500 - val_recall_12: 0.8261\n",
            "Epoch 118/150\n",
            "13/13 [==============================] - 0s 6ms/step - loss: 0.3875 - precision_12: 0.8017 - recall_12: 0.8981 - val_loss: 0.4742 - val_precision_12: 0.7097 - val_recall_12: 0.9565\n",
            "Epoch 119/150\n",
            "13/13 [==============================] - 0s 7ms/step - loss: 0.4647 - precision_12: 0.7881 - recall_12: 0.8611 - val_loss: 0.3625 - val_precision_12: 0.7407 - val_recall_12: 0.8696\n",
            "Epoch 120/150\n",
            "13/13 [==============================] - 0s 10ms/step - loss: 0.3997 - precision_12: 0.7983 - recall_12: 0.8796 - val_loss: 0.5309 - val_precision_12: 1.0000 - val_recall_12: 0.3913\n",
            "Epoch 121/150\n",
            "13/13 [==============================] - 0s 11ms/step - loss: 0.5253 - precision_12: 0.7807 - recall_12: 0.8241 - val_loss: 0.3566 - val_precision_12: 0.8889 - val_recall_12: 0.6957\n",
            "Epoch 122/150\n",
            "13/13 [==============================] - 0s 9ms/step - loss: 0.4605 - precision_12: 0.8257 - recall_12: 0.8333 - val_loss: 0.3616 - val_precision_12: 0.7917 - val_recall_12: 0.8261\n",
            "Epoch 123/150\n",
            "13/13 [==============================] - 0s 10ms/step - loss: 0.5322 - precision_12: 0.7818 - recall_12: 0.7963 - val_loss: 0.3842 - val_precision_12: 0.6875 - val_recall_12: 0.9565\n",
            "Epoch 124/150\n",
            "13/13 [==============================] - 0s 10ms/step - loss: 0.5272 - precision_12: 0.7561 - recall_12: 0.8611 - val_loss: 0.5644 - val_precision_12: 0.6364 - val_recall_12: 0.9130\n",
            "Epoch 125/150\n",
            "13/13 [==============================] - 0s 10ms/step - loss: 0.4193 - precision_12: 0.8099 - recall_12: 0.9074 - val_loss: 0.5201 - val_precision_12: 0.6765 - val_recall_12: 1.0000\n",
            "Epoch 126/150\n",
            "13/13 [==============================] - 0s 10ms/step - loss: 0.4221 - precision_12: 0.8091 - recall_12: 0.8241 - val_loss: 0.4717 - val_precision_12: 0.6970 - val_recall_12: 1.0000\n",
            "Epoch 127/150\n",
            "13/13 [==============================] - 0s 10ms/step - loss: 0.4132 - precision_12: 0.8070 - recall_12: 0.8519 - val_loss: 0.4548 - val_precision_12: 0.6875 - val_recall_12: 0.9565\n",
            "Epoch 128/150\n",
            "13/13 [==============================] - 0s 12ms/step - loss: 0.4275 - precision_12: 0.8411 - recall_12: 0.8333 - val_loss: 0.6329 - val_precision_12: 0.6216 - val_recall_12: 1.0000\n",
            "Epoch 129/150\n",
            "13/13 [==============================] - 0s 10ms/step - loss: 0.4979 - precision_12: 0.7857 - recall_12: 0.8148 - val_loss: 0.3373 - val_precision_12: 0.7333 - val_recall_12: 0.9565\n",
            "Epoch 130/150\n",
            "13/13 [==============================] - 0s 10ms/step - loss: 0.4389 - precision_12: 0.8148 - recall_12: 0.8148 - val_loss: 0.2720 - val_precision_12: 0.8400 - val_recall_12: 0.9130\n",
            "Epoch 131/150\n",
            "13/13 [==============================] - 0s 10ms/step - loss: 0.3754 - precision_12: 0.8136 - recall_12: 0.8889 - val_loss: 0.3119 - val_precision_12: 0.8636 - val_recall_12: 0.8261\n",
            "Epoch 132/150\n",
            "13/13 [==============================] - 0s 10ms/step - loss: 0.3845 - precision_12: 0.8348 - recall_12: 0.8889 - val_loss: 0.3732 - val_precision_12: 0.7500 - val_recall_12: 0.9130\n",
            "Epoch 133/150\n",
            "13/13 [==============================] - 0s 10ms/step - loss: 0.6625 - precision_12: 0.7241 - recall_12: 0.7778 - val_loss: 0.7693 - val_precision_12: 0.6053 - val_recall_12: 1.0000\n",
            "Epoch 134/150\n",
            "13/13 [==============================] - 0s 10ms/step - loss: 0.8761 - precision_12: 0.6983 - recall_12: 0.7500 - val_loss: 0.4132 - val_precision_12: 0.6970 - val_recall_12: 1.0000\n",
            "Epoch 135/150\n",
            "13/13 [==============================] - 0s 10ms/step - loss: 0.4637 - precision_12: 0.7778 - recall_12: 0.9074 - val_loss: 0.3597 - val_precision_12: 1.0000 - val_recall_12: 0.6087\n",
            "Epoch 136/150\n",
            "13/13 [==============================] - 0s 11ms/step - loss: 0.4337 - precision_12: 0.8077 - recall_12: 0.7778 - val_loss: 0.3394 - val_precision_12: 0.7586 - val_recall_12: 0.9565\n",
            "Epoch 137/150\n",
            "13/13 [==============================] - 0s 9ms/step - loss: 0.3956 - precision_12: 0.8017 - recall_12: 0.8981 - val_loss: 0.3886 - val_precision_12: 0.7419 - val_recall_12: 1.0000\n",
            "Epoch 138/150\n",
            "13/13 [==============================] - 0s 10ms/step - loss: 0.3672 - precision_12: 0.8333 - recall_12: 0.8796 - val_loss: 0.4298 - val_precision_12: 0.7188 - val_recall_12: 1.0000\n",
            "Epoch 139/150\n",
            "13/13 [==============================] - 0s 11ms/step - loss: 0.4000 - precision_12: 0.7869 - recall_12: 0.8889 - val_loss: 0.3447 - val_precision_12: 0.7586 - val_recall_12: 0.9565\n",
            "Epoch 140/150\n",
            "13/13 [==============================] - 0s 11ms/step - loss: 0.3907 - precision_12: 0.8049 - recall_12: 0.9167 - val_loss: 0.2998 - val_precision_12: 0.8333 - val_recall_12: 0.8696\n",
            "Epoch 141/150\n",
            "13/13 [==============================] - 0s 11ms/step - loss: 0.3694 - precision_12: 0.8448 - recall_12: 0.9074 - val_loss: 0.3303 - val_precision_12: 0.9444 - val_recall_12: 0.7391\n",
            "Epoch 142/150\n",
            "13/13 [==============================] - 0s 11ms/step - loss: 0.3972 - precision_12: 0.8165 - recall_12: 0.8241 - val_loss: 0.3085 - val_precision_12: 0.7667 - val_recall_12: 1.0000\n",
            "Epoch 143/150\n",
            "13/13 [==============================] - 0s 15ms/step - loss: 0.4100 - precision_12: 0.8120 - recall_12: 0.8796 - val_loss: 0.4624 - val_precision_12: 0.6970 - val_recall_12: 1.0000\n",
            "Epoch 144/150\n",
            "13/13 [==============================] - 0s 11ms/step - loss: 0.4545 - precision_12: 0.8017 - recall_12: 0.8611 - val_loss: 0.5690 - val_precision_12: 0.6765 - val_recall_12: 1.0000\n",
            "Epoch 145/150\n",
            "13/13 [==============================] - 0s 10ms/step - loss: 0.4093 - precision_12: 0.7967 - recall_12: 0.9074 - val_loss: 0.3141 - val_precision_12: 0.7407 - val_recall_12: 0.8696\n",
            "Epoch 146/150\n",
            "13/13 [==============================] - 0s 10ms/step - loss: 0.3743 - precision_12: 0.8230 - recall_12: 0.8611 - val_loss: 0.2904 - val_precision_12: 0.9091 - val_recall_12: 0.8696\n",
            "Epoch 147/150\n",
            "13/13 [==============================] - 0s 10ms/step - loss: 0.4233 - precision_12: 0.7712 - recall_12: 0.8426 - val_loss: 0.4677 - val_precision_12: 0.6970 - val_recall_12: 1.0000\n",
            "Epoch 148/150\n",
            "13/13 [==============================] - 0s 10ms/step - loss: 0.4597 - precision_12: 0.8182 - recall_12: 0.8333 - val_loss: 0.3271 - val_precision_12: 0.7667 - val_recall_12: 1.0000\n",
            "Epoch 149/150\n",
            "13/13 [==============================] - 0s 8ms/step - loss: 0.3652 - precision_12: 0.8376 - recall_12: 0.9074 - val_loss: 0.3191 - val_precision_12: 0.7407 - val_recall_12: 0.8696\n",
            "Epoch 150/150\n",
            "13/13 [==============================] - 0s 10ms/step - loss: 0.3671 - precision_12: 0.8333 - recall_12: 0.8796 - val_loss: 0.3728 - val_precision_12: 0.7667 - val_recall_12: 1.0000\n"
          ]
        }
      ]
    },
    {
      "cell_type": "code",
      "source": [
        "predictions = model.predict(clf_X_test)\n",
        "print('Macro F1-score is %.2f' %f1_score(clf_y_test, predictions>0.4, average='binary'))"
      ],
      "metadata": {
        "colab": {
          "base_uri": "https://localhost:8080/"
        },
        "id": "aIVuEz6fn8dm",
        "outputId": "389f3a6c-ebd7-41fe-b03c-1e73fbaa7ee5"
      },
      "execution_count": null,
      "outputs": [
        {
          "output_type": "stream",
          "name": "stdout",
          "text": [
            "2/2 [==============================] - 0s 7ms/step\n",
            "Macro F1-score is 0.84\n"
          ]
        }
      ]
    },
    {
      "cell_type": "markdown",
      "source": [
        "# Regression"
      ],
      "metadata": {
        "id": "oe-hPy-Jp07U"
      }
    },
    {
      "cell_type": "markdown",
      "source": [
        "Using the Scikit-Learn library to do the Regression is quite similar to classifying using this library. The only difference is that we use the `adam` optimizer as the `lbfgs` does not work well on our problem."
      ],
      "metadata": {
        "id": "Ay4h19UQqfwL"
      }
    },
    {
      "cell_type": "markdown",
      "source": [
        "### Scikit-Learn"
      ],
      "metadata": {
        "id": "0qflugMpsmIO"
      }
    },
    {
      "cell_type": "markdown",
      "source": [
        "We use **Grid Search** to fine tune the MLP Regressor. After that we use the best parametrs to build our model."
      ],
      "metadata": {
        "id": "mtP_ej8W2UXg"
      }
    },
    {
      "cell_type": "code",
      "source": [
        "# from sklearn.neural_network import MLPRegressor\n",
        "# from sklearn.model_selection import GridSearchCV\n",
        "# from sklearn.datasets import make_regression\n",
        "\n",
        "\n",
        "# # Define a MLPRegressor\n",
        "# mlp = MLPRegressor(max_iter=1000)\n",
        "\n",
        "# # Define a parameter grid to search for best parameters for everything in the pipeline\n",
        "# param_grid = {\n",
        "#     'hidden_layer_sizes': [(50,50,50), (50,100,50), (100,)],\n",
        "#     'activation': ['tanh', 'relu'],\n",
        "#     'solver': ['sgd', 'adam'],\n",
        "#     'alpha': [0.0001, 0.05],\n",
        "#     'learning_rate': ['constant','adaptive'],\n",
        "# }\n",
        "\n",
        "# # Create Grid Search\n",
        "# grid = GridSearchCV(estimator=mlp, param_grid=param_grid, n_jobs=-1, cv=3)\n",
        "# grid.fit(reg_X_train, reg_y_train)\n",
        "\n",
        "# # View The Best Parameters\n",
        "# print(\"Best parameters found: \", grid.best_params_)\n",
        "# print(\"Best score (mean cross-validated score of the best_estimator): \", grid.best_score_)\n",
        "\n",
        "# # Test the model with the best parameters\n",
        "# best_mlp = grid.best_estimator_\n",
        "# # Predict on the test set\n",
        "# y_pred = best_mlp.predict(reg_X_test)\n",
        "\n",
        "# # Calculate R2 score\n",
        "# r2_test_score = r2_score(reg_y_test, y_pred)\n",
        "# print(\"R2 score on test set: \", r2_test_score)\n"
      ],
      "metadata": {
        "colab": {
          "base_uri": "https://localhost:8080/"
        },
        "id": "iIYqnMq0wmEy",
        "outputId": "5bb50d84-ea66-4b24-e709-a921fcfddc88"
      },
      "execution_count": null,
      "outputs": [
        {
          "output_type": "stream",
          "name": "stderr",
          "text": [
            "/usr/local/lib/python3.10/dist-packages/sklearn/model_selection/_validation.py:378: FitFailedWarning: \n",
            "22 fits failed out of a total of 144.\n",
            "The score on these train-test partitions for these parameters will be set to nan.\n",
            "If these failures are not expected, you can try to debug them by setting error_score='raise'.\n",
            "\n",
            "Below are more details about the failures:\n",
            "--------------------------------------------------------------------------------\n",
            "22 fits failed with the following error:\n",
            "Traceback (most recent call last):\n",
            "  File \"/usr/local/lib/python3.10/dist-packages/sklearn/model_selection/_validation.py\", line 686, in _fit_and_score\n",
            "    estimator.fit(X_train, y_train, **fit_params)\n",
            "  File \"/usr/local/lib/python3.10/dist-packages/sklearn/neural_network/_multilayer_perceptron.py\", line 749, in fit\n",
            "    return self._fit(X, y, incremental=False)\n",
            "  File \"/usr/local/lib/python3.10/dist-packages/sklearn/neural_network/_multilayer_perceptron.py\", line 491, in _fit\n",
            "    raise ValueError(\n",
            "ValueError: Solver produced non-finite parameter weights. The input data may contain large values and need to be preprocessed.\n",
            "\n",
            "  warnings.warn(some_fits_failed_message, FitFailedWarning)\n",
            "/usr/local/lib/python3.10/dist-packages/sklearn/model_selection/_search.py:952: UserWarning: One or more of the test scores are non-finite: [-4.57119674e-03 -1.17917654e+00 -4.25387520e-03 -1.17918824e+00\n",
            " -3.83763411e-03 -1.17933577e+00 -3.98694996e-03 -1.17912825e+00\n",
            " -4.40852750e-03 -1.14352458e+00 -4.00971767e-03 -1.14334820e+00\n",
            " -3.90680700e-03 -1.17917929e+00 -4.17766638e-03 -1.17910671e+00\n",
            " -4.36211559e-03 -1.17941159e+00 -4.06157494e-03 -1.17934676e+00\n",
            " -4.65964666e-03 -1.14380586e+00 -3.93874596e-03 -1.14337379e+00\n",
            "             nan  7.61624554e-01             nan  7.74503063e-01\n",
            "             nan  7.46908118e-01             nan  7.77975430e-01\n",
            " -1.44765845e+06  1.26048330e-01 -8.14496962e+11  1.25943273e-01\n",
            "             nan  7.58552511e-01             nan  7.59788935e-01\n",
            "             nan  7.68432829e-01             nan  7.59170560e-01\n",
            " -1.47529714e+06  1.25527397e-01 -8.50529687e+04  1.28122300e-01]\n",
            "  warnings.warn(\n"
          ]
        },
        {
          "output_type": "stream",
          "name": "stdout",
          "text": [
            "Best parameters found:  {'activation': 'relu', 'alpha': 0.0001, 'hidden_layer_sizes': (50, 100, 50), 'learning_rate': 'adaptive', 'solver': 'adam'}\n",
            "Best score (mean cross-validated score of the best_estimator):  0.777975429859933\n",
            "R2 score on test set:  0.8093107512486746\n"
          ]
        }
      ]
    },
    {
      "cell_type": "code",
      "source": [
        "#@title Model\n",
        "from sklearn.neural_network import MLPRegressor\n",
        "reg = MLPRegressor( activation = 'relu', alpha=1e-4, hidden_layer_sizes=(50, 100, 50),learning_rate = 'adaptive',\n",
        "                   solver = 'adam', max_iter=1000, random_state=0)\n",
        "reg.fit(reg_X_train, reg_y_train)\n"
      ],
      "metadata": {
        "colab": {
          "base_uri": "https://localhost:8080/",
          "height": 148
        },
        "id": "I558mxKCpl0c",
        "outputId": "4c5a92a6-3303-4094-9a16-ff0bfe938e05"
      },
      "execution_count": null,
      "outputs": [
        {
          "output_type": "stream",
          "name": "stderr",
          "text": [
            "/usr/local/lib/python3.10/dist-packages/sklearn/neural_network/_multilayer_perceptron.py:686: ConvergenceWarning: Stochastic Optimizer: Maximum iterations (1000) reached and the optimization hasn't converged yet.\n",
            "  warnings.warn(\n"
          ]
        },
        {
          "output_type": "execute_result",
          "data": {
            "text/plain": [
              "MLPRegressor(hidden_layer_sizes=(50, 100, 50), learning_rate='adaptive',\n",
              "             max_iter=1000, random_state=0)"
            ],
            "text/html": [
              "<style>#sk-container-id-15 {color: black;background-color: white;}#sk-container-id-15 pre{padding: 0;}#sk-container-id-15 div.sk-toggleable {background-color: white;}#sk-container-id-15 label.sk-toggleable__label {cursor: pointer;display: block;width: 100%;margin-bottom: 0;padding: 0.3em;box-sizing: border-box;text-align: center;}#sk-container-id-15 label.sk-toggleable__label-arrow:before {content: \"▸\";float: left;margin-right: 0.25em;color: #696969;}#sk-container-id-15 label.sk-toggleable__label-arrow:hover:before {color: black;}#sk-container-id-15 div.sk-estimator:hover label.sk-toggleable__label-arrow:before {color: black;}#sk-container-id-15 div.sk-toggleable__content {max-height: 0;max-width: 0;overflow: hidden;text-align: left;background-color: #f0f8ff;}#sk-container-id-15 div.sk-toggleable__content pre {margin: 0.2em;color: black;border-radius: 0.25em;background-color: #f0f8ff;}#sk-container-id-15 input.sk-toggleable__control:checked~div.sk-toggleable__content {max-height: 200px;max-width: 100%;overflow: auto;}#sk-container-id-15 input.sk-toggleable__control:checked~label.sk-toggleable__label-arrow:before {content: \"▾\";}#sk-container-id-15 div.sk-estimator input.sk-toggleable__control:checked~label.sk-toggleable__label {background-color: #d4ebff;}#sk-container-id-15 div.sk-label input.sk-toggleable__control:checked~label.sk-toggleable__label {background-color: #d4ebff;}#sk-container-id-15 input.sk-hidden--visually {border: 0;clip: rect(1px 1px 1px 1px);clip: rect(1px, 1px, 1px, 1px);height: 1px;margin: -1px;overflow: hidden;padding: 0;position: absolute;width: 1px;}#sk-container-id-15 div.sk-estimator {font-family: monospace;background-color: #f0f8ff;border: 1px dotted black;border-radius: 0.25em;box-sizing: border-box;margin-bottom: 0.5em;}#sk-container-id-15 div.sk-estimator:hover {background-color: #d4ebff;}#sk-container-id-15 div.sk-parallel-item::after {content: \"\";width: 100%;border-bottom: 1px solid gray;flex-grow: 1;}#sk-container-id-15 div.sk-label:hover label.sk-toggleable__label {background-color: #d4ebff;}#sk-container-id-15 div.sk-serial::before {content: \"\";position: absolute;border-left: 1px solid gray;box-sizing: border-box;top: 0;bottom: 0;left: 50%;z-index: 0;}#sk-container-id-15 div.sk-serial {display: flex;flex-direction: column;align-items: center;background-color: white;padding-right: 0.2em;padding-left: 0.2em;position: relative;}#sk-container-id-15 div.sk-item {position: relative;z-index: 1;}#sk-container-id-15 div.sk-parallel {display: flex;align-items: stretch;justify-content: center;background-color: white;position: relative;}#sk-container-id-15 div.sk-item::before, #sk-container-id-15 div.sk-parallel-item::before {content: \"\";position: absolute;border-left: 1px solid gray;box-sizing: border-box;top: 0;bottom: 0;left: 50%;z-index: -1;}#sk-container-id-15 div.sk-parallel-item {display: flex;flex-direction: column;z-index: 1;position: relative;background-color: white;}#sk-container-id-15 div.sk-parallel-item:first-child::after {align-self: flex-end;width: 50%;}#sk-container-id-15 div.sk-parallel-item:last-child::after {align-self: flex-start;width: 50%;}#sk-container-id-15 div.sk-parallel-item:only-child::after {width: 0;}#sk-container-id-15 div.sk-dashed-wrapped {border: 1px dashed gray;margin: 0 0.4em 0.5em 0.4em;box-sizing: border-box;padding-bottom: 0.4em;background-color: white;}#sk-container-id-15 div.sk-label label {font-family: monospace;font-weight: bold;display: inline-block;line-height: 1.2em;}#sk-container-id-15 div.sk-label-container {text-align: center;}#sk-container-id-15 div.sk-container {/* jupyter's `normalize.less` sets `[hidden] { display: none; }` but bootstrap.min.css set `[hidden] { display: none !important; }` so we also need the `!important` here to be able to override the default hidden behavior on the sphinx rendered scikit-learn.org. See: https://github.com/scikit-learn/scikit-learn/issues/21755 */display: inline-block !important;position: relative;}#sk-container-id-15 div.sk-text-repr-fallback {display: none;}</style><div id=\"sk-container-id-15\" class=\"sk-top-container\"><div class=\"sk-text-repr-fallback\"><pre>MLPRegressor(hidden_layer_sizes=(50, 100, 50), learning_rate=&#x27;adaptive&#x27;,\n",
              "             max_iter=1000, random_state=0)</pre><b>In a Jupyter environment, please rerun this cell to show the HTML representation or trust the notebook. <br />On GitHub, the HTML representation is unable to render, please try loading this page with nbviewer.org.</b></div><div class=\"sk-container\" hidden><div class=\"sk-item\"><div class=\"sk-estimator sk-toggleable\"><input class=\"sk-toggleable__control sk-hidden--visually\" id=\"sk-estimator-id-15\" type=\"checkbox\" checked><label for=\"sk-estimator-id-15\" class=\"sk-toggleable__label sk-toggleable__label-arrow\">MLPRegressor</label><div class=\"sk-toggleable__content\"><pre>MLPRegressor(hidden_layer_sizes=(50, 100, 50), learning_rate=&#x27;adaptive&#x27;,\n",
              "             max_iter=1000, random_state=0)</pre></div></div></div></div></div>"
            ]
          },
          "metadata": {},
          "execution_count": 171
        }
      ]
    },
    {
      "cell_type": "code",
      "source": [
        "#@title Evaluation\n",
        "from sklearn.metrics import r2_score\n",
        "r2_score(reg_y_test, reg.predict(reg_X_test))"
      ],
      "metadata": {
        "colab": {
          "base_uri": "https://localhost:8080/"
        },
        "id": "afdfEIAZrJL2",
        "outputId": "49af00ae-9811-4fb4-f549-3659e304265c"
      },
      "execution_count": null,
      "outputs": [
        {
          "output_type": "execute_result",
          "data": {
            "text/plain": [
              "0.8615471683632616"
            ]
          },
          "metadata": {},
          "execution_count": 172
        }
      ]
    },
    {
      "cell_type": "markdown",
      "source": [
        "### Keras"
      ],
      "metadata": {
        "id": "j4NwAcaj2-U6"
      }
    },
    {
      "cell_type": "markdown",
      "source": [
        "Using sequential API for Regression is also quite similar to classification. The only difference is that we did not use any activation function in the last layer of the model not to restrict the model's output value. This change is also applied to all other models."
      ],
      "metadata": {
        "id": "xvBySfOiqXJo"
      }
    },
    {
      "cell_type": "code",
      "source": [
        "#@title Model\n",
        "from keras.models import Sequential\n",
        "from keras.layers import Dense\n",
        "model = Sequential()\n",
        "model.add(Dense(200, activation='relu'))\n",
        "model.add(Dense(100, activation='relu'))\n",
        "model.add(Dense(10, activation='relu'))\n",
        "model.add(Dense(1))"
      ],
      "metadata": {
        "id": "4R8lgQW0qg7W"
      },
      "execution_count": null,
      "outputs": []
    },
    {
      "cell_type": "markdown",
      "source": [
        "#### We write R2-Score as a function"
      ],
      "metadata": {
        "id": "T24uTSjRw0AT"
      }
    },
    {
      "cell_type": "code",
      "source": [
        "from keras import backend as K\n",
        "\n",
        "def R2_Score(y_true, y_pred):\n",
        "\n",
        "    SS_res =  K.sum(K.square( y_true-y_pred ))\n",
        "    SS_tot = K.sum(K.square( y_true - K.mean(y_true) ) )\n",
        "    return ( 1 - (SS_res)/(SS_tot + K.epsilon()) )"
      ],
      "metadata": {
        "id": "vkHhwDrGqkDH"
      },
      "execution_count": null,
      "outputs": []
    },
    {
      "cell_type": "code",
      "source": [
        "model.compile(\n",
        "  loss='mse',\n",
        "  optimizer=tf.keras.optimizers.Adam(learning_rate=0.005),\n",
        "  metrics=[R2_Score],\n",
        ")"
      ],
      "metadata": {
        "id": "GTvz2yicqriQ"
      },
      "execution_count": null,
      "outputs": []
    },
    {
      "cell_type": "code",
      "source": [
        "#@title Model Training\n",
        "early_stopping = tf.keras.callbacks.EarlyStopping(monitor='loss', patience=10)\n",
        "model.fit(reg_X_train, reg_y_train, epochs=200, callbacks=[early_stopping])"
      ],
      "metadata": {
        "colab": {
          "base_uri": "https://localhost:8080/"
        },
        "id": "Xw9i0Pg3qw5f",
        "outputId": "b5f00261-9ae2-4347-e3fa-1cbc3c656c42"
      },
      "execution_count": null,
      "outputs": [
        {
          "output_type": "stream",
          "name": "stdout",
          "text": [
            "Epoch 1/200\n",
            "34/34 [==============================] - 1s 3ms/step - loss: 25444156.0000 - R2_Score: 0.7771\n",
            "Epoch 2/200\n",
            "34/34 [==============================] - 0s 3ms/step - loss: 26819006.0000 - R2_Score: 0.7891\n",
            "Epoch 3/200\n",
            "34/34 [==============================] - 0s 3ms/step - loss: 25261058.0000 - R2_Score: 0.8090\n",
            "Epoch 4/200\n",
            "34/34 [==============================] - 0s 5ms/step - loss: 25770490.0000 - R2_Score: 0.7968\n",
            "Epoch 5/200\n",
            "34/34 [==============================] - 0s 4ms/step - loss: 24483052.0000 - R2_Score: 0.7925\n",
            "Epoch 6/200\n",
            "34/34 [==============================] - 0s 4ms/step - loss: 24916342.0000 - R2_Score: 0.8109\n",
            "Epoch 7/200\n",
            "34/34 [==============================] - 0s 4ms/step - loss: 25798380.0000 - R2_Score: 0.8005\n",
            "Epoch 8/200\n",
            "34/34 [==============================] - 0s 4ms/step - loss: 25146692.0000 - R2_Score: 0.8146\n",
            "Epoch 9/200\n",
            "34/34 [==============================] - 0s 4ms/step - loss: 24396778.0000 - R2_Score: 0.8107\n",
            "Epoch 10/200\n",
            "34/34 [==============================] - 0s 5ms/step - loss: 24295812.0000 - R2_Score: 0.7913\n",
            "Epoch 11/200\n",
            "34/34 [==============================] - 0s 5ms/step - loss: 24607200.0000 - R2_Score: 0.8141\n",
            "Epoch 12/200\n",
            "34/34 [==============================] - 0s 4ms/step - loss: 24431254.0000 - R2_Score: 0.8183\n",
            "Epoch 13/200\n",
            "34/34 [==============================] - 0s 5ms/step - loss: 25001634.0000 - R2_Score: 0.8000\n",
            "Epoch 14/200\n",
            "34/34 [==============================] - 0s 5ms/step - loss: 24578514.0000 - R2_Score: 0.8087\n",
            "Epoch 15/200\n",
            "34/34 [==============================] - 0s 5ms/step - loss: 25088734.0000 - R2_Score: 0.7984\n",
            "Epoch 16/200\n",
            "34/34 [==============================] - 0s 5ms/step - loss: 24787546.0000 - R2_Score: 0.7872\n",
            "Epoch 17/200\n",
            "34/34 [==============================] - 0s 4ms/step - loss: 24566068.0000 - R2_Score: 0.8021\n",
            "Epoch 18/200\n",
            "34/34 [==============================] - 0s 5ms/step - loss: 24690796.0000 - R2_Score: 0.8037\n",
            "Epoch 19/200\n",
            "34/34 [==============================] - 0s 5ms/step - loss: 24432778.0000 - R2_Score: 0.8010\n",
            "Epoch 20/200\n",
            "34/34 [==============================] - 0s 5ms/step - loss: 25314912.0000 - R2_Score: 0.7902\n"
          ]
        },
        {
          "output_type": "execute_result",
          "data": {
            "text/plain": [
              "<keras.src.callbacks.History at 0x78d7ef0c9f30>"
            ]
          },
          "metadata": {},
          "execution_count": 200
        }
      ]
    },
    {
      "cell_type": "code",
      "source": [
        "#@title Model Evaluation\n",
        "model.evaluate(reg_X_test, reg_y_test)"
      ],
      "metadata": {
        "colab": {
          "base_uri": "https://localhost:8080/"
        },
        "id": "VWY_Y6Y0q1yy",
        "outputId": "dd44e78d-692b-4370-ef28-d31eb1b26f14"
      },
      "execution_count": null,
      "outputs": [
        {
          "output_type": "stream",
          "name": "stdout",
          "text": [
            "9/9 [==============================] - 0s 3ms/step - loss: 19099674.0000 - R2_Score: 0.8698\n"
          ]
        },
        {
          "output_type": "execute_result",
          "data": {
            "text/plain": [
              "[19099674.0, 0.8698294162750244]"
            ]
          },
          "metadata": {},
          "execution_count": 201
        }
      ]
    },
    {
      "cell_type": "markdown",
      "source": [
        "We get R2-Score above %75 by using 4-layer feedforward network with Keras"
      ],
      "metadata": {
        "id": "0Vo2uxXUyDWV"
      }
    },
    {
      "cell_type": "markdown",
      "source": [
        "### PyTorch"
      ],
      "metadata": {
        "id": "Y2P1Xz8wyVLO"
      }
    },
    {
      "cell_type": "code",
      "source": [
        "import torch\n",
        "import torch.nn as nn\n",
        "import torch.nn.functional as F\n",
        "import numpy as np"
      ],
      "metadata": {
        "id": "YHHqnHserR2H"
      },
      "execution_count": null,
      "outputs": []
    },
    {
      "cell_type": "markdown",
      "source": [
        "#### The number of input neurons should be same as the number of featuers."
      ],
      "metadata": {
        "id": "xLezSUYo0PEc"
      }
    },
    {
      "cell_type": "code",
      "execution_count": null,
      "metadata": {
        "id": "Ai5eCdOFBJ7q"
      },
      "outputs": [],
      "source": [
        "reg_X_train_tensor, reg_y_train_tensor, reg_X_test_tensor, reg_y_test_tensor = map(np.array, (reg_X_train,\n",
        "                                                                                              reg_y_train,\n",
        "                                                                                              reg_X_test,\n",
        "                                                                                              reg_y_test))\n",
        "\n",
        "reg_X_train_tensor = reg_X_train_tensor.astype(np.float32)\n",
        "reg_y_train_tensor = reg_y_train_tensor.astype(np.float32)\n",
        "reg_X_test_tensor = reg_X_test_tensor.astype(np.float32)\n",
        "reg_y_test_tensor = reg_y_test_tensor.astype(np.float32)\n",
        "\n",
        "reg_X_train_tensor, reg_y_train_tensor, reg_X_test_tensor, reg_y_test_tensor = map(torch.tensor, (reg_X_train_tensor,\n",
        "                                                                                                  reg_y_train_tensor,\n",
        "                                                                                                  reg_X_test_tensor,\n",
        "                                                                                                  reg_y_test_tensor))"
      ]
    },
    {
      "cell_type": "code",
      "source": [
        "# create the datset\n",
        "from torch.utils.data import TensorDataset\n",
        "train_set = TensorDataset(tensor_X_train,tensor_y_train)\n",
        "test_set = TensorDataset(tensor_X_test,tensor_y_test)\n",
        "\n",
        "# create your dataloader\n",
        "train_dl = DataLoader(train_set,batch_size=8, shuffle=True)\n",
        "test_dl = DataLoader(test_set,batch_size=8, shuffle=True)"
      ],
      "metadata": {
        "id": "Nl058t0xZbzX"
      },
      "execution_count": null,
      "outputs": []
    },
    {
      "cell_type": "code",
      "source": [
        "import torch\n",
        "import torch.nn as nn\n",
        "import torch.nn.functional as F\n",
        "from sklearn.metrics import r2_score\n",
        "\n",
        "# Define your model class with an additional 'activation' parameter\n",
        "class Model(nn.Module):\n",
        "    def __init__(self, n1, n2, n3, n4, activation):\n",
        "        super(Model, self).__init__()\n",
        "        self.fc1 = nn.Linear(13, n1)\n",
        "        self.fc2 = nn.Linear(n1, n2)\n",
        "        self.fc3 = nn.Linear(n2, n3)\n",
        "        self.fc4 = nn.Linear(n3, n4)\n",
        "        self.fc5 = nn.Linear(n4, 1)\n",
        "        self.activation = activation\n",
        "\n",
        "    def forward(self, x):\n",
        "        x = self.activation(self.fc1(x))\n",
        "        x = self.activation(self.fc2(x))\n",
        "        x = self.activation(self.fc3(x))\n",
        "        x = F.tanh(self.fc4(x))\n",
        "        x = self.fc5(x)\n",
        "        return x"
      ],
      "metadata": {
        "id": "r-VQZ2m8BesF"
      },
      "execution_count": null,
      "outputs": []
    },
    {
      "cell_type": "code",
      "source": [
        "#@title Model Initialization\n",
        "# Initialize model, loss, and optimizer with current set of parameters\n",
        "model = Model(100,70,60,50, F.relu)\n",
        "criterion = nn.MSELoss()\n",
        "optimizer = torch.optim.Adam(model.parameters(), lr=0.005)"
      ],
      "metadata": {
        "id": "GZbMx3ULC3mk"
      },
      "execution_count": null,
      "outputs": []
    },
    {
      "cell_type": "code",
      "source": [
        "import numpy as np\n",
        "from sklearn.metrics import r2_score\n",
        "\n",
        "for epoch in range(500):\n",
        "    running_loss = 0.0\n",
        "    all_predictions = []\n",
        "    all_targets = []\n",
        "\n",
        "    for i, (inputs, targets) in enumerate(train_dl):\n",
        "        # Zero the parameter gradients\n",
        "        optimizer.zero_grad()\n",
        "\n",
        "        # Forward pass\n",
        "        # print(inputs.size())\n",
        "        outputs = model(inputs).squeeze()\n",
        "        loss = criterion(outputs, targets)\n",
        "\n",
        "        # Backward pass and optimize\n",
        "        loss.backward()\n",
        "        optimizer.step()\n",
        "\n",
        "        running_loss += loss.item()\n",
        "        all_predictions.append(outputs.detach().cpu().numpy())\n",
        "        all_targets.append(targets.cpu().numpy())\n",
        "\n",
        "    # Calculate R2 score at the end of the epoch\n",
        "    all_predictions = np.concatenate(all_predictions)\n",
        "    all_targets = np.concatenate(all_targets)\n",
        "    r2 = r2_score(all_targets, all_predictions)\n",
        "\n",
        "    # Evaluation part\n",
        "    model.eval()  # Set the model to evaluation mode\n",
        "    val_predictions = []\n",
        "    val_targets = []\n",
        "\n",
        "    with torch.no_grad():  # No need to track gradients during evaluation\n",
        "        for inputs, targets in test_dl:\n",
        "            outputs = model(inputs).squeeze()\n",
        "            val_predictions.append(outputs.cpu().numpy())\n",
        "            val_targets.append(targets.cpu().numpy())\n",
        "\n",
        "    # Calculate R2 score on the validation set\n",
        "    val_predictions = np.concatenate(val_predictions)\n",
        "    val_targets = np.concatenate(val_targets)\n",
        "    val_r2 = r2_score(val_targets, val_predictions)\n",
        "\n",
        "    # Break if validation R2 score is satisfactory\n",
        "    if val_r2 >= 0.8:\n",
        "        print('Stopping early as validation R2 Score reached the threshold.')\n",
        "        break\n",
        "\n",
        "    running_loss = 0.0\n",
        "    model.train()  # Set the model back to training mode\n",
        "\n",
        "print('Validation R2 Score: %.3f' % (epoch,val_r2))"
      ],
      "metadata": {
        "colab": {
          "base_uri": "https://localhost:8080/"
        },
        "id": "lnTvN2j8cah2",
        "outputId": "db33eef4-07ca-45ef-be24-c1ea7d4cba0e"
      },
      "execution_count": null,
      "outputs": [
        {
          "output_type": "stream",
          "name": "stdout",
          "text": [
            "Validation R2 Score: 0.821\n"
          ]
        }
      ]
    },
    {
      "cell_type": "markdown",
      "source": [
        "### Non-Sequential Keras"
      ],
      "metadata": {
        "id": "rYcHARBOmDvp"
      }
    },
    {
      "cell_type": "code",
      "source": [
        "from keras.layers import Add, Concatenate, Dense, Input\n",
        "from keras.models import Model\n",
        "import tensorflow as tf"
      ],
      "metadata": {
        "id": "YxxjUlfPWrj3"
      },
      "execution_count": null,
      "outputs": []
    },
    {
      "cell_type": "code",
      "source": [
        "#@title Model Initialization\n",
        "input_layer = Input(shape=(reg_X_train.shape[1],))\n",
        "hidden_layer_1 = Dense(200, activation='relu')(input_layer)\n",
        "hidden_layer_2 = Dense(100, activation='relu')(hidden_layer_1)\n",
        "hidden_layer_3 = Dense(10, activation='relu')(hidden_layer_2)\n",
        "output_layer = Dense(1, activation=None)(hidden_layer_3)\n",
        "\n",
        "model = Model(inputs=input_layer, outputs=output_layer)"
      ],
      "metadata": {
        "id": "ef7sx5DGmMfi"
      },
      "execution_count": null,
      "outputs": []
    },
    {
      "cell_type": "code",
      "source": [
        "# Define a custom R2 score metric\n",
        "def R2_Score(y_true, y_pred):\n",
        "    SS_res =  K.sum(K.square(y_true - y_pred))\n",
        "    SS_tot = K.sum(K.square(y_true - K.mean(y_true)))\n",
        "    return (1 - SS_res/(SS_tot + K.epsilon()))"
      ],
      "metadata": {
        "id": "G_oCN5o4pV5j"
      },
      "execution_count": null,
      "outputs": []
    },
    {
      "cell_type": "code",
      "source": [
        "model.compile(\n",
        "    loss='mse',\n",
        "    optimizer=tf.keras.optimizers.Adam(lr=0.01),\n",
        "    metrics=[R2_Score],\n",
        "    )\n",
        "model.summary()"
      ],
      "metadata": {
        "colab": {
          "base_uri": "https://localhost:8080/"
        },
        "id": "6EC_YlelmTeb",
        "outputId": "1ad05a63-e201-41f6-c990-26273ed41b14"
      },
      "execution_count": null,
      "outputs": [
        {
          "output_type": "stream",
          "name": "stderr",
          "text": [
            "WARNING:absl:`lr` is deprecated in Keras optimizer, please use `learning_rate` or use the legacy optimizer, e.g.,tf.keras.optimizers.legacy.Adam.\n"
          ]
        },
        {
          "output_type": "stream",
          "name": "stdout",
          "text": [
            "Model: \"model_1\"\n",
            "_________________________________________________________________\n",
            " Layer (type)                Output Shape              Param #   \n",
            "=================================================================\n",
            " input_3 (InputLayer)        [(None, 6)]               0         \n",
            "                                                                 \n",
            " dense_46 (Dense)            (None, 200)               1400      \n",
            "                                                                 \n",
            " dense_47 (Dense)            (None, 100)               20100     \n",
            "                                                                 \n",
            " dense_48 (Dense)            (None, 10)                1010      \n",
            "                                                                 \n",
            " dense_49 (Dense)            (None, 1)                 11        \n",
            "                                                                 \n",
            "=================================================================\n",
            "Total params: 22521 (87.97 KB)\n",
            "Trainable params: 22521 (87.97 KB)\n",
            "Non-trainable params: 0 (0.00 Byte)\n",
            "_________________________________________________________________\n"
          ]
        }
      ]
    },
    {
      "cell_type": "code",
      "source": [
        "from tensorflow.keras.utils import plot_model\n",
        "plot_model(model,show_shapes=True)"
      ],
      "metadata": {
        "colab": {
          "base_uri": "https://localhost:8080/",
          "height": 533
        },
        "id": "OgxWhSrWm6AA",
        "outputId": "949b6719-c84f-4b5a-9e25-55db655ffe26"
      },
      "execution_count": null,
      "outputs": [
        {
          "output_type": "execute_result",
          "data": {
            "image/png": "[encoded data removed]",
            "text/plain": [
              "<IPython.core.display.Image object>"
            ]
          },
          "metadata": {},
          "execution_count": 468
        }
      ]
    },
    {
      "cell_type": "code",
      "source": [
        "#@title Model Training\n",
        "history = model.fit(reg_X_train, reg_y_train,\n",
        "                    batch_size = 8,\n",
        "                    epochs = 100)"
      ],
      "metadata": {
        "colab": {
          "base_uri": "https://localhost:8080/"
        },
        "id": "jz5usQB6mV1t",
        "outputId": "f318df67-c833-4b02-cde9-cea15fc276fc"
      },
      "execution_count": null,
      "outputs": [
        {
          "output_type": "stream",
          "name": "stdout",
          "text": [
            "Epoch 1/100\n",
            "134/134 [==============================] - 2s 4ms/step - loss: 32002270.0000 - R2_Score: 0.6151\n",
            "Epoch 2/100\n",
            "134/134 [==============================] - 1s 4ms/step - loss: 31548614.0000 - R2_Score: 0.6310\n",
            "Epoch 3/100\n",
            "134/134 [==============================] - 1s 4ms/step - loss: 31952280.0000 - R2_Score: 0.6082\n",
            "Epoch 4/100\n",
            "134/134 [==============================] - 0s 3ms/step - loss: 31239606.0000 - R2_Score: 0.6293\n",
            "Epoch 5/100\n",
            "134/134 [==============================] - 0s 3ms/step - loss: 31680710.0000 - R2_Score: 0.6092\n",
            "Epoch 6/100\n",
            "134/134 [==============================] - 0s 3ms/step - loss: 31810842.0000 - R2_Score: 0.6239\n",
            "Epoch 7/100\n",
            "134/134 [==============================] - 0s 2ms/step - loss: 31345242.0000 - R2_Score: 0.6107\n",
            "Epoch 8/100\n",
            "134/134 [==============================] - 0s 3ms/step - loss: 31333548.0000 - R2_Score: 0.6162\n",
            "Epoch 9/100\n",
            "134/134 [==============================] - 0s 3ms/step - loss: 31445616.0000 - R2_Score: 0.6508\n",
            "Epoch 10/100\n",
            "134/134 [==============================] - 0s 3ms/step - loss: 31302584.0000 - R2_Score: 0.5995\n",
            "Epoch 11/100\n",
            "134/134 [==============================] - 0s 2ms/step - loss: 31756792.0000 - R2_Score: 0.6611\n",
            "Epoch 12/100\n",
            "134/134 [==============================] - 0s 3ms/step - loss: 30871294.0000 - R2_Score: 0.6467\n",
            "Epoch 13/100\n",
            "134/134 [==============================] - 0s 2ms/step - loss: 31049276.0000 - R2_Score: 0.6561\n",
            "Epoch 14/100\n",
            "134/134 [==============================] - 0s 2ms/step - loss: 30823894.0000 - R2_Score: 0.6574\n",
            "Epoch 15/100\n",
            "134/134 [==============================] - 0s 3ms/step - loss: 31302396.0000 - R2_Score: 0.6299\n",
            "Epoch 16/100\n",
            "134/134 [==============================] - 0s 3ms/step - loss: 30617422.0000 - R2_Score: 0.6472\n",
            "Epoch 17/100\n",
            "134/134 [==============================] - 0s 2ms/step - loss: 30859276.0000 - R2_Score: 0.6364\n",
            "Epoch 18/100\n",
            "134/134 [==============================] - 0s 3ms/step - loss: 30454478.0000 - R2_Score: 0.6318\n",
            "Epoch 19/100\n",
            "134/134 [==============================] - 0s 3ms/step - loss: 30485988.0000 - R2_Score: 0.6224\n",
            "Epoch 20/100\n",
            "134/134 [==============================] - 0s 2ms/step - loss: 30865076.0000 - R2_Score: 0.6309\n",
            "Epoch 21/100\n",
            "134/134 [==============================] - 0s 3ms/step - loss: 30675830.0000 - R2_Score: 0.6574\n",
            "Epoch 22/100\n",
            "134/134 [==============================] - 0s 2ms/step - loss: 30774200.0000 - R2_Score: 0.6295\n",
            "Epoch 23/100\n",
            "134/134 [==============================] - 0s 2ms/step - loss: 30370256.0000 - R2_Score: 0.6313\n",
            "Epoch 24/100\n",
            "134/134 [==============================] - 0s 3ms/step - loss: 30102432.0000 - R2_Score: 0.6203\n",
            "Epoch 25/100\n",
            "134/134 [==============================] - 0s 3ms/step - loss: 30232368.0000 - R2_Score: 0.6262\n",
            "Epoch 26/100\n",
            "134/134 [==============================] - 0s 3ms/step - loss: 30675092.0000 - R2_Score: 0.6463\n",
            "Epoch 27/100\n",
            "134/134 [==============================] - 0s 3ms/step - loss: 30311606.0000 - R2_Score: 0.6449\n",
            "Epoch 28/100\n",
            "134/134 [==============================] - 0s 3ms/step - loss: 29743260.0000 - R2_Score: 0.6134\n",
            "Epoch 29/100\n",
            "134/134 [==============================] - 0s 3ms/step - loss: 29741698.0000 - R2_Score: 0.6626\n",
            "Epoch 30/100\n",
            "134/134 [==============================] - 0s 3ms/step - loss: 29798776.0000 - R2_Score: 0.6685\n",
            "Epoch 31/100\n",
            "134/134 [==============================] - 0s 2ms/step - loss: 30019774.0000 - R2_Score: 0.5914\n",
            "Epoch 32/100\n",
            "134/134 [==============================] - 0s 2ms/step - loss: 29751856.0000 - R2_Score: 0.6800\n",
            "Epoch 33/100\n",
            "134/134 [==============================] - 1s 4ms/step - loss: 29626320.0000 - R2_Score: 0.6480\n",
            "Epoch 34/100\n",
            "134/134 [==============================] - 0s 4ms/step - loss: 29768502.0000 - R2_Score: 0.6524\n",
            "Epoch 35/100\n",
            "134/134 [==============================] - 0s 3ms/step - loss: 29347338.0000 - R2_Score: 0.6628\n",
            "Epoch 36/100\n",
            "134/134 [==============================] - 0s 4ms/step - loss: 29398876.0000 - R2_Score: 0.6626\n",
            "Epoch 37/100\n",
            "134/134 [==============================] - 1s 4ms/step - loss: 29401048.0000 - R2_Score: 0.6610\n",
            "Epoch 38/100\n",
            "134/134 [==============================] - 1s 4ms/step - loss: 29410848.0000 - R2_Score: 0.6444\n",
            "Epoch 39/100\n",
            "134/134 [==============================] - 0s 4ms/step - loss: 29199346.0000 - R2_Score: 0.6602\n",
            "Epoch 40/100\n",
            "134/134 [==============================] - 0s 2ms/step - loss: 29143680.0000 - R2_Score: 0.6366\n",
            "Epoch 41/100\n",
            "134/134 [==============================] - 0s 2ms/step - loss: 28930728.0000 - R2_Score: 0.6427\n",
            "Epoch 42/100\n",
            "134/134 [==============================] - 0s 3ms/step - loss: 29349920.0000 - R2_Score: 0.6585\n",
            "Epoch 43/100\n",
            "134/134 [==============================] - 0s 2ms/step - loss: 29289984.0000 - R2_Score: 0.6383\n",
            "Epoch 44/100\n",
            "134/134 [==============================] - 0s 2ms/step - loss: 28905932.0000 - R2_Score: 0.6642\n",
            "Epoch 45/100\n",
            "134/134 [==============================] - 0s 2ms/step - loss: 28661780.0000 - R2_Score: 0.6658\n",
            "Epoch 46/100\n",
            "134/134 [==============================] - 0s 2ms/step - loss: 29040160.0000 - R2_Score: 0.6385\n",
            "Epoch 47/100\n",
            "134/134 [==============================] - 0s 3ms/step - loss: 28492286.0000 - R2_Score: 0.6674\n",
            "Epoch 48/100\n",
            "134/134 [==============================] - 0s 3ms/step - loss: 28940974.0000 - R2_Score: 0.6476\n",
            "Epoch 49/100\n",
            "134/134 [==============================] - 0s 3ms/step - loss: 28411898.0000 - R2_Score: 0.6614\n",
            "Epoch 50/100\n",
            "134/134 [==============================] - 0s 2ms/step - loss: 28725968.0000 - R2_Score: 0.6463\n",
            "Epoch 51/100\n",
            "134/134 [==============================] - 0s 3ms/step - loss: 28617748.0000 - R2_Score: 0.6803\n",
            "Epoch 52/100\n",
            "134/134 [==============================] - 0s 2ms/step - loss: 28775768.0000 - R2_Score: 0.6802\n",
            "Epoch 53/100\n",
            "134/134 [==============================] - 0s 3ms/step - loss: 28265258.0000 - R2_Score: 0.6255\n",
            "Epoch 54/100\n",
            "134/134 [==============================] - 0s 3ms/step - loss: 28338738.0000 - R2_Score: 0.6216\n",
            "Epoch 55/100\n",
            "134/134 [==============================] - 0s 2ms/step - loss: 28154552.0000 - R2_Score: 0.6840\n",
            "Epoch 56/100\n",
            "134/134 [==============================] - 0s 3ms/step - loss: 28366058.0000 - R2_Score: 0.6778\n",
            "Epoch 57/100\n",
            "134/134 [==============================] - 0s 3ms/step - loss: 28128944.0000 - R2_Score: 0.6535\n",
            "Epoch 58/100\n",
            "134/134 [==============================] - 0s 3ms/step - loss: 28026330.0000 - R2_Score: 0.6390\n",
            "Epoch 59/100\n",
            "134/134 [==============================] - 0s 3ms/step - loss: 28072092.0000 - R2_Score: 0.6867\n",
            "Epoch 60/100\n",
            "134/134 [==============================] - 0s 3ms/step - loss: 28077402.0000 - R2_Score: 0.6803\n",
            "Epoch 61/100\n",
            "134/134 [==============================] - 0s 3ms/step - loss: 27830788.0000 - R2_Score: 0.6574\n",
            "Epoch 62/100\n",
            "134/134 [==============================] - 0s 3ms/step - loss: 27765232.0000 - R2_Score: 0.6865\n",
            "Epoch 63/100\n",
            "134/134 [==============================] - 0s 3ms/step - loss: 27832724.0000 - R2_Score: 0.6687\n",
            "Epoch 64/100\n",
            "134/134 [==============================] - 0s 3ms/step - loss: 27719582.0000 - R2_Score: 0.6853\n",
            "Epoch 65/100\n",
            "134/134 [==============================] - 0s 3ms/step - loss: 27969920.0000 - R2_Score: 0.6796\n",
            "Epoch 66/100\n",
            "134/134 [==============================] - 0s 3ms/step - loss: 27681670.0000 - R2_Score: 0.6443\n",
            "Epoch 67/100\n",
            "134/134 [==============================] - 0s 3ms/step - loss: 27898958.0000 - R2_Score: 0.6909\n",
            "Epoch 68/100\n",
            "134/134 [==============================] - 1s 4ms/step - loss: 27643854.0000 - R2_Score: 0.6872\n",
            "Epoch 69/100\n",
            "134/134 [==============================] - 0s 4ms/step - loss: 27465074.0000 - R2_Score: 0.6764\n",
            "Epoch 70/100\n",
            "134/134 [==============================] - 0s 4ms/step - loss: 28565970.0000 - R2_Score: 0.6709\n",
            "Epoch 71/100\n",
            "134/134 [==============================] - 0s 3ms/step - loss: 27634950.0000 - R2_Score: 0.6825\n",
            "Epoch 72/100\n",
            "134/134 [==============================] - 0s 3ms/step - loss: 27716886.0000 - R2_Score: 0.6998\n",
            "Epoch 73/100\n",
            "134/134 [==============================] - 1s 4ms/step - loss: 27283828.0000 - R2_Score: 0.7012\n",
            "Epoch 74/100\n",
            "134/134 [==============================] - 0s 3ms/step - loss: 27996838.0000 - R2_Score: 0.6697\n",
            "Epoch 75/100\n",
            "134/134 [==============================] - 0s 2ms/step - loss: 26802558.0000 - R2_Score: 0.6774\n",
            "Epoch 76/100\n",
            "134/134 [==============================] - 0s 3ms/step - loss: 27793664.0000 - R2_Score: 0.6711\n",
            "Epoch 77/100\n",
            "134/134 [==============================] - 0s 2ms/step - loss: 27171640.0000 - R2_Score: 0.6823\n",
            "Epoch 78/100\n",
            "134/134 [==============================] - 0s 3ms/step - loss: 26847690.0000 - R2_Score: 0.6932\n",
            "Epoch 79/100\n",
            "134/134 [==============================] - 0s 2ms/step - loss: 27447480.0000 - R2_Score: 0.7003\n",
            "Epoch 80/100\n",
            "134/134 [==============================] - 0s 2ms/step - loss: 27141792.0000 - R2_Score: 0.6942\n",
            "Epoch 81/100\n",
            "134/134 [==============================] - 0s 3ms/step - loss: 27051404.0000 - R2_Score: 0.7113\n",
            "Epoch 82/100\n",
            "134/134 [==============================] - 0s 2ms/step - loss: 26759448.0000 - R2_Score: 0.6897\n",
            "Epoch 83/100\n",
            "134/134 [==============================] - 0s 3ms/step - loss: 26603596.0000 - R2_Score: 0.6948\n",
            "Epoch 84/100\n",
            "134/134 [==============================] - 0s 3ms/step - loss: 26789460.0000 - R2_Score: 0.7004\n",
            "Epoch 85/100\n",
            "134/134 [==============================] - 0s 3ms/step - loss: 27063288.0000 - R2_Score: 0.6895\n",
            "Epoch 86/100\n",
            "134/134 [==============================] - 0s 3ms/step - loss: 26886268.0000 - R2_Score: 0.6813\n",
            "Epoch 87/100\n",
            "134/134 [==============================] - 0s 2ms/step - loss: 26394450.0000 - R2_Score: 0.6745\n",
            "Epoch 88/100\n",
            "134/134 [==============================] - 0s 2ms/step - loss: 26459660.0000 - R2_Score: 0.6896\n",
            "Epoch 89/100\n",
            "134/134 [==============================] - 0s 2ms/step - loss: 26328462.0000 - R2_Score: 0.6845\n",
            "Epoch 90/100\n",
            "134/134 [==============================] - 0s 3ms/step - loss: 27317240.0000 - R2_Score: 0.6648\n",
            "Epoch 91/100\n",
            "134/134 [==============================] - 0s 2ms/step - loss: 26423440.0000 - R2_Score: 0.6823\n",
            "Epoch 92/100\n",
            "134/134 [==============================] - 0s 3ms/step - loss: 26440796.0000 - R2_Score: 0.6963\n",
            "Epoch 93/100\n",
            "134/134 [==============================] - 0s 3ms/step - loss: 26323406.0000 - R2_Score: 0.7099\n",
            "Epoch 94/100\n",
            "134/134 [==============================] - 0s 2ms/step - loss: 26208382.0000 - R2_Score: 0.6778\n",
            "Epoch 95/100\n",
            "134/134 [==============================] - 0s 3ms/step - loss: 26195046.0000 - R2_Score: 0.7121\n",
            "Epoch 96/100\n",
            "134/134 [==============================] - 0s 3ms/step - loss: 26209316.0000 - R2_Score: 0.7241\n",
            "Epoch 97/100\n",
            "134/134 [==============================] - 0s 3ms/step - loss: 25807992.0000 - R2_Score: 0.7157\n",
            "Epoch 98/100\n",
            "134/134 [==============================] - 0s 3ms/step - loss: 26485494.0000 - R2_Score: 0.6974\n",
            "Epoch 99/100\n",
            "134/134 [==============================] - 0s 3ms/step - loss: 26154700.0000 - R2_Score: 0.6856\n",
            "Epoch 100/100\n",
            "134/134 [==============================] - 0s 2ms/step - loss: 26104752.0000 - R2_Score: 0.7104\n"
          ]
        }
      ]
    },
    {
      "cell_type": "code",
      "source": [
        "#@title Model Evaluation\n",
        "model.evaluate(reg_X_test, reg_y_test)"
      ],
      "metadata": {
        "colab": {
          "base_uri": "https://localhost:8080/"
        },
        "id": "QB9stzQHmYWW",
        "outputId": "849944ea-b5f9-4102-f752-d80a1bf5b365"
      },
      "execution_count": null,
      "outputs": [
        {
          "output_type": "stream",
          "name": "stdout",
          "text": [
            "9/9 [==============================] - 0s 3ms/step - loss: 20691308.0000 - R2_Score: 0.8592\n"
          ]
        },
        {
          "output_type": "execute_result",
          "data": {
            "text/plain": [
              "[20691308.0, 0.8592046499252319]"
            ]
          },
          "metadata": {},
          "execution_count": 474
        }
      ]
    },
    {
      "cell_type": "markdown",
      "source": [
        "we get R2-Score over %80 by Non-Sequential Keras."
      ],
      "metadata": {
        "id": "0EliQUpmrikn"
      }
    },
    {
      "cell_type": "markdown",
      "source": [
        "# Conceptual Question"
      ],
      "metadata": {
        "id": "E6-ti6joutVN"
      }
    },
    {
      "cell_type": "markdown",
      "source": [
        "`Explain why neural networks are so powerful and what the diffcult part is in designing neural networks?`\n",
        "\n",
        "\n",
        "Neural networks are considered powerful for several reasons:\n",
        "\n",
        "1.   **Universal Approximation Theorem:** This theorem states that a feed-forward network with a single hidden layer containing a finite number of neurons can approximate continuous functions on compact subsets of Rn, under mild assumptions on the activation function. This means neural networks can theoretically model any complex function.\n",
        "\n",
        "2.   **Representation Learning:** Neural networks have the ability to automatically discover the representations needed for feature detection or classification from raw data. This eliminates the need for manual feature extraction, which is a significant advantage in many tasks.\n",
        "\n",
        "3.   **Compositionality:** Each layer in a neural network builds a more complex representation from the output of the previous layer. This layered structure allows for the learning of hierarchies of features, which can be very effective in understanding complex structures like images, sound, and text.\n",
        "\n",
        "4.   **Adaptability and Learning Capability:** Neural networks can be adapted to various types of data and tasks. They can learn from their mistakes using backpropagation and gradient descent, adjusting their weights to improve performance over time.\n",
        "\n",
        "\n",
        "5.   **Parallel Processing:** Neural network computations are highly parallelizable. This makes them particularly well-suited to run on modern GPUs and distributed computing systems, allowing them to scale with data and complexity effectively.\n",
        "\n",
        "\n",
        "6.   **State-of-the-Art Results:** For many applications, including vision, language processing, and gaming, neural networks have achieved or surpassed human-level performance.\n",
        "\n",
        "\n",
        "However, designing neural networks also comes with some challenges:\n",
        "\n",
        "\n",
        "\n",
        "1.   **Architecture Design:** Deciding on the architecture of a neural network (e.g., number of layers, types of layers, number of neurons) is not straightforward and often requires a lot of trial and error.\n",
        "\n",
        "2.   **Overfitting:** Neural networks with many parameters are prone to overfitting, where they learn the training data too well, including noise and outliers, and perform poorly on unseen data.\n",
        "\n",
        "3.   **Training Data:** Neural networks generally require large amounts of labeled data to perform well. Collecting and labeling this data can be time-consuming and expensive.\n",
        "\n",
        "4.   **Training Time:** Larger and more complex networks require more computational resources and time to train. This can be a significant hurdle when resources are limited.\n",
        "\n",
        "5.   **Interpretability:** Neural networks are often seen as \"black boxes\" because it is difficult to understand how they arrive at a particular decision. This lack of interpretability can be a problem in domains where understanding the decision-making process is crucial.\n",
        "\n",
        "6.   **Hyperparameter Tuning:** Neural networks have many hyperparameters that need to be set before training (e.g., learning rate, batch size, number of epochs). Finding the right combination of hyperparameters can be a tedious and resource-intensive process.\n",
        "\n",
        "7.   **Local Minima and Plateaus:** The loss landscape of a neural network can be complex with many local minima and plateaus. The optimization algorithms might get stuck in these areas, leading to suboptimal solutions.\n",
        "\n",
        "8.   **Vanishing/Exploding Gradients:** In deep networks, gradients can become very small or very large, preventing the network from learning effectively.\n"
      ],
      "metadata": {
        "id": "rcV4Iwtduzqv"
      }
    },
    {
      "cell_type": "markdown",
      "source": [
        "# Bonus"
      ],
      "metadata": {
        "id": "RcNzDhYwr0K7"
      }
    },
    {
      "cell_type": "markdown",
      "source": [
        "For the bonus part of this assignment, we used a covid-19 dataset which contains information about mortality and transmission of covid-19 disease in Germany. We also used a second dataset which includes information on vaccination against coronavirus, and used this information to create a time-series model to predict daily new covid-19 patients."
      ],
      "metadata": {
        "id": "quJnj1AZsOut"
      }
    },
    {
      "cell_type": "code",
      "source": [
        "#@title Download the Dataset\n",
        "!kaggle datasets download -d headsortails/covid19-tracking-germany\n",
        "!unzip covid19-tracking-germany"
      ],
      "metadata": {
        "colab": {
          "base_uri": "https://localhost:8080/"
        },
        "id": "LMQkWZ83rwcg",
        "outputId": "6b6e36c5-e5de-45c2-8f39-4baa9bff69a0"
      },
      "execution_count": null,
      "outputs": [
        {
          "output_type": "stream",
          "name": "stdout",
          "text": [
            "Downloading covid19-tracking-germany.zip to /content\n",
            " 80% 11.0M/13.8M [00:00<00:00, 19.6MB/s]\n",
            "100% 13.8M/13.8M [00:00<00:00, 15.2MB/s]\n",
            "Archive:  covid19-tracking-germany.zip\n",
            "  inflating: covid_de.csv            \n",
            "  inflating: covid_de_vaccines.csv   \n",
            "  inflating: de_county.cpg           \n",
            "  inflating: de_county.dbf           \n",
            "  inflating: de_county.prj           \n",
            "  inflating: de_county.shp           \n",
            "  inflating: de_county.shx           \n",
            "  inflating: de_state.cpg            \n",
            "  inflating: de_state.dbf            \n",
            "  inflating: de_state.prj            \n",
            "  inflating: de_state.shp            \n",
            "  inflating: de_state.shx            \n",
            "  inflating: demographics_de.csv     \n"
          ]
        }
      ]
    },
    {
      "cell_type": "code",
      "source": [
        "#@title Read `covid_de.csv` table\n",
        "# Read the file that contains information about mortality and transmission in Germany\n",
        "covid = pd.read_csv('covid_de.csv')\n",
        "# We grouped the data by date attribute because we does not need other attributes like state\n",
        "covid = covid.groupby('date').sum().reset_index()\n",
        "covid.date = pd.to_datetime(covid.date)\n",
        "clear_output()\n",
        "covid.describe().transpose()"
      ],
      "metadata": {
        "colab": {
          "base_uri": "https://localhost:8080/",
          "height": 143
        },
        "id": "BqxoPlKPsTco",
        "outputId": "1a83a570-f447-42c2-9bee-e9a25b785ebf"
      },
      "execution_count": null,
      "outputs": [
        {
          "output_type": "execute_result",
          "data": {
            "text/plain": [
              "            count          mean           std  min      25%      50%      75%  \\\n",
              "cases      1094.0  34560.899452  54401.439246  1.0  2335.00  12066.5  39550.5   \n",
              "deaths     1094.0    151.751371    196.693152  0.0    18.00     83.0    210.0   \n",
              "recovered  1094.0  34207.939671  54450.179214  1.0  2178.75  11271.5  39404.5   \n",
              "\n",
              "                max  \n",
              "cases      307892.0  \n",
              "deaths       1298.0  \n",
              "recovered  307582.0  "
            ],
            "text/html": [
              "\n",
              "  <div id=\"df-21f0654e-d7fc-4d30-bece-2d70ee1c4d6a\" class=\"colab-df-container\">\n",
              "    <div>\n",
              "<style scoped>\n",
              "    .dataframe tbody tr th:only-of-type {\n",
              "        vertical-align: middle;\n",
              "    }\n",
              "\n",
              "    .dataframe tbody tr th {\n",
              "        vertical-align: top;\n",
              "    }\n",
              "\n",
              "    .dataframe thead th {\n",
              "        text-align: right;\n",
              "    }\n",
              "</style>\n",
              "<table border=\"1\" class=\"dataframe\">\n",
              "  <thead>\n",
              "    <tr style=\"text-align: right;\">\n",
              "      <th></th>\n",
              "      <th>count</th>\n",
              "      <th>mean</th>\n",
              "      <th>std</th>\n",
              "      <th>min</th>\n",
              "      <th>25%</th>\n",
              "      <th>50%</th>\n",
              "      <th>75%</th>\n",
              "      <th>max</th>\n",
              "    </tr>\n",
              "  </thead>\n",
              "  <tbody>\n",
              "    <tr>\n",
              "      <th>cases</th>\n",
              "      <td>1094.0</td>\n",
              "      <td>34560.899452</td>\n",
              "      <td>54401.439246</td>\n",
              "      <td>1.0</td>\n",
              "      <td>2335.00</td>\n",
              "      <td>12066.5</td>\n",
              "      <td>39550.5</td>\n",
              "      <td>307892.0</td>\n",
              "    </tr>\n",
              "    <tr>\n",
              "      <th>deaths</th>\n",
              "      <td>1094.0</td>\n",
              "      <td>151.751371</td>\n",
              "      <td>196.693152</td>\n",
              "      <td>0.0</td>\n",
              "      <td>18.00</td>\n",
              "      <td>83.0</td>\n",
              "      <td>210.0</td>\n",
              "      <td>1298.0</td>\n",
              "    </tr>\n",
              "    <tr>\n",
              "      <th>recovered</th>\n",
              "      <td>1094.0</td>\n",
              "      <td>34207.939671</td>\n",
              "      <td>54450.179214</td>\n",
              "      <td>1.0</td>\n",
              "      <td>2178.75</td>\n",
              "      <td>11271.5</td>\n",
              "      <td>39404.5</td>\n",
              "      <td>307582.0</td>\n",
              "    </tr>\n",
              "  </tbody>\n",
              "</table>\n",
              "</div>\n",
              "    <div class=\"colab-df-buttons\">\n",
              "\n",
              "  <div class=\"colab-df-container\">\n",
              "    <button class=\"colab-df-convert\" onclick=\"convertToInteractive('df-21f0654e-d7fc-4d30-bece-2d70ee1c4d6a')\"\n",
              "            title=\"Convert this dataframe to an interactive table.\"\n",
              "            style=\"display:none;\">\n",
              "\n",
              "  <svg xmlns=\"http://www.w3.org/2000/svg\" height=\"24px\" viewBox=\"0 -960 960 960\">\n",
              "    <path d=\"M120-120v-720h720v720H120Zm60-500h600v-160H180v160Zm220 220h160v-160H400v160Zm0 220h160v-160H400v160ZM180-400h160v-160H180v160Zm440 0h160v-160H620v160ZM180-180h160v-160H180v160Zm440 0h160v-160H620v160Z\"/>\n",
              "  </svg>\n",
              "    </button>\n",
              "\n",
              "  <style>\n",
              "    .colab-df-container {\n",
              "      display:flex;\n",
              "      gap: 12px;\n",
              "    }\n",
              "\n",
              "    .colab-df-convert {\n",
              "      background-color: #E8F0FE;\n",
              "      border: none;\n",
              "      border-radius: 50%;\n",
              "      cursor: pointer;\n",
              "      display: none;\n",
              "      fill: #1967D2;\n",
              "      height: 32px;\n",
              "      padding: 0 0 0 0;\n",
              "      width: 32px;\n",
              "    }\n",
              "\n",
              "    .colab-df-convert:hover {\n",
              "      background-color: #E2EBFA;\n",
              "      box-shadow: 0px 1px 2px rgba(60, 64, 67, 0.3), 0px 1px 3px 1px rgba(60, 64, 67, 0.15);\n",
              "      fill: #174EA6;\n",
              "    }\n",
              "\n",
              "    .colab-df-buttons div {\n",
              "      margin-bottom: 4px;\n",
              "    }\n",
              "\n",
              "    [theme=dark] .colab-df-convert {\n",
              "      background-color: #3B4455;\n",
              "      fill: #D2E3FC;\n",
              "    }\n",
              "\n",
              "    [theme=dark] .colab-df-convert:hover {\n",
              "      background-color: #434B5C;\n",
              "      box-shadow: 0px 1px 3px 1px rgba(0, 0, 0, 0.15);\n",
              "      filter: drop-shadow(0px 1px 2px rgba(0, 0, 0, 0.3));\n",
              "      fill: #FFFFFF;\n",
              "    }\n",
              "  </style>\n",
              "\n",
              "    <script>\n",
              "      const buttonEl =\n",
              "        document.querySelector('#df-21f0654e-d7fc-4d30-bece-2d70ee1c4d6a button.colab-df-convert');\n",
              "      buttonEl.style.display =\n",
              "        google.colab.kernel.accessAllowed ? 'block' : 'none';\n",
              "\n",
              "      async function convertToInteractive(key) {\n",
              "        const element = document.querySelector('#df-21f0654e-d7fc-4d30-bece-2d70ee1c4d6a');\n",
              "        const dataTable =\n",
              "          await google.colab.kernel.invokeFunction('convertToInteractive',\n",
              "                                                    [key], {});\n",
              "        if (!dataTable) return;\n",
              "\n",
              "        const docLinkHtml = 'Like what you see? Visit the ' +\n",
              "          '<a target=\"_blank\" href=https://colab.research.google.com/notebooks/data_table.ipynb>data table notebook</a>'\n",
              "          + ' to learn more about interactive tables.';\n",
              "        element.innerHTML = '';\n",
              "        dataTable['output_type'] = 'display_data';\n",
              "        await google.colab.output.renderOutput(dataTable, element);\n",
              "        const docLink = document.createElement('div');\n",
              "        docLink.innerHTML = docLinkHtml;\n",
              "        element.appendChild(docLink);\n",
              "      }\n",
              "    </script>\n",
              "  </div>\n",
              "\n",
              "\n",
              "<div id=\"df-af9a3efb-98cf-4fe5-acd8-4f9db3bd701a\">\n",
              "  <button class=\"colab-df-quickchart\" onclick=\"quickchart('df-af9a3efb-98cf-4fe5-acd8-4f9db3bd701a')\"\n",
              "            title=\"Suggest charts\"\n",
              "            style=\"display:none;\">\n",
              "\n",
              "<svg xmlns=\"http://www.w3.org/2000/svg\" height=\"24px\"viewBox=\"0 0 24 24\"\n",
              "     width=\"24px\">\n",
              "    <g>\n",
              "        <path d=\"M19 3H5c-1.1 0-2 .9-2 2v14c0 1.1.9 2 2 2h14c1.1 0 2-.9 2-2V5c0-1.1-.9-2-2-2zM9 17H7v-7h2v7zm4 0h-2V7h2v10zm4 0h-2v-4h2v4z\"/>\n",
              "    </g>\n",
              "</svg>\n",
              "  </button>\n",
              "\n",
              "<style>\n",
              "  .colab-df-quickchart {\n",
              "      --bg-color: #E8F0FE;\n",
              "      --fill-color: #1967D2;\n",
              "      --hover-bg-color: #E2EBFA;\n",
              "      --hover-fill-color: #174EA6;\n",
              "      --disabled-fill-color: #AAA;\n",
              "      --disabled-bg-color: #DDD;\n",
              "  }\n",
              "\n",
              "  [theme=dark] .colab-df-quickchart {\n",
              "      --bg-color: #3B4455;\n",
              "      --fill-color: #D2E3FC;\n",
              "      --hover-bg-color: #434B5C;\n",
              "      --hover-fill-color: #FFFFFF;\n",
              "      --disabled-bg-color: #3B4455;\n",
              "      --disabled-fill-color: #666;\n",
              "  }\n",
              "\n",
              "  .colab-df-quickchart {\n",
              "    background-color: var(--bg-color);\n",
              "    border: none;\n",
              "    border-radius: 50%;\n",
              "    cursor: pointer;\n",
              "    display: none;\n",
              "    fill: var(--fill-color);\n",
              "    height: 32px;\n",
              "    padding: 0;\n",
              "    width: 32px;\n",
              "  }\n",
              "\n",
              "  .colab-df-quickchart:hover {\n",
              "    background-color: var(--hover-bg-color);\n",
              "    box-shadow: 0 1px 2px rgba(60, 64, 67, 0.3), 0 1px 3px 1px rgba(60, 64, 67, 0.15);\n",
              "    fill: var(--button-hover-fill-color);\n",
              "  }\n",
              "\n",
              "  .colab-df-quickchart-complete:disabled,\n",
              "  .colab-df-quickchart-complete:disabled:hover {\n",
              "    background-color: var(--disabled-bg-color);\n",
              "    fill: var(--disabled-fill-color);\n",
              "    box-shadow: none;\n",
              "  }\n",
              "\n",
              "  .colab-df-spinner {\n",
              "    border: 2px solid var(--fill-color);\n",
              "    border-color: transparent;\n",
              "    border-bottom-color: var(--fill-color);\n",
              "    animation:\n",
              "      spin 1s steps(1) infinite;\n",
              "  }\n",
              "\n",
              "  @keyframes spin {\n",
              "    0% {\n",
              "      border-color: transparent;\n",
              "      border-bottom-color: var(--fill-color);\n",
              "      border-left-color: var(--fill-color);\n",
              "    }\n",
              "    20% {\n",
              "      border-color: transparent;\n",
              "      border-left-color: var(--fill-color);\n",
              "      border-top-color: var(--fill-color);\n",
              "    }\n",
              "    30% {\n",
              "      border-color: transparent;\n",
              "      border-left-color: var(--fill-color);\n",
              "      border-top-color: var(--fill-color);\n",
              "      border-right-color: var(--fill-color);\n",
              "    }\n",
              "    40% {\n",
              "      border-color: transparent;\n",
              "      border-right-color: var(--fill-color);\n",
              "      border-top-color: var(--fill-color);\n",
              "    }\n",
              "    60% {\n",
              "      border-color: transparent;\n",
              "      border-right-color: var(--fill-color);\n",
              "    }\n",
              "    80% {\n",
              "      border-color: transparent;\n",
              "      border-right-color: var(--fill-color);\n",
              "      border-bottom-color: var(--fill-color);\n",
              "    }\n",
              "    90% {\n",
              "      border-color: transparent;\n",
              "      border-bottom-color: var(--fill-color);\n",
              "    }\n",
              "  }\n",
              "</style>\n",
              "\n",
              "  <script>\n",
              "    async function quickchart(key) {\n",
              "      const quickchartButtonEl =\n",
              "        document.querySelector('#' + key + ' button');\n",
              "      quickchartButtonEl.disabled = true;  // To prevent multiple clicks.\n",
              "      quickchartButtonEl.classList.add('colab-df-spinner');\n",
              "      try {\n",
              "        const charts = await google.colab.kernel.invokeFunction(\n",
              "            'suggestCharts', [key], {});\n",
              "      } catch (error) {\n",
              "        console.error('Error during call to suggestCharts:', error);\n",
              "      }\n",
              "      quickchartButtonEl.classList.remove('colab-df-spinner');\n",
              "      quickchartButtonEl.classList.add('colab-df-quickchart-complete');\n",
              "    }\n",
              "    (() => {\n",
              "      let quickchartButtonEl =\n",
              "        document.querySelector('#df-af9a3efb-98cf-4fe5-acd8-4f9db3bd701a button');\n",
              "      quickchartButtonEl.style.display =\n",
              "        google.colab.kernel.accessAllowed ? 'block' : 'none';\n",
              "    })();\n",
              "  </script>\n",
              "</div>\n",
              "    </div>\n",
              "  </div>\n"
            ]
          },
          "metadata": {},
          "execution_count": 476
        }
      ]
    },
    {
      "cell_type": "code",
      "source": [
        "#@title Read `covid_de_vaccines.csv` table\n",
        "vaccine = pd.read_csv('covid_de_vaccines.csv')\n",
        "# Population of Germany\n",
        "germany_total_population = 83.24 * 10**6\n",
        "# Remove useless columns\n",
        "vaccine = vaccine[['date', 'doses', 'doses_first', 'doses_second', 'persons_first_cumul', 'persons_full_cumul']]\n",
        "\n",
        "# Create two new features that shows the percentage of Germany that vaccinated\n",
        "vaccine['first_dose_frac'] = vaccine.apply(lambda row: row['persons_first_cumul'] / germany_total_population, axis=1)\n",
        "vaccine['full_dose_frac'] = vaccine.apply(lambda row: row['persons_full_cumul'] / germany_total_population, axis=1)\n",
        "\n",
        "vaccine.date = pd.to_datetime(vaccine.date)\n",
        "\n",
        "clear_output()\n",
        "# vaccine"
      ],
      "metadata": {
        "id": "xL9IZIp6sZSJ"
      },
      "execution_count": null,
      "outputs": []
    },
    {
      "cell_type": "code",
      "source": [
        "#@title Merge two Datasets and cleaning\n",
        "vaccine_covid = vaccine.merge(covid, on='date', how='outer')\n",
        "vaccine_covid = vaccine_covid.sort_values('date')\n",
        "vaccine_covid = vaccine_covid.drop(699, axis=0)\n",
        "vaccine_covid = vaccine_covid.fillna(0)\n",
        "clear_output()\n",
        "# vaccine_covid"
      ],
      "metadata": {
        "id": "FioSsdQMsfIN"
      },
      "execution_count": null,
      "outputs": []
    },
    {
      "cell_type": "code",
      "source": [
        "#@title Visualize the Data\n",
        "from matplotlib import pyplot as plt\n",
        "plt.rcParams[\"figure.figsize\"] = (16,5)\n",
        "fig, ax1 = plt.subplots()\n",
        "\n",
        "ln1 = ax1.plot(vaccine_covid.date, vaccine_covid.full_dose_frac, label='full vaccinated fraction', color='g')\n",
        "ax1.tick_params(axis='y', labelcolor='b')\n",
        "\n",
        "ax2 = ax1.twinx()\n",
        "# ax2.set_yscale('log')\n",
        "ln2 = ax2.plot(vaccine_covid.date, vaccine_covid.cases, label='cases', color='b')\n",
        "ln3 = ax2.plot(vaccine_covid.date, vaccine_covid.deaths, label='deaths', color='r')\n",
        "ax2.tick_params(axis='y', labelcolor='r')\n",
        "\n",
        "lns = ln1+ln2+ln3\n",
        "labs = [l.get_label() for l in lns]\n",
        "ax1.legend(lns, labs, loc=0)\n",
        "\n",
        "plt.title(\"Germany\")\n",
        "plt.grid()\n",
        "plt.show()"
      ],
      "metadata": {
        "colab": {
          "base_uri": "https://localhost:8080/",
          "height": 366
        },
        "id": "FZaz5VtUsiBV",
        "outputId": "34b3dc37-8d70-4d34-da8b-cb8d96352d14"
      },
      "execution_count": null,
      "outputs": [
        {
          "output_type": "display_data",
          "data": {
            "text/plain": [
              "<Figure size 1600x500 with 2 Axes>"
            ],
            "image/png": "[encoded data removed]"
          },
          "metadata": {}
        }
      ]
    },
    {
      "cell_type": "code",
      "source": [
        "#@title Required Packages for Time-Series Model\n",
        "import numpy as np\n",
        "import matplotlib.pyplot as plt\n",
        "import pandas as pd\n",
        "# import statsmodels.api as sm\n",
        "from pandas import DataFrame , concat\n",
        "from sklearn.metrics import mean_absolute_error , mean_squared_error\n",
        "%matplotlib inline\n",
        "%config InlineBackend.figure_format = 'retina'\n",
        "from numpy import mean , concatenate\n",
        "from math import sqrt\n",
        "from pandas import read_csv\n",
        "from sklearn.preprocessing import MinMaxScaler\n",
        "from tensorflow.keras.models import Sequential\n",
        "from tensorflow.keras.layers import Dense,LSTM,Activation\n",
        "from numpy import array , hstack\n",
        "from tensorflow import keras\n",
        "import tensorflow as tf"
      ],
      "metadata": {
        "id": "ZC2zX00Esk8W"
      },
      "execution_count": null,
      "outputs": []
    },
    {
      "cell_type": "code",
      "source": [
        "#@title Nomalization of the Data\n",
        "\n",
        "# Change the order of the dataset so the label place in last column\n",
        "cases_order = ['first_dose_frac','full_dose_frac','deaths','recovered','cases']\n",
        "\n",
        "dataset = vaccine_covid[cases_order].astype('float64').values\n",
        "\n",
        "# Normalization of the data\n",
        "scaler = MinMaxScaler()\n",
        "dataset = scaler.fit_transform(dataset)"
      ],
      "metadata": {
        "id": "edGtTmwPsqYP"
      },
      "execution_count": null,
      "outputs": []
    },
    {
      "cell_type": "markdown",
      "source": [
        "In the time-series model, we will use the information of 30 days to predict the coming 15 days. The following model will shift the data so that current day cases will replace with future covid-19 new cases."
      ],
      "metadata": {
        "id": "M8pdTW1Ks0tT"
      }
    },
    {
      "cell_type": "code",
      "source": [
        "# split a multivariate sequence into samples\n",
        "def split_sequences(sequences, n_steps_in, n_steps_out):\n",
        "  X, y = list(), list()\n",
        "  for i in range(len(sequences)):\n",
        "    # find the end of this pattern\n",
        "    end_ix = i + n_steps_in\n",
        "    out_end_ix = end_ix + n_steps_out-1\n",
        "    # check if we are beyond the dataset\n",
        "    if out_end_ix > len(sequences):\n",
        "      break\n",
        "    # gather input and output parts of the pattern\n",
        "    seq_x, seq_y = sequences[i:end_ix, :-1], sequences[end_ix-1:out_end_ix, -1]\n",
        "    X.append(seq_x)\n",
        "    y.append(seq_y)\n",
        "  return np.array(X), np.array(y)\n",
        "# choose a number of time steps #change this accordingly\n",
        "n_steps_in, n_steps_out = 30, 15\n",
        "# covert into input/output\n",
        "X, y = split_sequences(dataset, n_steps_in, n_steps_out)\n",
        "print(\"X.shape\" , X.shape)\n",
        "print(\"y.shape\" , y.shape)"
      ],
      "metadata": {
        "colab": {
          "base_uri": "https://localhost:8080/"
        },
        "id": "QM7507OostDd",
        "outputId": "d47e1442-c019-43ba-c43a-e7f4376f52f4"
      },
      "execution_count": null,
      "outputs": [
        {
          "output_type": "stream",
          "name": "stdout",
          "text": [
            "X.shape (1053, 30, 4)\n",
            "y.shape (1053, 15)\n"
          ]
        }
      ]
    },
    {
      "cell_type": "code",
      "source": [
        "#@title Split the data\n",
        "\n",
        "# In time-series problems, we can not sample randomly. Instead, we should take a chunk of data for the test set.\n",
        "X_train, X_test = X[:400, :], X[400:, :]\n",
        "y_train, y_test = y[:400, :], y[400:, :]"
      ],
      "metadata": {
        "id": "yoX1JiZrs35R"
      },
      "execution_count": null,
      "outputs": []
    },
    {
      "cell_type": "code",
      "source": [
        "#@title Model\n",
        "\n",
        "#optimizer learning rate\n",
        "opt = keras.optimizers.Adam(learning_rate=0.0001)\n",
        "# define model\n",
        "model = Sequential()\n",
        "model.add(LSTM(10, activation='relu', return_sequences=True, input_shape=(30, 4)))\n",
        "model.add(LSTM(10, activation='relu'))\n",
        "model.add(Dense(128))\n",
        "model.add(Dense(15))\n",
        "model.add(Activation('relu'))\n",
        "model.compile(loss='mse', optimizer=opt)\n"
      ],
      "metadata": {
        "id": "rJ4_bfl1s62d"
      },
      "execution_count": null,
      "outputs": []
    },
    {
      "cell_type": "code",
      "execution_count": null,
      "metadata": {
        "id": "lkMoYKjdZW6g",
        "colab": {
          "base_uri": "https://localhost:8080/"
        },
        "outputId": "17e4ab87-0d38-40c8-cd11-cbcdda15a942"
      },
      "outputs": [
        {
          "output_type": "stream",
          "name": "stdout",
          "text": [
            "Epoch 1/400\n",
            "4/4 [==============================] - 3s 185ms/step - loss: 0.0012 - val_loss: 0.0670\n",
            "Epoch 2/400\n",
            "4/4 [==============================] - 0s 47ms/step - loss: 0.0012 - val_loss: 0.0667\n",
            "Epoch 3/400\n",
            "4/4 [==============================] - 0s 46ms/step - loss: 0.0012 - val_loss: 0.0663\n",
            "Epoch 4/400\n",
            "4/4 [==============================] - 0s 49ms/step - loss: 0.0011 - val_loss: 0.0659\n",
            "Epoch 5/400\n",
            "4/4 [==============================] - 0s 46ms/step - loss: 0.0011 - val_loss: 0.0656\n",
            "Epoch 6/400\n",
            "4/4 [==============================] - 0s 75ms/step - loss: 0.0011 - val_loss: 0.0651\n",
            "Epoch 7/400\n",
            "4/4 [==============================] - 0s 49ms/step - loss: 0.0011 - val_loss: 0.0647\n",
            "Epoch 8/400\n",
            "4/4 [==============================] - 0s 89ms/step - loss: 0.0010 - val_loss: 0.0643\n",
            "Epoch 9/400\n",
            "4/4 [==============================] - 0s 91ms/step - loss: 9.9549e-04 - val_loss: 0.0639\n",
            "Epoch 10/400\n",
            "4/4 [==============================] - 0s 92ms/step - loss: 9.6821e-04 - val_loss: 0.0635\n",
            "Epoch 11/400\n",
            "4/4 [==============================] - 0s 71ms/step - loss: 9.4332e-04 - val_loss: 0.0631\n",
            "Epoch 12/400\n",
            "4/4 [==============================] - 0s 97ms/step - loss: 9.2004e-04 - val_loss: 0.0628\n",
            "Epoch 13/400\n",
            "4/4 [==============================] - 0s 89ms/step - loss: 8.9920e-04 - val_loss: 0.0624\n",
            "Epoch 14/400\n",
            "4/4 [==============================] - 0s 92ms/step - loss: 8.8133e-04 - val_loss: 0.0620\n",
            "Epoch 15/400\n",
            "4/4 [==============================] - 0s 93ms/step - loss: 8.6612e-04 - val_loss: 0.0617\n",
            "Epoch 16/400\n",
            "4/4 [==============================] - 0s 90ms/step - loss: 8.5314e-04 - val_loss: 0.0613\n",
            "Epoch 17/400\n",
            "4/4 [==============================] - 0s 55ms/step - loss: 8.4193e-04 - val_loss: 0.0609\n",
            "Epoch 18/400\n",
            "4/4 [==============================] - 0s 46ms/step - loss: 8.3201e-04 - val_loss: 0.0606\n",
            "Epoch 19/400\n",
            "4/4 [==============================] - 0s 46ms/step - loss: 8.2327e-04 - val_loss: 0.0602\n",
            "Epoch 20/400\n",
            "4/4 [==============================] - 0s 48ms/step - loss: 8.1529e-04 - val_loss: 0.0599\n",
            "Epoch 21/400\n",
            "4/4 [==============================] - 0s 48ms/step - loss: 8.0802e-04 - val_loss: 0.0596\n",
            "Epoch 22/400\n",
            "4/4 [==============================] - 0s 46ms/step - loss: 8.0103e-04 - val_loss: 0.0594\n",
            "Epoch 23/400\n",
            "4/4 [==============================] - 0s 46ms/step - loss: 7.9374e-04 - val_loss: 0.0591\n",
            "Epoch 24/400\n",
            "4/4 [==============================] - 0s 46ms/step - loss: 7.8604e-04 - val_loss: 0.0588\n",
            "Epoch 25/400\n",
            "4/4 [==============================] - 0s 51ms/step - loss: 7.7846e-04 - val_loss: 0.0586\n",
            "Epoch 26/400\n",
            "4/4 [==============================] - 0s 50ms/step - loss: 7.7149e-04 - val_loss: 0.0583\n",
            "Epoch 27/400\n",
            "4/4 [==============================] - 0s 49ms/step - loss: 7.6511e-04 - val_loss: 0.0580\n",
            "Epoch 28/400\n",
            "4/4 [==============================] - 0s 47ms/step - loss: 7.5921e-04 - val_loss: 0.0577\n",
            "Epoch 29/400\n",
            "4/4 [==============================] - 0s 50ms/step - loss: 7.5365e-04 - val_loss: 0.0574\n",
            "Epoch 30/400\n",
            "4/4 [==============================] - 0s 46ms/step - loss: 7.4830e-04 - val_loss: 0.0571\n",
            "Epoch 31/400\n",
            "4/4 [==============================] - 0s 49ms/step - loss: 7.4331e-04 - val_loss: 0.0567\n",
            "Epoch 32/400\n",
            "4/4 [==============================] - 0s 47ms/step - loss: 7.3856e-04 - val_loss: 0.0564\n",
            "Epoch 33/400\n",
            "4/4 [==============================] - 0s 48ms/step - loss: 7.3380e-04 - val_loss: 0.0561\n",
            "Epoch 34/400\n",
            "4/4 [==============================] - 0s 49ms/step - loss: 7.2889e-04 - val_loss: 0.0558\n",
            "Epoch 35/400\n",
            "4/4 [==============================] - 0s 47ms/step - loss: 7.2388e-04 - val_loss: 0.0555\n",
            "Epoch 36/400\n",
            "4/4 [==============================] - 0s 49ms/step - loss: 7.1861e-04 - val_loss: 0.0551\n",
            "Epoch 37/400\n",
            "4/4 [==============================] - 0s 45ms/step - loss: 7.1307e-04 - val_loss: 0.0548\n",
            "Epoch 38/400\n",
            "4/4 [==============================] - 0s 48ms/step - loss: 7.0729e-04 - val_loss: 0.0545\n",
            "Epoch 39/400\n",
            "4/4 [==============================] - 0s 49ms/step - loss: 7.0112e-04 - val_loss: 0.0541\n",
            "Epoch 40/400\n",
            "4/4 [==============================] - 0s 48ms/step - loss: 6.9480e-04 - val_loss: 0.0538\n",
            "Epoch 41/400\n",
            "4/4 [==============================] - 0s 50ms/step - loss: 6.8784e-04 - val_loss: 0.0535\n",
            "Epoch 42/400\n",
            "4/4 [==============================] - 0s 49ms/step - loss: 6.8050e-04 - val_loss: 0.0532\n",
            "Epoch 43/400\n",
            "4/4 [==============================] - 0s 47ms/step - loss: 6.7343e-04 - val_loss: 0.0529\n",
            "Epoch 44/400\n",
            "4/4 [==============================] - 0s 49ms/step - loss: 6.6688e-04 - val_loss: 0.0526\n",
            "Epoch 45/400\n",
            "4/4 [==============================] - 0s 52ms/step - loss: 6.6081e-04 - val_loss: 0.0522\n",
            "Epoch 46/400\n",
            "4/4 [==============================] - 0s 76ms/step - loss: 6.5511e-04 - val_loss: 0.0519\n",
            "Epoch 47/400\n",
            "4/4 [==============================] - 0s 47ms/step - loss: 6.4967e-04 - val_loss: 0.0516\n",
            "Epoch 48/400\n",
            "4/4 [==============================] - 0s 51ms/step - loss: 6.4441e-04 - val_loss: 0.0513\n",
            "Epoch 49/400\n",
            "4/4 [==============================] - 0s 53ms/step - loss: 6.3927e-04 - val_loss: 0.0510\n",
            "Epoch 50/400\n",
            "4/4 [==============================] - 0s 51ms/step - loss: 6.3421e-04 - val_loss: 0.0507\n",
            "Epoch 51/400\n",
            "4/4 [==============================] - 0s 48ms/step - loss: 6.2920e-04 - val_loss: 0.0504\n",
            "Epoch 52/400\n",
            "4/4 [==============================] - 0s 48ms/step - loss: 6.2423e-04 - val_loss: 0.0501\n",
            "Epoch 53/400\n",
            "4/4 [==============================] - 0s 52ms/step - loss: 6.1930e-04 - val_loss: 0.0499\n",
            "Epoch 54/400\n",
            "4/4 [==============================] - 0s 48ms/step - loss: 6.1441e-04 - val_loss: 0.0496\n",
            "Epoch 55/400\n",
            "4/4 [==============================] - 0s 47ms/step - loss: 6.0958e-04 - val_loss: 0.0493\n",
            "Epoch 56/400\n",
            "4/4 [==============================] - 0s 45ms/step - loss: 6.0481e-04 - val_loss: 0.0490\n",
            "Epoch 57/400\n",
            "4/4 [==============================] - 0s 49ms/step - loss: 6.0011e-04 - val_loss: 0.0487\n",
            "Epoch 58/400\n",
            "4/4 [==============================] - 0s 51ms/step - loss: 5.9548e-04 - val_loss: 0.0485\n",
            "Epoch 59/400\n",
            "4/4 [==============================] - 0s 49ms/step - loss: 5.9092e-04 - val_loss: 0.0482\n",
            "Epoch 60/400\n",
            "4/4 [==============================] - 0s 46ms/step - loss: 5.8645e-04 - val_loss: 0.0480\n",
            "Epoch 61/400\n",
            "4/4 [==============================] - 0s 52ms/step - loss: 5.8205e-04 - val_loss: 0.0477\n",
            "Epoch 62/400\n",
            "4/4 [==============================] - 0s 48ms/step - loss: 5.7775e-04 - val_loss: 0.0475\n",
            "Epoch 63/400\n",
            "4/4 [==============================] - 0s 50ms/step - loss: 5.7354e-04 - val_loss: 0.0472\n",
            "Epoch 64/400\n",
            "4/4 [==============================] - 0s 47ms/step - loss: 5.6942e-04 - val_loss: 0.0470\n",
            "Epoch 65/400\n",
            "4/4 [==============================] - 0s 47ms/step - loss: 5.6541e-04 - val_loss: 0.0467\n",
            "Epoch 66/400\n",
            "4/4 [==============================] - 0s 50ms/step - loss: 5.6149e-04 - val_loss: 0.0465\n",
            "Epoch 67/400\n",
            "4/4 [==============================] - 0s 48ms/step - loss: 5.5768e-04 - val_loss: 0.0462\n",
            "Epoch 68/400\n",
            "4/4 [==============================] - 0s 64ms/step - loss: 5.5397e-04 - val_loss: 0.0459\n",
            "Epoch 69/400\n",
            "4/4 [==============================] - 0s 49ms/step - loss: 5.5036e-04 - val_loss: 0.0457\n",
            "Epoch 70/400\n",
            "4/4 [==============================] - 0s 46ms/step - loss: 5.4686e-04 - val_loss: 0.0454\n",
            "Epoch 71/400\n",
            "4/4 [==============================] - 0s 51ms/step - loss: 5.4346e-04 - val_loss: 0.0451\n",
            "Epoch 72/400\n",
            "4/4 [==============================] - 0s 51ms/step - loss: 5.4017e-04 - val_loss: 0.0449\n",
            "Epoch 73/400\n",
            "4/4 [==============================] - 0s 44ms/step - loss: 5.3697e-04 - val_loss: 0.0446\n",
            "Epoch 74/400\n",
            "4/4 [==============================] - 0s 95ms/step - loss: 5.3388e-04 - val_loss: 0.0444\n",
            "Epoch 75/400\n",
            "4/4 [==============================] - 0s 74ms/step - loss: 5.3090e-04 - val_loss: 0.0442\n",
            "Epoch 76/400\n",
            "4/4 [==============================] - 0s 93ms/step - loss: 5.2801e-04 - val_loss: 0.0440\n",
            "Epoch 77/400\n",
            "4/4 [==============================] - 0s 91ms/step - loss: 5.2522e-04 - val_loss: 0.0438\n",
            "Epoch 78/400\n",
            "4/4 [==============================] - 0s 90ms/step - loss: 5.2252e-04 - val_loss: 0.0436\n",
            "Epoch 79/400\n",
            "4/4 [==============================] - 0s 91ms/step - loss: 5.1992e-04 - val_loss: 0.0434\n",
            "Epoch 80/400\n",
            "4/4 [==============================] - 0s 65ms/step - loss: 5.1741e-04 - val_loss: 0.0432\n",
            "Epoch 81/400\n",
            "4/4 [==============================] - 0s 88ms/step - loss: 5.1500e-04 - val_loss: 0.0430\n",
            "Epoch 82/400\n",
            "4/4 [==============================] - 0s 69ms/step - loss: 5.1268e-04 - val_loss: 0.0428\n",
            "Epoch 83/400\n",
            "4/4 [==============================] - 0s 73ms/step - loss: 5.1045e-04 - val_loss: 0.0427\n",
            "Epoch 84/400\n",
            "4/4 [==============================] - 0s 49ms/step - loss: 5.0831e-04 - val_loss: 0.0425\n",
            "Epoch 85/400\n",
            "4/4 [==============================] - 0s 52ms/step - loss: 5.0626e-04 - val_loss: 0.0424\n",
            "Epoch 86/400\n",
            "4/4 [==============================] - 0s 53ms/step - loss: 5.0429e-04 - val_loss: 0.0423\n",
            "Epoch 87/400\n",
            "4/4 [==============================] - 0s 53ms/step - loss: 5.0240e-04 - val_loss: 0.0421\n",
            "Epoch 88/400\n",
            "4/4 [==============================] - 0s 49ms/step - loss: 5.0059e-04 - val_loss: 0.0420\n",
            "Epoch 89/400\n",
            "4/4 [==============================] - 0s 47ms/step - loss: 4.9885e-04 - val_loss: 0.0419\n",
            "Epoch 90/400\n",
            "4/4 [==============================] - 0s 45ms/step - loss: 4.9719e-04 - val_loss: 0.0418\n",
            "Epoch 91/400\n",
            "4/4 [==============================] - 0s 50ms/step - loss: 4.9560e-04 - val_loss: 0.0417\n",
            "Epoch 92/400\n",
            "4/4 [==============================] - 0s 49ms/step - loss: 4.9407e-04 - val_loss: 0.0416\n",
            "Epoch 93/400\n",
            "4/4 [==============================] - 0s 48ms/step - loss: 4.9261e-04 - val_loss: 0.0415\n",
            "Epoch 94/400\n",
            "4/4 [==============================] - 0s 50ms/step - loss: 4.9121e-04 - val_loss: 0.0414\n",
            "Epoch 95/400\n",
            "4/4 [==============================] - 0s 47ms/step - loss: 4.8986e-04 - val_loss: 0.0413\n",
            "Epoch 96/400\n",
            "4/4 [==============================] - 0s 45ms/step - loss: 4.8858e-04 - val_loss: 0.0412\n",
            "Epoch 97/400\n",
            "4/4 [==============================] - 0s 50ms/step - loss: 4.8735e-04 - val_loss: 0.0412\n",
            "Epoch 98/400\n",
            "4/4 [==============================] - 0s 47ms/step - loss: 4.8618e-04 - val_loss: 0.0411\n",
            "Epoch 99/400\n",
            "4/4 [==============================] - 0s 49ms/step - loss: 4.8506e-04 - val_loss: 0.0410\n",
            "Epoch 100/400\n",
            "4/4 [==============================] - 0s 51ms/step - loss: 4.8399e-04 - val_loss: 0.0410\n",
            "Epoch 101/400\n",
            "4/4 [==============================] - 0s 47ms/step - loss: 4.8295e-04 - val_loss: 0.0409\n",
            "Epoch 102/400\n",
            "4/4 [==============================] - 0s 47ms/step - loss: 4.8196e-04 - val_loss: 0.0409\n",
            "Epoch 103/400\n",
            "4/4 [==============================] - 0s 77ms/step - loss: 4.8102e-04 - val_loss: 0.0408\n",
            "Epoch 104/400\n",
            "4/4 [==============================] - 0s 48ms/step - loss: 4.8011e-04 - val_loss: 0.0408\n",
            "Epoch 105/400\n",
            "4/4 [==============================] - 0s 50ms/step - loss: 4.7925e-04 - val_loss: 0.0408\n",
            "Epoch 106/400\n",
            "4/4 [==============================] - 0s 50ms/step - loss: 4.7842e-04 - val_loss: 0.0407\n",
            "Epoch 107/400\n",
            "4/4 [==============================] - 0s 49ms/step - loss: 4.7763e-04 - val_loss: 0.0407\n",
            "Epoch 108/400\n",
            "4/4 [==============================] - 0s 48ms/step - loss: 4.7688e-04 - val_loss: 0.0407\n",
            "Epoch 109/400\n",
            "4/4 [==============================] - 0s 50ms/step - loss: 4.7615e-04 - val_loss: 0.0407\n",
            "Epoch 110/400\n",
            "4/4 [==============================] - 0s 49ms/step - loss: 4.7545e-04 - val_loss: 0.0406\n",
            "Epoch 111/400\n",
            "4/4 [==============================] - 0s 48ms/step - loss: 4.7478e-04 - val_loss: 0.0406\n",
            "Epoch 112/400\n",
            "4/4 [==============================] - 0s 50ms/step - loss: 4.7413e-04 - val_loss: 0.0406\n",
            "Epoch 113/400\n",
            "4/4 [==============================] - 0s 47ms/step - loss: 4.7350e-04 - val_loss: 0.0406\n",
            "Epoch 114/400\n",
            "4/4 [==============================] - 0s 49ms/step - loss: 4.7290e-04 - val_loss: 0.0406\n",
            "Epoch 115/400\n",
            "4/4 [==============================] - 0s 53ms/step - loss: 4.7232e-04 - val_loss: 0.0406\n",
            "Epoch 116/400\n",
            "4/4 [==============================] - 0s 45ms/step - loss: 4.7176e-04 - val_loss: 0.0406\n",
            "Epoch 117/400\n",
            "4/4 [==============================] - 0s 48ms/step - loss: 4.7122e-04 - val_loss: 0.0406\n",
            "Epoch 118/400\n",
            "4/4 [==============================] - 0s 50ms/step - loss: 4.7071e-04 - val_loss: 0.0406\n",
            "Epoch 119/400\n",
            "4/4 [==============================] - 0s 46ms/step - loss: 4.7022e-04 - val_loss: 0.0406\n",
            "Epoch 120/400\n",
            "4/4 [==============================] - 0s 50ms/step - loss: 4.6976e-04 - val_loss: 0.0406\n",
            "Epoch 121/400\n",
            "4/4 [==============================] - 0s 49ms/step - loss: 4.6931e-04 - val_loss: 0.0406\n",
            "Epoch 122/400\n",
            "4/4 [==============================] - 0s 49ms/step - loss: 4.6888e-04 - val_loss: 0.0406\n"
          ]
        }
      ],
      "source": [
        "#@title Training\n",
        "\n",
        "# Fit network\n",
        "my_callbacks = [\n",
        "    tf.keras.callbacks.EarlyStopping(patience=5),\n",
        "#     tf.keras.callbacks.ModelCheckpoint(filepath='model.{epoch:02d}-{val_loss:.2f}.h5'),\n",
        "    # tf.keras.callbacks.TensorBoard(log_dir='./logs'),\n",
        "]\n",
        "history = model.fit(X_train, y_train, epochs=400, batch_size=100, verbose=1, validation_data=(X_test, y_test), shuffle=False, callbacks=my_callbacks)\n"
      ]
    },
    {
      "cell_type": "code",
      "source": [],
      "metadata": {
        "id": "5N_KZSz3tHAy"
      },
      "execution_count": null,
      "outputs": []
    }
  ]
}